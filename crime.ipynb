{
 "cells": [
  {
   "cell_type": "code",
   "execution_count": 1,
   "id": "e906e4da",
   "metadata": {
    "ExecuteTime": {
     "end_time": "2023-07-01T15:53:47.830005Z",
     "start_time": "2023-07-01T15:53:46.956700Z"
    }
   },
   "outputs": [],
   "source": [
    "import pandas as pd\n",
    "import seaborn as sns\n",
    "import numpy as np"
   ]
  },
  {
   "cell_type": "code",
   "execution_count": 2,
   "id": "950aefa7",
   "metadata": {
    "ExecuteTime": {
     "end_time": "2023-07-01T15:53:50.622420Z",
     "start_time": "2023-07-01T15:53:47.833011Z"
    }
   },
   "outputs": [
    {
     "data": {
      "text/html": [
       "<div>\n",
       "<style scoped>\n",
       "    .dataframe tbody tr th:only-of-type {\n",
       "        vertical-align: middle;\n",
       "    }\n",
       "\n",
       "    .dataframe tbody tr th {\n",
       "        vertical-align: top;\n",
       "    }\n",
       "\n",
       "    .dataframe thead th {\n",
       "        text-align: right;\n",
       "    }\n",
       "</style>\n",
       "<table border=\"1\" class=\"dataframe\">\n",
       "  <thead>\n",
       "    <tr style=\"text-align: right;\">\n",
       "      <th></th>\n",
       "      <th>DR_NO</th>\n",
       "      <th>Date Rptd</th>\n",
       "      <th>DATE OCC</th>\n",
       "      <th>TIME OCC</th>\n",
       "      <th>AREA</th>\n",
       "      <th>AREA NAME</th>\n",
       "      <th>Rpt Dist No</th>\n",
       "      <th>Part 1-2</th>\n",
       "      <th>Crm Cd</th>\n",
       "      <th>Crm Cd Desc</th>\n",
       "      <th>...</th>\n",
       "      <th>Status</th>\n",
       "      <th>Status Desc</th>\n",
       "      <th>Crm Cd 1</th>\n",
       "      <th>Crm Cd 2</th>\n",
       "      <th>Crm Cd 3</th>\n",
       "      <th>Crm Cd 4</th>\n",
       "      <th>LOCATION</th>\n",
       "      <th>Cross Street</th>\n",
       "      <th>LAT</th>\n",
       "      <th>LON</th>\n",
       "    </tr>\n",
       "  </thead>\n",
       "  <tbody>\n",
       "    <tr>\n",
       "      <th>0</th>\n",
       "      <td>10304468</td>\n",
       "      <td>01/08/2020 12:00:00 AM</td>\n",
       "      <td>01/08/2020 12:00:00 AM</td>\n",
       "      <td>2230</td>\n",
       "      <td>3</td>\n",
       "      <td>Southwest</td>\n",
       "      <td>377</td>\n",
       "      <td>2</td>\n",
       "      <td>624</td>\n",
       "      <td>BATTERY - SIMPLE ASSAULT</td>\n",
       "      <td>...</td>\n",
       "      <td>AO</td>\n",
       "      <td>Adult Other</td>\n",
       "      <td>624.0</td>\n",
       "      <td>NaN</td>\n",
       "      <td>NaN</td>\n",
       "      <td>NaN</td>\n",
       "      <td>1100 W  39TH                         PL</td>\n",
       "      <td>NaN</td>\n",
       "      <td>34.0141</td>\n",
       "      <td>-118.2978</td>\n",
       "    </tr>\n",
       "    <tr>\n",
       "      <th>1</th>\n",
       "      <td>190101086</td>\n",
       "      <td>01/02/2020 12:00:00 AM</td>\n",
       "      <td>01/01/2020 12:00:00 AM</td>\n",
       "      <td>330</td>\n",
       "      <td>1</td>\n",
       "      <td>Central</td>\n",
       "      <td>163</td>\n",
       "      <td>2</td>\n",
       "      <td>624</td>\n",
       "      <td>BATTERY - SIMPLE ASSAULT</td>\n",
       "      <td>...</td>\n",
       "      <td>IC</td>\n",
       "      <td>Invest Cont</td>\n",
       "      <td>624.0</td>\n",
       "      <td>NaN</td>\n",
       "      <td>NaN</td>\n",
       "      <td>NaN</td>\n",
       "      <td>700 S  HILL                         ST</td>\n",
       "      <td>NaN</td>\n",
       "      <td>34.0459</td>\n",
       "      <td>-118.2545</td>\n",
       "    </tr>\n",
       "    <tr>\n",
       "      <th>2</th>\n",
       "      <td>200110444</td>\n",
       "      <td>04/14/2020 12:00:00 AM</td>\n",
       "      <td>02/13/2020 12:00:00 AM</td>\n",
       "      <td>1200</td>\n",
       "      <td>1</td>\n",
       "      <td>Central</td>\n",
       "      <td>155</td>\n",
       "      <td>2</td>\n",
       "      <td>845</td>\n",
       "      <td>SEX OFFENDER REGISTRANT OUT OF COMPLIANCE</td>\n",
       "      <td>...</td>\n",
       "      <td>AA</td>\n",
       "      <td>Adult Arrest</td>\n",
       "      <td>845.0</td>\n",
       "      <td>NaN</td>\n",
       "      <td>NaN</td>\n",
       "      <td>NaN</td>\n",
       "      <td>200 E  6TH                          ST</td>\n",
       "      <td>NaN</td>\n",
       "      <td>34.0448</td>\n",
       "      <td>-118.2474</td>\n",
       "    </tr>\n",
       "    <tr>\n",
       "      <th>3</th>\n",
       "      <td>191501505</td>\n",
       "      <td>01/01/2020 12:00:00 AM</td>\n",
       "      <td>01/01/2020 12:00:00 AM</td>\n",
       "      <td>1730</td>\n",
       "      <td>15</td>\n",
       "      <td>N Hollywood</td>\n",
       "      <td>1543</td>\n",
       "      <td>2</td>\n",
       "      <td>745</td>\n",
       "      <td>VANDALISM - MISDEAMEANOR ($399 OR UNDER)</td>\n",
       "      <td>...</td>\n",
       "      <td>IC</td>\n",
       "      <td>Invest Cont</td>\n",
       "      <td>745.0</td>\n",
       "      <td>998.0</td>\n",
       "      <td>NaN</td>\n",
       "      <td>NaN</td>\n",
       "      <td>5400    CORTEEN                      PL</td>\n",
       "      <td>NaN</td>\n",
       "      <td>34.1685</td>\n",
       "      <td>-118.4019</td>\n",
       "    </tr>\n",
       "    <tr>\n",
       "      <th>4</th>\n",
       "      <td>191921269</td>\n",
       "      <td>01/01/2020 12:00:00 AM</td>\n",
       "      <td>01/01/2020 12:00:00 AM</td>\n",
       "      <td>415</td>\n",
       "      <td>19</td>\n",
       "      <td>Mission</td>\n",
       "      <td>1998</td>\n",
       "      <td>2</td>\n",
       "      <td>740</td>\n",
       "      <td>VANDALISM - FELONY ($400 &amp; OVER, ALL CHURCH VA...</td>\n",
       "      <td>...</td>\n",
       "      <td>IC</td>\n",
       "      <td>Invest Cont</td>\n",
       "      <td>740.0</td>\n",
       "      <td>NaN</td>\n",
       "      <td>NaN</td>\n",
       "      <td>NaN</td>\n",
       "      <td>14400    TITUS                        ST</td>\n",
       "      <td>NaN</td>\n",
       "      <td>34.2198</td>\n",
       "      <td>-118.4468</td>\n",
       "    </tr>\n",
       "  </tbody>\n",
       "</table>\n",
       "<p>5 rows × 28 columns</p>\n",
       "</div>"
      ],
      "text/plain": [
       "       DR_NO               Date Rptd                DATE OCC  TIME OCC  AREA  \\\n",
       "0   10304468  01/08/2020 12:00:00 AM  01/08/2020 12:00:00 AM      2230     3   \n",
       "1  190101086  01/02/2020 12:00:00 AM  01/01/2020 12:00:00 AM       330     1   \n",
       "2  200110444  04/14/2020 12:00:00 AM  02/13/2020 12:00:00 AM      1200     1   \n",
       "3  191501505  01/01/2020 12:00:00 AM  01/01/2020 12:00:00 AM      1730    15   \n",
       "4  191921269  01/01/2020 12:00:00 AM  01/01/2020 12:00:00 AM       415    19   \n",
       "\n",
       "     AREA NAME  Rpt Dist No  Part 1-2  Crm Cd  \\\n",
       "0    Southwest          377         2     624   \n",
       "1      Central          163         2     624   \n",
       "2      Central          155         2     845   \n",
       "3  N Hollywood         1543         2     745   \n",
       "4      Mission         1998         2     740   \n",
       "\n",
       "                                         Crm Cd Desc  ... Status  \\\n",
       "0                           BATTERY - SIMPLE ASSAULT  ...     AO   \n",
       "1                           BATTERY - SIMPLE ASSAULT  ...     IC   \n",
       "2          SEX OFFENDER REGISTRANT OUT OF COMPLIANCE  ...     AA   \n",
       "3           VANDALISM - MISDEAMEANOR ($399 OR UNDER)  ...     IC   \n",
       "4  VANDALISM - FELONY ($400 & OVER, ALL CHURCH VA...  ...     IC   \n",
       "\n",
       "    Status Desc Crm Cd 1 Crm Cd 2  Crm Cd 3 Crm Cd 4  \\\n",
       "0   Adult Other    624.0      NaN       NaN      NaN   \n",
       "1   Invest Cont    624.0      NaN       NaN      NaN   \n",
       "2  Adult Arrest    845.0      NaN       NaN      NaN   \n",
       "3   Invest Cont    745.0    998.0       NaN      NaN   \n",
       "4   Invest Cont    740.0      NaN       NaN      NaN   \n",
       "\n",
       "                                   LOCATION Cross Street      LAT       LON  \n",
       "0   1100 W  39TH                         PL          NaN  34.0141 -118.2978  \n",
       "1    700 S  HILL                         ST          NaN  34.0459 -118.2545  \n",
       "2    200 E  6TH                          ST          NaN  34.0448 -118.2474  \n",
       "3   5400    CORTEEN                      PL          NaN  34.1685 -118.4019  \n",
       "4  14400    TITUS                        ST          NaN  34.2198 -118.4468  \n",
       "\n",
       "[5 rows x 28 columns]"
      ]
     },
     "execution_count": 2,
     "metadata": {},
     "output_type": "execute_result"
    }
   ],
   "source": [
    "crime = pd.read_csv('~/Repositories/Python/.datasets/16./Crime_Data_from_2020_to_Present.csv')\n",
    "crime.head()"
   ]
  },
  {
   "cell_type": "code",
   "execution_count": 3,
   "id": "2a929d77",
   "metadata": {
    "ExecuteTime": {
     "end_time": "2023-07-01T15:53:50.939071Z",
     "start_time": "2023-07-01T15:53:50.623806Z"
    }
   },
   "outputs": [
    {
     "name": "stdout",
     "output_type": "stream",
     "text": [
      "<class 'pandas.core.frame.DataFrame'>\n",
      "RangeIndex: 748571 entries, 0 to 748570\n",
      "Data columns (total 28 columns):\n",
      " #   Column          Non-Null Count   Dtype  \n",
      "---  ------          --------------   -----  \n",
      " 0   DR_NO           748571 non-null  int64  \n",
      " 1   Date Rptd       748571 non-null  object \n",
      " 2   DATE OCC        748571 non-null  object \n",
      " 3   TIME OCC        748571 non-null  int64  \n",
      " 4   AREA            748571 non-null  int64  \n",
      " 5   AREA NAME       748571 non-null  object \n",
      " 6   Rpt Dist No     748571 non-null  int64  \n",
      " 7   Part 1-2        748571 non-null  int64  \n",
      " 8   Crm Cd          748571 non-null  int64  \n",
      " 9   Crm Cd Desc     748571 non-null  object \n",
      " 10  Mocodes         645904 non-null  object \n",
      " 11  Vict Age        748571 non-null  int64  \n",
      " 12  Vict Sex        650866 non-null  object \n",
      " 13  Vict Descent    650860 non-null  object \n",
      " 14  Premis Cd       748562 non-null  float64\n",
      " 15  Premis Desc     748141 non-null  object \n",
      " 16  Weapon Used Cd  259881 non-null  float64\n",
      " 17  Weapon Desc     259881 non-null  object \n",
      " 18  Status          748571 non-null  object \n",
      " 19  Status Desc     748571 non-null  object \n",
      " 20  Crm Cd 1        748561 non-null  float64\n",
      " 21  Crm Cd 2        55422 non-null   float64\n",
      " 22  Crm Cd 3        1855 non-null    float64\n",
      " 23  Crm Cd 4        54 non-null      float64\n",
      " 24  LOCATION        748571 non-null  object \n",
      " 25  Cross Street    120438 non-null  object \n",
      " 26  LAT             748571 non-null  float64\n",
      " 27  LON             748571 non-null  float64\n",
      "dtypes: float64(8), int64(7), object(13)\n",
      "memory usage: 159.9+ MB\n"
     ]
    }
   ],
   "source": [
    "crime.info()"
   ]
  },
  {
   "cell_type": "code",
   "execution_count": 4,
   "id": "cdbd95bc",
   "metadata": {
    "ExecuteTime": {
     "end_time": "2023-07-01T15:53:51.320161Z",
     "start_time": "2023-07-01T15:53:50.942166Z"
    },
    "scrolled": true
   },
   "outputs": [
    {
     "data": {
      "text/html": [
       "<div>\n",
       "<style scoped>\n",
       "    .dataframe tbody tr th:only-of-type {\n",
       "        vertical-align: middle;\n",
       "    }\n",
       "\n",
       "    .dataframe tbody tr th {\n",
       "        vertical-align: top;\n",
       "    }\n",
       "\n",
       "    .dataframe thead th {\n",
       "        text-align: right;\n",
       "    }\n",
       "</style>\n",
       "<table border=\"1\" class=\"dataframe\">\n",
       "  <thead>\n",
       "    <tr style=\"text-align: right;\">\n",
       "      <th></th>\n",
       "      <th>DR_NO</th>\n",
       "      <th>TIME OCC</th>\n",
       "      <th>AREA</th>\n",
       "      <th>Rpt Dist No</th>\n",
       "      <th>Part 1-2</th>\n",
       "      <th>Crm Cd</th>\n",
       "      <th>Vict Age</th>\n",
       "      <th>Premis Cd</th>\n",
       "      <th>Weapon Used Cd</th>\n",
       "      <th>Crm Cd 1</th>\n",
       "      <th>Crm Cd 2</th>\n",
       "      <th>Crm Cd 3</th>\n",
       "      <th>Crm Cd 4</th>\n",
       "      <th>LAT</th>\n",
       "      <th>LON</th>\n",
       "    </tr>\n",
       "  </thead>\n",
       "  <tbody>\n",
       "    <tr>\n",
       "      <th>count</th>\n",
       "      <td>7.485710e+05</td>\n",
       "      <td>748571.000000</td>\n",
       "      <td>748571.000000</td>\n",
       "      <td>748571.000000</td>\n",
       "      <td>748571.00000</td>\n",
       "      <td>748571.000000</td>\n",
       "      <td>748571.000000</td>\n",
       "      <td>748562.000000</td>\n",
       "      <td>259881.000000</td>\n",
       "      <td>748561.000000</td>\n",
       "      <td>55422.000000</td>\n",
       "      <td>1855.000000</td>\n",
       "      <td>54.000000</td>\n",
       "      <td>748571.000000</td>\n",
       "      <td>748571.000000</td>\n",
       "    </tr>\n",
       "    <tr>\n",
       "      <th>mean</th>\n",
       "      <td>2.146915e+08</td>\n",
       "      <td>1334.941821</td>\n",
       "      <td>10.717717</td>\n",
       "      <td>1118.170605</td>\n",
       "      <td>1.41580</td>\n",
       "      <td>500.931254</td>\n",
       "      <td>29.917874</td>\n",
       "      <td>305.926603</td>\n",
       "      <td>362.596969</td>\n",
       "      <td>500.672831</td>\n",
       "      <td>957.258544</td>\n",
       "      <td>983.760647</td>\n",
       "      <td>989.925926</td>\n",
       "      <td>33.970403</td>\n",
       "      <td>-117.995773</td>\n",
       "    </tr>\n",
       "    <tr>\n",
       "      <th>std</th>\n",
       "      <td>1.024255e+07</td>\n",
       "      <td>653.696944</td>\n",
       "      <td>6.091843</td>\n",
       "      <td>609.192255</td>\n",
       "      <td>0.49286</td>\n",
       "      <td>207.984492</td>\n",
       "      <td>21.727026</td>\n",
       "      <td>216.798839</td>\n",
       "      <td>123.705127</td>\n",
       "      <td>207.775106</td>\n",
       "      <td>111.940891</td>\n",
       "      <td>51.402780</td>\n",
       "      <td>29.327591</td>\n",
       "      <td>1.875144</td>\n",
       "      <td>6.502707</td>\n",
       "    </tr>\n",
       "    <tr>\n",
       "      <th>min</th>\n",
       "      <td>8.170000e+02</td>\n",
       "      <td>1.000000</td>\n",
       "      <td>1.000000</td>\n",
       "      <td>101.000000</td>\n",
       "      <td>1.00000</td>\n",
       "      <td>110.000000</td>\n",
       "      <td>-2.000000</td>\n",
       "      <td>101.000000</td>\n",
       "      <td>101.000000</td>\n",
       "      <td>110.000000</td>\n",
       "      <td>210.000000</td>\n",
       "      <td>434.000000</td>\n",
       "      <td>821.000000</td>\n",
       "      <td>0.000000</td>\n",
       "      <td>-118.667600</td>\n",
       "    </tr>\n",
       "    <tr>\n",
       "      <th>25%</th>\n",
       "      <td>2.021099e+08</td>\n",
       "      <td>900.000000</td>\n",
       "      <td>6.000000</td>\n",
       "      <td>622.000000</td>\n",
       "      <td>1.00000</td>\n",
       "      <td>331.000000</td>\n",
       "      <td>11.000000</td>\n",
       "      <td>101.000000</td>\n",
       "      <td>309.000000</td>\n",
       "      <td>331.000000</td>\n",
       "      <td>998.000000</td>\n",
       "      <td>998.000000</td>\n",
       "      <td>998.000000</td>\n",
       "      <td>34.013300</td>\n",
       "      <td>-118.429500</td>\n",
       "    </tr>\n",
       "    <tr>\n",
       "      <th>50%</th>\n",
       "      <td>2.119064e+08</td>\n",
       "      <td>1415.000000</td>\n",
       "      <td>11.000000</td>\n",
       "      <td>1142.000000</td>\n",
       "      <td>1.00000</td>\n",
       "      <td>442.000000</td>\n",
       "      <td>31.000000</td>\n",
       "      <td>203.000000</td>\n",
       "      <td>400.000000</td>\n",
       "      <td>442.000000</td>\n",
       "      <td>998.000000</td>\n",
       "      <td>998.000000</td>\n",
       "      <td>998.000000</td>\n",
       "      <td>34.058500</td>\n",
       "      <td>-118.321500</td>\n",
       "    </tr>\n",
       "    <tr>\n",
       "      <th>75%</th>\n",
       "      <td>2.214182e+08</td>\n",
       "      <td>1900.000000</td>\n",
       "      <td>16.000000</td>\n",
       "      <td>1617.000000</td>\n",
       "      <td>2.00000</td>\n",
       "      <td>626.000000</td>\n",
       "      <td>45.000000</td>\n",
       "      <td>501.000000</td>\n",
       "      <td>400.000000</td>\n",
       "      <td>626.000000</td>\n",
       "      <td>998.000000</td>\n",
       "      <td>998.000000</td>\n",
       "      <td>998.000000</td>\n",
       "      <td>34.163000</td>\n",
       "      <td>-118.273900</td>\n",
       "    </tr>\n",
       "    <tr>\n",
       "      <th>max</th>\n",
       "      <td>2.399165e+08</td>\n",
       "      <td>2359.000000</td>\n",
       "      <td>21.000000</td>\n",
       "      <td>2199.000000</td>\n",
       "      <td>2.00000</td>\n",
       "      <td>956.000000</td>\n",
       "      <td>120.000000</td>\n",
       "      <td>974.000000</td>\n",
       "      <td>516.000000</td>\n",
       "      <td>956.000000</td>\n",
       "      <td>999.000000</td>\n",
       "      <td>999.000000</td>\n",
       "      <td>999.000000</td>\n",
       "      <td>34.334300</td>\n",
       "      <td>0.000000</td>\n",
       "    </tr>\n",
       "  </tbody>\n",
       "</table>\n",
       "</div>"
      ],
      "text/plain": [
       "              DR_NO       TIME OCC           AREA    Rpt Dist No  \\\n",
       "count  7.485710e+05  748571.000000  748571.000000  748571.000000   \n",
       "mean   2.146915e+08    1334.941821      10.717717    1118.170605   \n",
       "std    1.024255e+07     653.696944       6.091843     609.192255   \n",
       "min    8.170000e+02       1.000000       1.000000     101.000000   \n",
       "25%    2.021099e+08     900.000000       6.000000     622.000000   \n",
       "50%    2.119064e+08    1415.000000      11.000000    1142.000000   \n",
       "75%    2.214182e+08    1900.000000      16.000000    1617.000000   \n",
       "max    2.399165e+08    2359.000000      21.000000    2199.000000   \n",
       "\n",
       "           Part 1-2         Crm Cd       Vict Age      Premis Cd  \\\n",
       "count  748571.00000  748571.000000  748571.000000  748562.000000   \n",
       "mean        1.41580     500.931254      29.917874     305.926603   \n",
       "std         0.49286     207.984492      21.727026     216.798839   \n",
       "min         1.00000     110.000000      -2.000000     101.000000   \n",
       "25%         1.00000     331.000000      11.000000     101.000000   \n",
       "50%         1.00000     442.000000      31.000000     203.000000   \n",
       "75%         2.00000     626.000000      45.000000     501.000000   \n",
       "max         2.00000     956.000000     120.000000     974.000000   \n",
       "\n",
       "       Weapon Used Cd       Crm Cd 1      Crm Cd 2     Crm Cd 3    Crm Cd 4  \\\n",
       "count   259881.000000  748561.000000  55422.000000  1855.000000   54.000000   \n",
       "mean       362.596969     500.672831    957.258544   983.760647  989.925926   \n",
       "std        123.705127     207.775106    111.940891    51.402780   29.327591   \n",
       "min        101.000000     110.000000    210.000000   434.000000  821.000000   \n",
       "25%        309.000000     331.000000    998.000000   998.000000  998.000000   \n",
       "50%        400.000000     442.000000    998.000000   998.000000  998.000000   \n",
       "75%        400.000000     626.000000    998.000000   998.000000  998.000000   \n",
       "max        516.000000     956.000000    999.000000   999.000000  999.000000   \n",
       "\n",
       "                 LAT            LON  \n",
       "count  748571.000000  748571.000000  \n",
       "mean       33.970403    -117.995773  \n",
       "std         1.875144       6.502707  \n",
       "min         0.000000    -118.667600  \n",
       "25%        34.013300    -118.429500  \n",
       "50%        34.058500    -118.321500  \n",
       "75%        34.163000    -118.273900  \n",
       "max        34.334300       0.000000  "
      ]
     },
     "execution_count": 4,
     "metadata": {},
     "output_type": "execute_result"
    }
   ],
   "source": [
    "crime.describe()"
   ]
  },
  {
   "cell_type": "markdown",
   "id": "0839e9dd",
   "metadata": {},
   "source": [
    "# <center> **О датасете**\n",
    "\n",
    "The dataset that will be presented in the next lines is available on the [Los Angeles Open Data](https://data.lacity.org), for this purpose, I've used the dataset [\"Crime Data from 2020 to Present\"](https://data.lacity.org/Public-Safety/Crime-Data-from-2020-to-Present/2nrs-mtv8), which covers crime incidents in Los Angeles between the years of 2020 and 2023.\n",
    "\n",
    "Below are all the variables in the dataset, followed by its description:\n",
    "\n",
    "* `DR_NO` - Division of Records Number: Official file number made up of a 2 digit year, area ID, and 5 digits.\n",
    "* `DATE OCC` - Date of crime occurrence(YYYY-MM-DD)\n",
    "* `AREA` - The LAPD has 21 Community Police Stations referred to as Geographic Areas within the department. These Geographic Areas are sequentially numbered from 1-21.\n",
    "* `AREA NAME` - The 21 Geographic Areas or Patrol Divisions are also given a name designation that references a landmark or the surrounding community that it is responsible for.\n",
    "* `Rpt Dist No` - Code that represents a sub-area within a Geographic Area.\n",
    "* `Crm Cd` - Indicates the crime committed.\n",
    "* `Crm Cd Desc` - Defines the Crime Code provided.\n",
    "* `Vict Age` - Указывает на возраст жертвы\n",
    "* `Vict Sex` - F: Женщина M: Мужчина X: Неизвестно H: Гермафродит\n",
    "* `Vict Descent` - Код принадлежности: **A** - Other Asian **B** - Black **C** - Chinese **D** - Cambodian **F** - Filipino **G** - Guamanian **H** - Hispanic/Latin/Mexican **I** - American Indian/Alaskan Native **J** - Japanese **K** - Korean **L** - Laotian **O** - Other **P** - Pacific Islander **S** - Samoan **U** - Hawaiian **V** - Vietnamese **W** - White **X** - Unknown **Z** - Asian Indian\n",
    "* `Premis Cd` - The type of structure, vehicle, or location where the crime took place.\n",
    "* `Premis Desc` - Defines the Premise Code provided.\n",
    "* `Weapon Used Cd` - Тип оружия, использованного при совершении преступления. \n",
    "* `Weapon Desc` - Определяет предоставленный код используемого оружия.\n",
    "* `LOCATION` - Уличный адрес места преступления, округлен до ближайшего ста кварталов для сохранения анонимности.\n",
    "* `LAT` - Latitude Coordinate\n",
    "* `LON` - Longitude Coordinate"
   ]
  },
  {
   "cell_type": "code",
   "execution_count": 5,
   "id": "55dcb9c0",
   "metadata": {
    "ExecuteTime": {
     "end_time": "2023-07-01T15:53:51.332453Z",
     "start_time": "2023-07-01T15:53:51.321358Z"
    }
   },
   "outputs": [
    {
     "data": {
      "text/plain": [
       "Vict Age\n",
       "-2          11\n",
       "-1          46\n",
       " 0      182559\n",
       " 2         328\n",
       " 3         388\n",
       "         ...  \n",
       " 96         73\n",
       " 97         57\n",
       " 98         56\n",
       " 99        277\n",
       " 120         1\n",
       "Name: count, Length: 102, dtype: int64"
      ]
     },
     "execution_count": 5,
     "metadata": {},
     "output_type": "execute_result"
    }
   ],
   "source": [
    "crime['Vict Age'].value_counts().sort_index()"
   ]
  },
  {
   "cell_type": "code",
   "execution_count": 6,
   "id": "ae4feb35",
   "metadata": {
    "ExecuteTime": {
     "end_time": "2023-07-01T15:53:51.796184Z",
     "start_time": "2023-07-01T15:53:51.335085Z"
    }
   },
   "outputs": [
    {
     "data": {
      "text/plain": [
       "Text(0.5, 1.0, 'Гистограмма возраста жертв')"
      ]
     },
     "execution_count": 6,
     "metadata": {},
     "output_type": "execute_result"
    },
    {
     "data": {
      "image/png": "[encoded data removed]",
      "text/plain": [
       "<Figure size 640x480 with 1 Axes>"
      ]
     },
     "metadata": {},
     "output_type": "display_data"
    }
   ],
   "source": [
    "crime['Vict Age'].hist(bins=120).set_title('Гистограмма возраста жертв')"
   ]
  },
  {
   "cell_type": "markdown",
   "id": "9cad2cbe",
   "metadata": {},
   "source": [
    "### Нули это неизвестный возраст, выбросим его"
   ]
  },
  {
   "cell_type": "code",
   "execution_count": 7,
   "id": "c8b7ee2c",
   "metadata": {
    "ExecuteTime": {
     "end_time": "2023-07-01T15:53:53.278307Z",
     "start_time": "2023-07-01T15:53:53.178983Z"
    }
   },
   "outputs": [],
   "source": [
    "crime = crime.loc[crime['Vict Age'] >= 1]"
   ]
  },
  {
   "cell_type": "code",
   "execution_count": 8,
   "id": "7b993f93",
   "metadata": {
    "ExecuteTime": {
     "end_time": "2023-07-01T15:53:53.573041Z",
     "start_time": "2023-07-01T15:53:53.538089Z"
    }
   },
   "outputs": [
    {
     "data": {
      "text/plain": [
       "Vict Age\n",
       "2      328\n",
       "3      388\n",
       "4      405\n",
       "5      461\n",
       "6      449\n",
       "      ... \n",
       "96      73\n",
       "97      57\n",
       "98      56\n",
       "99     277\n",
       "120      1\n",
       "Name: count, Length: 99, dtype: int64"
      ]
     },
     "execution_count": 8,
     "metadata": {},
     "output_type": "execute_result"
    }
   ],
   "source": [
    "crime['Vict Age'].value_counts().sort_index()"
   ]
  },
  {
   "cell_type": "markdown",
   "id": "c548fbd3",
   "metadata": {},
   "source": [
    "### Посмотрим на данные в общем виде"
   ]
  },
  {
   "cell_type": "code",
   "execution_count": 9,
   "id": "d6c93aae",
   "metadata": {
    "ExecuteTime": {
     "end_time": "2023-07-01T15:53:55.441234Z",
     "start_time": "2023-07-01T15:53:55.306419Z"
    }
   },
   "outputs": [
    {
     "data": {
      "text/plain": [
       "<Axes: ylabel='Vict Age'>"
      ]
     },
     "execution_count": 9,
     "metadata": {},
     "output_type": "execute_result"
    },
    {
     "data": {
      "image/png": "[encoded data removed]",
      "text/plain": [
       "<Figure size 640x480 with 1 Axes>"
      ]
     },
     "metadata": {},
     "output_type": "display_data"
    }
   ],
   "source": [
    "sns.boxplot(y=crime['Vict Age'])"
   ]
  },
  {
   "cell_type": "code",
   "execution_count": 10,
   "id": "880ce7cf",
   "metadata": {
    "ExecuteTime": {
     "end_time": "2023-07-01T15:53:56.197067Z",
     "start_time": "2023-07-01T15:53:55.902549Z"
    }
   },
   "outputs": [
    {
     "data": {
      "text/plain": [
       "<Axes: >"
      ]
     },
     "execution_count": 10,
     "metadata": {},
     "output_type": "execute_result"
    },
    {
     "data": {
      "image/png": "[encoded data removed]",
      "text/plain": [
       "<Figure size 640x480 with 1 Axes>"
      ]
     },
     "metadata": {},
     "output_type": "display_data"
    }
   ],
   "source": [
    "crime['Vict Age'].hist(bins=max(crime['Vict Age'].value_counts().index))"
   ]
  },
  {
   "cell_type": "markdown",
   "id": "deb70c43",
   "metadata": {},
   "source": [
    "### Походит на нормальное распределение"
   ]
  },
  {
   "cell_type": "code",
   "execution_count": 11,
   "id": "53e523f1",
   "metadata": {
    "ExecuteTime": {
     "end_time": "2023-07-01T15:53:59.065805Z",
     "start_time": "2023-07-01T15:53:59.046459Z"
    }
   },
   "outputs": [
    {
     "data": {
      "text/plain": [
       "Vict Age\n",
       "30    17211\n",
       "35    16818\n",
       "31    16424\n",
       "29    16395\n",
       "28    16097\n",
       "Name: count, dtype: int64"
      ]
     },
     "execution_count": 11,
     "metadata": {},
     "output_type": "execute_result"
    }
   ],
   "source": [
    "crime['Vict Age'].value_counts().head() "
   ]
  },
  {
   "cell_type": "markdown",
   "id": "443fbbbb",
   "metadata": {},
   "source": [
    "### Выведем возраста, которые чаще всего подвергались преступлениям"
   ]
  },
  {
   "cell_type": "code",
   "execution_count": 12,
   "id": "41c262ec",
   "metadata": {
    "ExecuteTime": {
     "end_time": "2023-07-01T15:54:23.191345Z",
     "start_time": "2023-07-01T15:54:23.154695Z"
    }
   },
   "outputs": [
    {
     "data": {
      "text/html": [
       "<div>\n",
       "<style scoped>\n",
       "    .dataframe tbody tr th:only-of-type {\n",
       "        vertical-align: middle;\n",
       "    }\n",
       "\n",
       "    .dataframe tbody tr th {\n",
       "        vertical-align: top;\n",
       "    }\n",
       "\n",
       "    .dataframe thead th {\n",
       "        text-align: right;\n",
       "    }\n",
       "</style>\n",
       "<table border=\"1\" class=\"dataframe\">\n",
       "  <thead>\n",
       "    <tr style=\"text-align: right;\">\n",
       "      <th></th>\n",
       "      <th>Vict Age</th>\n",
       "      <th>count</th>\n",
       "    </tr>\n",
       "  </thead>\n",
       "  <tbody>\n",
       "    <tr>\n",
       "      <th>0</th>\n",
       "      <td>30</td>\n",
       "      <td>17211</td>\n",
       "    </tr>\n",
       "    <tr>\n",
       "      <th>1</th>\n",
       "      <td>35</td>\n",
       "      <td>16818</td>\n",
       "    </tr>\n",
       "    <tr>\n",
       "      <th>2</th>\n",
       "      <td>31</td>\n",
       "      <td>16424</td>\n",
       "    </tr>\n",
       "    <tr>\n",
       "      <th>3</th>\n",
       "      <td>29</td>\n",
       "      <td>16395</td>\n",
       "    </tr>\n",
       "    <tr>\n",
       "      <th>4</th>\n",
       "      <td>28</td>\n",
       "      <td>16097</td>\n",
       "    </tr>\n",
       "    <tr>\n",
       "      <th>5</th>\n",
       "      <td>32</td>\n",
       "      <td>16010</td>\n",
       "    </tr>\n",
       "    <tr>\n",
       "      <th>7</th>\n",
       "      <td>33</td>\n",
       "      <td>15395</td>\n",
       "    </tr>\n",
       "    <tr>\n",
       "      <th>9</th>\n",
       "      <td>34</td>\n",
       "      <td>14749</td>\n",
       "    </tr>\n",
       "    <tr>\n",
       "      <th>11</th>\n",
       "      <td>36</td>\n",
       "      <td>13976</td>\n",
       "    </tr>\n",
       "    <tr>\n",
       "      <th>13</th>\n",
       "      <td>37</td>\n",
       "      <td>13295</td>\n",
       "    </tr>\n",
       "    <tr>\n",
       "      <th>14</th>\n",
       "      <td>38</td>\n",
       "      <td>13068</td>\n",
       "    </tr>\n",
       "    <tr>\n",
       "      <th>15</th>\n",
       "      <td>39</td>\n",
       "      <td>12483</td>\n",
       "    </tr>\n",
       "    <tr>\n",
       "      <th>17</th>\n",
       "      <td>40</td>\n",
       "      <td>12247</td>\n",
       "    </tr>\n",
       "    <tr>\n",
       "      <th>19</th>\n",
       "      <td>41</td>\n",
       "      <td>11453</td>\n",
       "    </tr>\n",
       "    <tr>\n",
       "      <th>21</th>\n",
       "      <td>42</td>\n",
       "      <td>10715</td>\n",
       "    </tr>\n",
       "    <tr>\n",
       "      <th>22</th>\n",
       "      <td>43</td>\n",
       "      <td>10538</td>\n",
       "    </tr>\n",
       "    <tr>\n",
       "      <th>23</th>\n",
       "      <td>44</td>\n",
       "      <td>10071</td>\n",
       "    </tr>\n",
       "    <tr>\n",
       "      <th>24</th>\n",
       "      <td>50</td>\n",
       "      <td>9954</td>\n",
       "    </tr>\n",
       "    <tr>\n",
       "      <th>25</th>\n",
       "      <td>45</td>\n",
       "      <td>9751</td>\n",
       "    </tr>\n",
       "    <tr>\n",
       "      <th>27</th>\n",
       "      <td>46</td>\n",
       "      <td>9106</td>\n",
       "    </tr>\n",
       "    <tr>\n",
       "      <th>28</th>\n",
       "      <td>47</td>\n",
       "      <td>9076</td>\n",
       "    </tr>\n",
       "    <tr>\n",
       "      <th>29</th>\n",
       "      <td>49</td>\n",
       "      <td>8567</td>\n",
       "    </tr>\n",
       "    <tr>\n",
       "      <th>31</th>\n",
       "      <td>48</td>\n",
       "      <td>8528</td>\n",
       "    </tr>\n",
       "  </tbody>\n",
       "</table>\n",
       "</div>"
      ],
      "text/plain": [
       "    Vict Age  count\n",
       "0         30  17211\n",
       "1         35  16818\n",
       "2         31  16424\n",
       "3         29  16395\n",
       "4         28  16097\n",
       "5         32  16010\n",
       "7         33  15395\n",
       "9         34  14749\n",
       "11        36  13976\n",
       "13        37  13295\n",
       "14        38  13068\n",
       "15        39  12483\n",
       "17        40  12247\n",
       "19        41  11453\n",
       "21        42  10715\n",
       "22        43  10538\n",
       "23        44  10071\n",
       "24        50   9954\n",
       "25        45   9751\n",
       "27        46   9106\n",
       "28        47   9076\n",
       "29        49   8567\n",
       "31        48   8528"
      ]
     },
     "execution_count": 12,
     "metadata": {},
     "output_type": "execute_result"
    }
   ],
   "source": [
    "q1 = int(np.percentile(crime['Vict Age'],25))\n",
    "q3 = int(np.percentile(crime['Vict Age'],75)+1)\n",
    "v = (\n",
    "    crime['Vict Age'].\n",
    "    value_counts().\n",
    "    reset_index().\n",
    "    loc[lambda crime: crime['Vict Age'].\n",
    "    isin(range(q1, q3))]\n",
    ")\n",
    "v"
   ]
  },
  {
   "cell_type": "code",
   "execution_count": 13,
   "id": "56ac8e26",
   "metadata": {
    "ExecuteTime": {
     "end_time": "2023-07-01T15:54:31.895002Z",
     "start_time": "2023-07-01T15:54:31.611794Z"
    }
   },
   "outputs": [
    {
     "data": {
      "text/plain": [
       "Text(0.5, 1.0, 'Самый частый возраст жертвы')"
      ]
     },
     "execution_count": 13,
     "metadata": {},
     "output_type": "execute_result"
    },
    {
     "data": {
      "image/png": "[encoded data removed]",
      "text/plain": [
       "<Figure size 640x480 with 1 Axes>"
      ]
     },
     "metadata": {},
     "output_type": "display_data"
    }
   ],
   "source": [
    "sns.barplot(x=v['Vict Age'],y=v['count'], order=v['Vict Age']).set_title('Самый частый возраст жертвы')"
   ]
  },
  {
   "cell_type": "code",
   "execution_count": 14,
   "id": "b8610987",
   "metadata": {
    "ExecuteTime": {
     "end_time": "2023-07-01T15:54:45.475892Z",
     "start_time": "2023-07-01T15:54:45.452531Z"
    }
   },
   "outputs": [
    {
     "data": {
      "text/plain": [
       "Vict Age\n",
       "30    0.030411\n",
       "35    0.029716\n",
       "31    0.029020\n",
       "29    0.028969\n",
       "28    0.028442\n",
       "Name: count, dtype: float64"
      ]
     },
     "execution_count": 14,
     "metadata": {},
     "output_type": "execute_result"
    }
   ],
   "source": [
    "crime['Vict Age'].value_counts().iloc[:5] / crime.shape[0]"
   ]
  },
  {
   "cell_type": "markdown",
   "id": "a3ce16f3",
   "metadata": {},
   "source": [
    "### Чаще всего подвергаются преступлениям от 28 до 50, топ 3 частых 30, 35 и 31 год"
   ]
  },
  {
   "cell_type": "markdown",
   "id": "a3603eca",
   "metadata": {},
   "source": [
    "### Посмотрим на пол жертвы"
   ]
  },
  {
   "cell_type": "code",
   "execution_count": 15,
   "id": "6d8046dd",
   "metadata": {
    "ExecuteTime": {
     "end_time": "2023-07-01T15:55:30.360741Z",
     "start_time": "2023-07-01T15:55:30.163856Z"
    }
   },
   "outputs": [
    {
     "data": {
      "text/plain": [
       "Vict Sex\n",
       "M    0.504445\n",
       "F    0.483422\n",
       "X    0.011936\n",
       "H    0.000147\n",
       "Name: count, dtype: float64"
      ]
     },
     "execution_count": 15,
     "metadata": {},
     "output_type": "execute_result"
    },
    {
     "data": {
      "image/png": "[encoded data removed]",
      "text/plain": [
       "<Figure size 640x480 with 1 Axes>"
      ]
     },
     "metadata": {},
     "output_type": "display_data"
    }
   ],
   "source": [
    "crime['Vict Sex'].value_counts().plot(kind='bar', title='Пол жертвы')\n",
    "crime['Vict Sex'].value_counts() / crime.shape[0]"
   ]
  },
  {
   "cell_type": "markdown",
   "id": "b8774594",
   "metadata": {},
   "source": [
    "### Немного чаще жертвами преступления становятся мужчины(50.4%), женщины в 48.3% случаях"
   ]
  },
  {
   "cell_type": "markdown",
   "id": "e0eec81c",
   "metadata": {},
   "source": [
    "### Посмотрим на происхождение жертвы"
   ]
  },
  {
   "cell_type": "code",
   "execution_count": 16,
   "id": "506c546e",
   "metadata": {
    "ExecuteTime": {
     "end_time": "2023-07-01T15:56:18.457438Z",
     "start_time": "2023-07-01T15:56:18.189729Z"
    }
   },
   "outputs": [
    {
     "data": {
      "text/plain": [
       "Vict Descent\n",
       "H    0.399323\n",
       "W    0.252409\n",
       "B    0.187780\n",
       "O    0.087657\n",
       "A    0.028426\n",
       "Name: count, dtype: float64"
      ]
     },
     "execution_count": 16,
     "metadata": {},
     "output_type": "execute_result"
    },
    {
     "data": {
      "image/png": "[encoded data removed]",
      "text/plain": [
       "<Figure size 640x480 with 1 Axes>"
      ]
     },
     "metadata": {},
     "output_type": "display_data"
    }
   ],
   "source": [
    "crime['Vict Descent'].value_counts().plot(kind='bar', title='Происхождение жертвы')\n",
    "(crime['Vict Descent'].value_counts()/ crime.shape[0]).head()"
   ]
  },
  {
   "cell_type": "markdown",
   "id": "f52f499a",
   "metadata": {},
   "source": [
    "### Чаще всего жертвами становятся Hispanic/Latin/Mexican - 39.9%\n",
    "\n",
    "#### Белые - 25.2%\n",
    "\n",
    "#### Чёрные - 18.7%\n",
    "\n",
    "#### Остальные - 8%\n",
    "\n",
    "#### Другие азиаты - 2.8%"
   ]
  },
  {
   "cell_type": "code",
   "execution_count": 18,
   "id": "5a9c1b0f",
   "metadata": {
    "ExecuteTime": {
     "end_time": "2023-07-01T15:57:16.630824Z",
     "start_time": "2023-07-01T15:57:16.380601Z"
    }
   },
   "outputs": [
    {
     "data": {
      "text/plain": [
       "<Axes: title={'center': 'Наиболее частые преступления'}, ylabel='Crm Cd Desc'>"
      ]
     },
     "execution_count": 18,
     "metadata": {},
     "output_type": "execute_result"
    },
    {
     "data": {
      "image/png": "[encoded data removed]",
      "text/plain": [
       "<Figure size 640x480 with 1 Axes>"
      ]
     },
     "metadata": {},
     "output_type": "display_data"
    }
   ],
   "source": [
    "(\n",
    "    crime['Crm Cd Desc'].\n",
    "    value_counts().iloc[:5].\n",
    "    sort_values().\n",
    "    plot(kind='barh',title=\"Наиболее частые преступления\")\n",
    ")"
   ]
  },
  {
   "cell_type": "code",
   "execution_count": 20,
   "id": "272d50de",
   "metadata": {
    "ExecuteTime": {
     "end_time": "2023-07-01T15:57:33.919170Z",
     "start_time": "2023-07-01T15:57:33.868814Z"
    }
   },
   "outputs": [
    {
     "data": {
      "text/plain": [
       "Crm Cd Desc\n",
       "BATTERY - SIMPLE ASSAULT                          0.103377\n",
       "THEFT OF IDENTITY                                 0.083952\n",
       "BURGLARY FROM VEHICLE                             0.079351\n",
       "ASSAULT WITH DEADLY WEAPON, AGGRAVATED ASSAULT    0.072884\n",
       "INTIMATE PARTNER - SIMPLE ASSAULT                 0.065989\n",
       "Name: count, dtype: float64"
      ]
     },
     "execution_count": 20,
     "metadata": {},
     "output_type": "execute_result"
    }
   ],
   "source": [
    "(crime['Crm Cd Desc'].value_counts() / crime.shape[0]).head()"
   ]
  },
  {
   "cell_type": "markdown",
   "id": "5ae1348e",
   "metadata": {},
   "source": [
    "### Самые частые преступления это \n",
    "\n",
    "#### Простое нападение(избиение) 10.3%\n",
    "\n",
    "#### Кража личных данных 8.4%\n",
    "\n",
    "#### Кража со взломом из автомобиля 7.9%\n",
    "\n",
    "#### Нападение с применением смертоносного оружия, нападение при отягщающих обстоятельствах 7.3%\n",
    "\n",
    "#### Близкий человек(простое нападение) 6.5%"
   ]
  },
  {
   "cell_type": "code",
   "execution_count": 21,
   "id": "b4808039",
   "metadata": {
    "ExecuteTime": {
     "end_time": "2023-07-01T15:58:17.774309Z",
     "start_time": "2023-07-01T15:58:17.577831Z"
    }
   },
   "outputs": [
    {
     "data": {
      "text/plain": [
       "<Axes: title={'center': 'Самая популярная область преступления'}, ylabel='AREA NAME'>"
      ]
     },
     "execution_count": 21,
     "metadata": {},
     "output_type": "execute_result"
    },
    {
     "data": {
      "image/png": "[encoded data removed]",
      "text/plain": [
       "<Figure size 640x480 with 1 Axes>"
      ]
     },
     "metadata": {},
     "output_type": "display_data"
    }
   ],
   "source": [
    "(\n",
    "    crime['AREA NAME'].\n",
    "    value_counts().\n",
    "    iloc[:5].\n",
    "    sort_values().b\n",
    "    plot(kind='barh',title=\"Самая популярная область преступления\")\n",
    ")"
   ]
  },
  {
   "cell_type": "code",
   "execution_count": 22,
   "id": "7f779400",
   "metadata": {
    "ExecuteTime": {
     "end_time": "2023-07-01T15:58:22.712849Z",
     "start_time": "2023-07-01T15:58:22.660550Z"
    }
   },
   "outputs": [
    {
     "data": {
      "text/plain": [
       "AREA NAME\n",
       "Central        0.070341\n",
       "77th Street    0.064132\n",
       "Southwest      0.062655\n",
       "Pacific        0.055865\n",
       "Hollywood      0.053617\n",
       "Name: count, dtype: float64"
      ]
     },
     "execution_count": 22,
     "metadata": {},
     "output_type": "execute_result"
    }
   ],
   "source": [
    "(crime['AREA NAME'].value_counts() / crime.shape[0]).head()"
   ]
  },
  {
   "cell_type": "markdown",
   "id": "f96a7b9b",
   "metadata": {},
   "source": [
    "### Места, в которых чаще всего происходят преступления\n",
    "\n",
    "#### Центр 7%\n",
    "\n",
    "#### 77ая улица 6.4%\n",
    "\n",
    "#### Юго-запад 6.3%\n",
    "\n",
    "#### \"Тихий\" 5.6%\n",
    "\n",
    "#### Hollywood 5.4%"
   ]
  },
  {
   "cell_type": "code",
   "execution_count": 25,
   "id": "7d2f7b4d",
   "metadata": {
    "ExecuteTime": {
     "end_time": "2023-07-01T15:59:31.102269Z",
     "start_time": "2023-07-01T15:59:30.908335Z"
    }
   },
   "outputs": [
    {
     "data": {
      "text/plain": [
       "<Axes: title={'center': 'Самое часто используемое оружие'}, ylabel='Weapon Desc'>"
      ]
     },
     "execution_count": 25,
     "metadata": {},
     "output_type": "execute_result"
    },
    {
     "data": {
      "image/png": "[encoded data removed]",
      "text/plain": [
       "<Figure size 640x480 with 1 Axes>"
      ]
     },
     "metadata": {},
     "output_type": "display_data"
    }
   ],
   "source": [
    "(\n",
    "    crime['Weapon Desc'].\n",
    "    value_counts().\n",
    "    iloc[:5].\n",
    "    sort_values().\n",
    "    plot(kind='barh',title=\"Самое часто используемое оружие\")\n",
    ")"
   ]
  },
  {
   "cell_type": "code",
   "execution_count": 26,
   "id": "a4513b9c",
   "metadata": {
    "ExecuteTime": {
     "end_time": "2023-07-01T15:59:36.479847Z",
     "start_time": "2023-07-01T15:59:36.426461Z"
    }
   },
   "outputs": [
    {
     "data": {
      "text/plain": [
       "Weapon Desc\n",
       "STRONG-ARM (HANDS, FIST, FEET OR BODILY FORCE)    0.234345\n",
       "UNKNOWN WEAPON/OTHER WEAPON                       0.040964\n",
       "VERBAL THREAT                                     0.031658\n",
       "HAND GUN                                          0.024567\n",
       "SEMI-AUTOMATIC PISTOL                             0.009029\n",
       "Name: count, dtype: float64"
      ]
     },
     "execution_count": 26,
     "metadata": {},
     "output_type": "execute_result"
    }
   ],
   "source": [
    "(crime['Weapon Desc'].value_counts() / crime.shape[0]).head()"
   ]
  },
  {
   "cell_type": "markdown",
   "id": "9e50ee0f",
   "metadata": {
    "ExecuteTime": {
     "end_time": "2023-07-01T12:36:01.930562Z",
     "start_time": "2023-07-01T12:36:01.916507Z"
    }
   },
   "source": [
    "Преступления чаще всего совершаются с помощью:\n",
    "    \n",
    "Рук, ног и тп. 23.4%\n",
    "\n",
    "неизвестного оружия 4%\n",
    " \n",
    "Угроза 3.2%\n",
    "\n",
    "Ручное орудие 2.4%\n",
    "\n",
    "Полуавтоматический пистолет 0.9%"
   ]
  },
  {
   "cell_type": "markdown",
   "id": "6f1bc8b9",
   "metadata": {},
   "source": [
    "Анализ позволил нам выявить, что преступления в несколько раз чаще происходят в центре, обычно это простое избиение, жертвами чаще всего становятся мексиканцы,латинцы и латиноамериканцы. В самых часто используемых оружиях присутствует ручное орудие и полуавтоматческий пистолет, не считая наненсения повреждений руками или ногами, возраст жертвы обычно 31,30 или 35."
   ]
  },
  {
   "cell_type": "code",
   "execution_count": null,
   "id": "e3e36411",
   "metadata": {},
   "outputs": [],
   "source": []
  }
 ],
 "metadata": {
  "hide_input": false,
  "kernelspec": {
   "display_name": "Python 3 (ipykernel)",
   "language": "python",
   "name": "python3"
  },
  "language_info": {
   "codemirror_mode": {
    "name": "ipython",
    "version": 3
   },
   "file_extension": ".py",
   "mimetype": "text/x-python",
   "name": "python",
   "nbconvert_exporter": "python",
   "pygments_lexer": "ipython3",
   "version": "3.10.7"
  }
 },
 "nbformat": 4,
 "nbformat_minor": 5
}
