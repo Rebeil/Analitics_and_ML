{
 "cells": [
  {
   "cell_type": "code",
   "execution_count": 3,
   "id": "8d037c5c",
   "metadata": {
    "ExecuteTime": {
     "end_time": "2022-10-16T19:07:26.698854Z",
     "start_time": "2022-10-16T19:07:26.693573Z"
    }
   },
   "outputs": [
    {
     "name": "stdout",
     "output_type": "stream",
     "text": [
      "[2, 3, 4]\n",
      "4\n"
     ]
    },
    {
     "data": {
      "text/plain": [
       "[2, 3]"
      ]
     },
     "execution_count": 3,
     "metadata": {},
     "output_type": "execute_result"
    }
   ],
   "source": [
    "arr = [2,3,4]\n",
    "print(arr)\n",
    "print(arr.pop())\n",
    "arr"
   ]
  },
  {
   "cell_type": "code",
   "execution_count": 5,
   "id": "bd8d8e8a",
   "metadata": {
    "ExecuteTime": {
     "end_time": "2022-10-16T19:12:22.983084Z",
     "start_time": "2022-10-16T19:12:22.979758Z"
    }
   },
   "outputs": [
    {
     "data": {
      "text/plain": [
       "(1, 2, 3, 2, 3, 4)"
      ]
     },
     "execution_count": 5,
     "metadata": {},
     "output_type": "execute_result"
    }
   ],
   "source": [
    "a = (1,2,3)\n",
    "b = (2,3,4)\n",
    "a+b"
   ]
  },
  {
   "cell_type": "code",
   "execution_count": 22,
   "id": "4c15a34f",
   "metadata": {
    "ExecuteTime": {
     "end_time": "2022-10-16T19:17:37.737461Z",
     "start_time": "2022-10-16T19:17:37.723919Z"
    }
   },
   "outputs": [
    {
     "data": {
      "text/plain": [
       "[7, 6, 5, 4]"
      ]
     },
     "execution_count": 22,
     "metadata": {},
     "output_type": "execute_result"
    }
   ],
   "source": [
    "s = [1,2,3,4,5,6,7]\n",
    "s[-1:-1:-1]\n",
    "s[-1:-5:-1]"
   ]
  }
 ],
 "metadata": {
  "kernelspec": {
   "display_name": "Python 3 (ipykernel)",
   "language": "python",
   "name": "python3"
  },
  "language_info": {
   "codemirror_mode": {
    "name": "ipython",
    "version": 3
   },
   "file_extension": ".py",
   "mimetype": "text/x-python",
   "name": "python",
   "nbconvert_exporter": "python",
   "pygments_lexer": "ipython3",
   "version": "3.9.12"
  }
 },
 "nbformat": 4,
 "nbformat_minor": 5
}
