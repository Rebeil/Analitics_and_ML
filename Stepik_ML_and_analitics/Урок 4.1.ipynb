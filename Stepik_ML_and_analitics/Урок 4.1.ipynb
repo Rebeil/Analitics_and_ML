{
 "cells": [
  {
   "cell_type": "markdown",
   "metadata": {
    "id": "z3R4x9O3bF5c"
   },
   "source": [
    "# функции\n",
    "\n"
   ]
  },
  {
   "cell_type": "markdown",
   "metadata": {
    "id": "Sn3lq2iO2rCh"
   },
   "source": [
    "## Зачем они нужны\n",
    "\n",
    "Функции в python - объект, который принимает аргументы, производит обработку данных. Функции резделяют на те, которые не возвращают значения(я) и которые возвращают значение(я), в таком случае в ней должен фигурировать оператор return. Функция может принимать произвольное количество аргументов или не принимать их вовсе.\n",
    "\n",
    "Функция определяется:\n",
    "\n",
    "```\n",
    "def <Название функции>(параметр1, параметр2, ...):\n",
    "    --код--\n",
    "    return параметр1 + параметр2\n",
    "```\n",
    "\n",
    "Можно определить и необязательные элементы:\n",
    "```\n",
    "# param3 - необязательный аргумент, значение по умолчанию - 2\n",
    "def funсtion(param1, param2, param3 = 2):\n",
    "    return param1+param2+param3\n",
    "```\n",
    "\n",
    "Используя известные к этому времени конструкции (присваивание, ввод/вывод, условный оператор и оператор цикла) можно запрограммировать любой алгоритм. Так и происходит с несложными задачами и небольшими программами. Но с ростом сложности задач оставаться в этих рамках становится все труднее.\n",
    "\n",
    "\n",
    "Наряду с основными конструкциями в большинстве языков существуют способы, реализующие идеи абстракции и декомпозиции.\n",
    "\n",
    "Декомпозиция - способ разбиения текста программы на отдельные блоки, каждый из которых реализует определенную осмысленную задачу, часть общей работы. Одни и те же блоки могут быть использованы в разных местах программы (или нескольких программ).\n",
    "\n",
    "\n",
    "Абстракция - позволяет сконцентрироваться на смысле и сути данных и/или программы, не обращая внимания на особенности реализации этих данных и/или программы.\n",
    "\n",
    "\n",
    "В языке Python, как и в большинстве других языков, для реализации идей декомпозиции и абстракции используются, в частности, функции. Функции можно рассматривать как способ задавать новые, более сложные \"примитивы\"(команды) языка."
   ]
  },
  {
   "cell_type": "markdown",
   "metadata": {
    "id": "CoN0MOqB2tmU"
   },
   "source": [
    "## Инициализация функции\n",
    "\n"
   ]
  },
  {
   "cell_type": "markdown",
   "metadata": {
    "id": "gGS6otEE25lC"
   },
   "source": [
    "### Позиционные аргументы"
   ]
  },
  {
   "cell_type": "code",
   "execution_count": 1,
   "metadata": {
    "executionInfo": {
     "elapsed": 271,
     "status": "ok",
     "timestamp": 1645793265238,
     "user": {
      "displayName": "Илья Витальевич Тихонов",
      "photoUrl": "https://lh3.googleusercontent.com/a/default-user=s64",
      "userId": "10513119548773881016"
     },
     "user_tz": -180
    },
    "id": "niAoywDbF2zE"
   },
   "outputs": [],
   "source": [
    "# рассмотрим пример реализации функции для сложения элементов\n",
    "def a_plus_b(a, b):\n",
    "    # это тело функии, определяется отступом\n",
    "    # здесь можно писать команды с кодом\n",
    "    # оператор return возвращает значение\n",
    "    # тип значения функции определяется типом возвращаемого выражения,\n",
    "    #  стоящего после return в теле функции\n",
    "    return a + b"
   ]
  },
  {
   "cell_type": "code",
   "execution_count": 2,
   "metadata": {
    "colab": {
     "base_uri": "https://localhost:8080/"
    },
    "executionInfo": {
     "elapsed": 3,
     "status": "ok",
     "timestamp": 1645793266852,
     "user": {
      "displayName": "Илья Витальевич Тихонов",
      "photoUrl": "https://lh3.googleusercontent.com/a/default-user=s64",
      "userId": "10513119548773881016"
     },
     "user_tz": -180
    },
    "id": "sadqdpP_Kz6A",
    "outputId": "9ca18319-9238-414b-c720-ca364f48c4e4"
   },
   "outputs": [
    {
     "data": {
      "text/plain": [
       "5"
      ]
     },
     "execution_count": 2,
     "metadata": {},
     "output_type": "execute_result"
    }
   ],
   "source": [
    "# значения 2 и 3 будут записаны на место a и b - позиционные аргументы\n",
    "a_plus_b(2, 3)"
   ]
  },
  {
   "cell_type": "markdown",
   "metadata": {
    "id": "AkdlbEAW22m8"
   },
   "source": [
    "### Именованные аргументы"
   ]
  },
  {
   "cell_type": "code",
   "execution_count": 3,
   "metadata": {
    "colab": {
     "base_uri": "https://localhost:8080/"
    },
    "executionInfo": {
     "elapsed": 261,
     "status": "ok",
     "timestamp": 1645793390941,
     "user": {
      "displayName": "Илья Витальевич Тихонов",
      "photoUrl": "https://lh3.googleusercontent.com/a/default-user=s64",
      "userId": "10513119548773881016"
     },
     "user_tz": -180
    },
    "id": "q6LplwBgylQZ",
    "outputId": "86f8a499-fe30-4c5f-beb3-3c723d337d6d"
   },
   "outputs": [
    {
     "data": {
      "text/plain": [
       "5"
      ]
     },
     "execution_count": 3,
     "metadata": {},
     "output_type": "execute_result"
    }
   ],
   "source": [
    "# рассмотрим пример реализации функции для сложения элементов\n",
    "def a_plus_b(a, b):\n",
    "    # это тело функии, определяется отступом\n",
    "    # здесь можно писать команды с кодом\n",
    "    # оператор return возвращает значение\n",
    "    # тип значения функции определяется типом возвращаемого выражения,\n",
    "    #  стоящего после return в теле функции\n",
    "    return a + b\n",
    "\n",
    "# теперь мы явно указываем, какие именно имена (a и b) принимают какие значения\n",
    "# такие аргументы называют именованными\n",
    "a_plus_b(b = 2, a = 3)"
   ]
  },
  {
   "cell_type": "code",
   "execution_count": 4,
   "metadata": {
    "colab": {
     "base_uri": "https://localhost:8080/"
    },
    "executionInfo": {
     "elapsed": 369,
     "status": "ok",
     "timestamp": 1645793412666,
     "user": {
      "displayName": "Илья Витальевич Тихонов",
      "photoUrl": "https://lh3.googleusercontent.com/a/default-user=s64",
      "userId": "10513119548773881016"
     },
     "user_tz": -180
    },
    "id": "lptedh7ySXPr",
    "outputId": "492668c0-5ac2-44b3-a50b-8aac0eea910e"
   },
   "outputs": [
    {
     "data": {
      "text/plain": [
       "8"
      ]
     },
     "execution_count": 4,
     "metadata": {},
     "output_type": "execute_result"
    }
   ],
   "source": [
    "# значение b - результат обработки функции, сложившей 2+3\n",
    "a_plus_b(b = a_plus_b(b = 2, a = 3), a = 3)"
   ]
  },
  {
   "cell_type": "markdown",
   "metadata": {
    "id": "BJX0cHOU27Qw"
   },
   "source": [
    "### Значения по умолчанию"
   ]
  },
  {
   "cell_type": "markdown",
   "metadata": {
    "id": "MLFwptL_y2m2"
   },
   "source": [
    "Аргументы могут принимать некоторые значения по умолчанию. \n",
    "В примере это реализуется посредством указания значения при инициализации.\n",
    "\n",
    "Их по прежденму можно переопределить во время вызова - через позиционные или именованные аргументы."
   ]
  },
  {
   "cell_type": "code",
   "execution_count": 6,
   "metadata": {
    "colab": {
     "base_uri": "https://localhost:8080/"
    },
    "executionInfo": {
     "elapsed": 243,
     "status": "ok",
     "timestamp": 1645793457747,
     "user": {
      "displayName": "Илья Витальевич Тихонов",
      "photoUrl": "https://lh3.googleusercontent.com/a/default-user=s64",
      "userId": "10513119548773881016"
     },
     "user_tz": -180
    },
    "id": "KFEjGwFzyzRP",
    "outputId": "9e8e1264-8e47-4a49-e844-3c3595b7197a"
   },
   "outputs": [
    {
     "data": {
      "text/plain": [
       "5"
      ]
     },
     "execution_count": 6,
     "metadata": {},
     "output_type": "execute_result"
    }
   ],
   "source": [
    "# рассмотрим пример реализации функции для сложения элементов\n",
    "def a_plus_b(a, b = 3):\n",
    "    # это тело функии, определяется отступом\n",
    "    # здесь можно писать команды с кодом\n",
    "    # оператор return возвращает значение\n",
    "    # тип значения функции определяется типом возвращаемого выражения,\n",
    "    #  стоящего после return в теле функции\n",
    "    return a + b\n",
    "\n",
    "# при вызове функции позиционный аргумент а примет значение 2\n",
    "# аргумент б уже задан значением по умолчанию, его всегда можно переопределить\n",
    "a_plus_b(2)"
   ]
  },
  {
   "cell_type": "markdown",
   "metadata": {
    "id": "YOM8JwAw3FNH"
   },
   "source": [
    "### Переменное количество аргуентов"
   ]
  },
  {
   "cell_type": "markdown",
   "metadata": {
    "id": "srvfEIG4zs1o"
   },
   "source": [
    "Можно принять переменное количество позиционных аргументов, тогда перед именем ставим *"
   ]
  },
  {
   "cell_type": "code",
   "execution_count": 7,
   "metadata": {
    "colab": {
     "base_uri": "https://localhost:8080/"
    },
    "executionInfo": {
     "elapsed": 245,
     "status": "ok",
     "timestamp": 1645793471407,
     "user": {
      "displayName": "Илья Витальевич Тихонов",
      "photoUrl": "https://lh3.googleusercontent.com/a/default-user=s64",
      "userId": "10513119548773881016"
     },
     "user_tz": -180
    },
    "id": "Hfsla6JTzYrd",
    "outputId": "cea4835d-2934-42fa-9a17-8010ab68980c"
   },
   "outputs": [
    {
     "data": {
      "text/plain": [
       "([2], 'три')"
      ]
     },
     "execution_count": 7,
     "metadata": {},
     "output_type": "execute_result"
    }
   ],
   "source": [
    "def random_args_random_amm(a, *args):\n",
    "    # в таком случае возвращаемый аргумент (уже без звездочки) - кортеж\n",
    "    # в него будет записано все, что \"не поместилось\" в позиционные аргументы (2 и 3 аргумент при вызове)\n",
    "    return args\n",
    "\n",
    "# возвращает кортеж\n",
    "random_args_random_amm(1, [2], 'три')"
   ]
  },
  {
   "cell_type": "markdown",
   "metadata": {
    "id": "JKIm30NKz8Qq"
   },
   "source": [
    "По аналогии можно принять переменное количество именованных аргументов, тогда перед именем ставим **"
   ]
  },
  {
   "cell_type": "code",
   "execution_count": null,
   "metadata": {
    "colab": {
     "base_uri": "https://localhost:8080/"
    },
    "executionInfo": {
     "elapsed": 246,
     "status": "ok",
     "timestamp": 1644868738819,
     "user": {
      "displayName": "Илья Витальевич Тихонов",
      "photoUrl": "https://lh3.googleusercontent.com/a/default-user=s64",
      "userId": "10513119548773881016"
     },
     "user_tz": -180
    },
    "id": "swbTgBxAz6Qa",
    "outputId": "52d9ab69-73b4-4c24-d7f7-36a6f494eec9"
   },
   "outputs": [
    {
     "data": {
      "text/plain": [
       "{'hello': 'world'}"
      ]
     },
     "execution_count": 10,
     "metadata": {},
     "output_type": "execute_result"
    }
   ],
   "source": [
    "def not_random_args_random_amm(**kwargs):\n",
    "    # в этом же случае произвольное количество позиционных аргументов будет записано как словарь \n",
    "    # в формате ключ-значение\n",
    "    # в kwargs будет записано все, что \"не поместилось\" в именованные аргументы (у нас он один)    \n",
    "    return kwargs\n",
    "\n",
    "# возвращает словарь\n",
    "not_random_args_random_amm(hello='world')"
   ]
  },
  {
   "cell_type": "markdown",
   "metadata": {
    "id": "LP1FcibY3IPx"
   },
   "source": [
    "### Функция, которая ничего не возвращает"
   ]
  },
  {
   "cell_type": "markdown",
   "metadata": {
    "id": "JTPrHgc-1Dvi"
   },
   "source": [
    "Что будет, если попытаться вычислить функцию, не возвращающую значения? Например, просто ничего не ставя после оператора return, или не вовсе не написал это ключевое выражение. В этом случае функция будет возвращать False."
   ]
  },
  {
   "cell_type": "code",
   "execution_count": 8,
   "metadata": {
    "colab": {
     "base_uri": "https://localhost:8080/"
    },
    "executionInfo": {
     "elapsed": 256,
     "status": "ok",
     "timestamp": 1645793576958,
     "user": {
      "displayName": "Илья Витальевич Тихонов",
      "photoUrl": "https://lh3.googleusercontent.com/a/default-user=s64",
      "userId": "10513119548773881016"
     },
     "user_tz": -180
    },
    "id": "GHYnz6Eg0Q3R",
    "outputId": "b7d8c7af-abb3-4a69-ada4-c79fdc37c588"
   },
   "outputs": [
    {
     "data": {
      "text/plain": [
       "True"
      ]
     },
     "execution_count": 8,
     "metadata": {},
     "output_type": "execute_result"
    }
   ],
   "source": [
    "# пример функции, которая ничего не возвращает и не принимает никаких аргументов\n",
    "def return_nothing():\n",
    "    return\n",
    "# проверяем, что результат вызова функции - None\n",
    "return_nothing() is None"
   ]
  },
  {
   "cell_type": "code",
   "execution_count": 10,
   "metadata": {
    "colab": {
     "base_uri": "https://localhost:8080/"
    },
    "executionInfo": {
     "elapsed": 245,
     "status": "ok",
     "timestamp": 1645793589165,
     "user": {
      "displayName": "Илья Витальевич Тихонов",
      "photoUrl": "https://lh3.googleusercontent.com/a/default-user=s64",
      "userId": "10513119548773881016"
     },
     "user_tz": -180
    },
    "id": "93Nn_ZLd1jkT",
    "outputId": "9332b05f-0ce4-4ad6-966a-ff63cb4b4c58"
   },
   "outputs": [
    {
     "data": {
      "text/plain": [
       "True"
      ]
     },
     "execution_count": 10,
     "metadata": {},
     "output_type": "execute_result"
    }
   ],
   "source": [
    "# пример функции, которая ничего не возвращает и не принимает никаких аргументов\n",
    "def return_nothing():\n",
    "    # это специальная заглушка, означающая, что ничего не нужно делать,\n",
    "    # она необходима для корректности синтаксиса, без нее получится ошибка\n",
    "    pass \n",
    "# проверяем, что результат вызова функции - None\n",
    "return_nothing() is None    "
   ]
  },
  {
   "cell_type": "markdown",
   "metadata": {
    "id": "cjhnyjSH2HdZ"
   },
   "source": [
    "Файл, содержащий текст программы на языке Python выполняется последовательно сверху вниз оператор за оператором. Определения функций, т.е. операторы, из которых они составлены, не выполняются. Определение функции лишь описывает последовательность операторов, которую надо выполнить, если функция будет вызвана в тексте программы.\n"
   ]
  },
  {
   "cell_type": "code",
   "execution_count": null,
   "metadata": {
    "id": "aeQiEtFB17Dh"
   },
   "outputs": [],
   "source": [
    "def return_nothing():\n",
    "    # это специальная заглушка, означающая, что ничего не нужно делать,\n",
    "    # она необходима для корректности синтаксиса, без нее получится ошибка\n",
    "    pass \n",
    "\n",
    "# ничего не произойдет, мы же ничего не вызвали :)"
   ]
  },
  {
   "cell_type": "markdown",
   "metadata": {
    "id": "bnFpuxSK2kxp"
   },
   "source": [
    "## Блоки и области видимости"
   ]
  },
  {
   "cell_type": "markdown",
   "metadata": {
    "id": "xKwDERDM3O3t"
   },
   "source": [
    "\n",
    "Областью видимости имени считается блок, в которой это имя было связано с новым значением, а также все вложенные в него блоки."
   ]
  },
  {
   "cell_type": "code",
   "execution_count": null,
   "metadata": {
    "colab": {
     "base_uri": "https://localhost:8080/"
    },
    "executionInfo": {
     "elapsed": 354,
     "status": "ok",
     "timestamp": 1644920245937,
     "user": {
      "displayName": "Илья Витальевич Тихонов",
      "photoUrl": "https://lh3.googleusercontent.com/a/default-user=s64",
      "userId": "10513119548773881016"
     },
     "user_tz": -180
    },
    "id": "xb5B6iT-2WZX",
    "outputId": "27eb2157-aafc-4868-d41f-b3d9624e8820"
   },
   "outputs": [
    {
     "name": "stdout",
     "output_type": "stream",
     "text": [
      "2\n"
     ]
    }
   ],
   "source": [
    "def something():\n",
    "    return a + 1\n",
    "\n",
    "a = 1\n",
    "print(something())"
   ]
  },
  {
   "cell_type": "markdown",
   "metadata": {
    "id": "_eFsLOSX3-4Z"
   },
   "source": [
    "Здесь областью видимости переменной a является весь текст программы вместе с телом функции, т.к. она получила значение в блоке содержащем внутри себя тело функции.\n",
    "\n",
    "Переменная же b - локальная., она недоступна.\n"
   ]
  },
  {
   "cell_type": "code",
   "execution_count": 11,
   "metadata": {
    "colab": {
     "base_uri": "https://localhost:8080/"
    },
    "executionInfo": {
     "elapsed": 270,
     "status": "ok",
     "timestamp": 1645793659768,
     "user": {
      "displayName": "Илья Витальевич Тихонов",
      "photoUrl": "https://lh3.googleusercontent.com/a/default-user=s64",
      "userId": "10513119548773881016"
     },
     "user_tz": -180
    },
    "id": "LsI_cC2D35aR",
    "outputId": "05845196-0c8c-408c-b857-015bde344bf0"
   },
   "outputs": [
    {
     "data": {
      "text/plain": [
       "(5, 2)"
      ]
     },
     "execution_count": 11,
     "metadata": {},
     "output_type": "execute_result"
    }
   ],
   "source": [
    "# переменная в глобальной области видимости\n",
    "a = 1\n",
    "\n",
    "def something(b):\n",
    "    # функция вернет кортеж состоящий из локальной переменной b\n",
    "    # и глобальной переменной а, к которой прибавли 1\n",
    "    return b, a + 1\n",
    "\n",
    "# отображение результата вызова функции\n",
    "something(5)"
   ]
  },
  {
   "cell_type": "code",
   "execution_count": 12,
   "metadata": {
    "colab": {
     "base_uri": "https://localhost:8080/",
     "height": 166
    },
    "executionInfo": {
     "elapsed": 241,
     "status": "error",
     "timestamp": 1645793669313,
     "user": {
      "displayName": "Илья Витальевич Тихонов",
      "photoUrl": "https://lh3.googleusercontent.com/a/default-user=s64",
      "userId": "10513119548773881016"
     },
     "user_tz": -180
    },
    "id": "CkdkK0LBzvPW",
    "outputId": "0075440d-2a7f-4dc9-fd0f-0b4dbbcc41eb"
   },
   "outputs": [
    {
     "ename": "NameError",
     "evalue": "ignored",
     "output_type": "error",
     "traceback": [
      "\u001b[0;31m---------------------------------------------------------------------------\u001b[0m",
      "\u001b[0;31mNameError\u001b[0m                                 Traceback (most recent call last)",
      "\u001b[0;32m<ipython-input-12-89e6c98d9288>\u001b[0m in \u001b[0;36m<module>\u001b[0;34m()\u001b[0m\n\u001b[0;32m----> 1\u001b[0;31m \u001b[0mb\u001b[0m\u001b[0;34m\u001b[0m\u001b[0;34m\u001b[0m\u001b[0m\n\u001b[0m",
      "\u001b[0;31mNameError\u001b[0m: name 'b' is not defined"
     ]
    }
   ],
   "source": [
    "b"
   ]
  },
  {
   "cell_type": "code",
   "execution_count": 13,
   "metadata": {
    "colab": {
     "base_uri": "https://localhost:8080/",
     "height": 218
    },
    "executionInfo": {
     "elapsed": 255,
     "status": "error",
     "timestamp": 1645793678556,
     "user": {
      "displayName": "Илья Витальевич Тихонов",
      "photoUrl": "https://lh3.googleusercontent.com/a/default-user=s64",
      "userId": "10513119548773881016"
     },
     "user_tz": -180
    },
    "id": "6O02H5gF4SHH",
    "outputId": "468d92f0-b2a0-4c8b-81f5-e135726c27c1"
   },
   "outputs": [
    {
     "name": "stdout",
     "output_type": "stream",
     "text": [
      "(5, 2, 3)\n"
     ]
    },
    {
     "ename": "NameError",
     "evalue": "ignored",
     "output_type": "error",
     "traceback": [
      "\u001b[0;31m---------------------------------------------------------------------------\u001b[0m",
      "\u001b[0;31mNameError\u001b[0m                                 Traceback (most recent call last)",
      "\u001b[0;32m<ipython-input-13-d164a39c073b>\u001b[0m in \u001b[0;36m<module>\u001b[0;34m()\u001b[0m\n\u001b[1;32m     16\u001b[0m \u001b[0;31m# такую переменную называют локальной (она не определена в глобальной области видимости)\u001b[0m\u001b[0;34m\u001b[0m\u001b[0;34m\u001b[0m\u001b[0;34m\u001b[0m\u001b[0m\n\u001b[1;32m     17\u001b[0m \u001b[0;31m# из-за чего и появляется ошибка\u001b[0m\u001b[0;34m\u001b[0m\u001b[0;34m\u001b[0m\u001b[0;34m\u001b[0m\u001b[0m\n\u001b[0;32m---> 18\u001b[0;31m \u001b[0mprint\u001b[0m\u001b[0;34m(\u001b[0m\u001b[0mc\u001b[0m\u001b[0;34m)\u001b[0m\u001b[0;34m\u001b[0m\u001b[0;34m\u001b[0m\u001b[0m\n\u001b[0m",
      "\u001b[0;31mNameError\u001b[0m: name 'c' is not defined"
     ]
    }
   ],
   "source": [
    "# переменная в глобальной области видимости\n",
    "a = 1\n",
    "\n",
    "def something(b):\n",
    "    # функция вернет кортеж состоящий из локальной переменной b\n",
    "    # и глобальной переменной а, к которой прибавли 1\n",
    "    c = 3\n",
    "    return b, a + 1, c\n",
    "\n",
    "\n",
    "# отображение результата вызова функции\n",
    "print(something(5))\n",
    "\n",
    "# внутри функции something(b) имя с связано со значением 3\n",
    "# Область видимости этой переменной - функция something\n",
    "# такую переменную называют локальной (она не определена в глобальной области видимости)\n",
    "# из-за чего и появляется ошибка\n",
    "print(c)"
   ]
  },
  {
   "cell_type": "markdown",
   "metadata": {
    "id": "4iEBQDu480kQ"
   },
   "source": [
    "\n",
    "UnboundLocalError:"
   ]
  },
  {
   "cell_type": "code",
   "execution_count": 14,
   "metadata": {
    "colab": {
     "base_uri": "https://localhost:8080/",
     "height": 322
    },
    "executionInfo": {
     "elapsed": 265,
     "status": "error",
     "timestamp": 1645793689858,
     "user": {
      "displayName": "Илья Витальевич Тихонов",
      "photoUrl": "https://lh3.googleusercontent.com/a/default-user=s64",
      "userId": "10513119548773881016"
     },
     "user_tz": -180
    },
    "id": "jBHRomUw4vtN",
    "outputId": "bc7ca458-8703-462c-f6c7-f5069f6e76ab"
   },
   "outputs": [
    {
     "ename": "UnboundLocalError",
     "evalue": "ignored",
     "output_type": "error",
     "traceback": [
      "\u001b[0;31m---------------------------------------------------------------------------\u001b[0m",
      "\u001b[0;31mUnboundLocalError\u001b[0m                         Traceback (most recent call last)",
      "\u001b[0;32m<ipython-input-14-8e96cf5555ee>\u001b[0m in \u001b[0;36m<module>\u001b[0;34m()\u001b[0m\n\u001b[1;32m      5\u001b[0m     \u001b[0;32mreturn\u001b[0m \u001b[0mx\u001b[0m\u001b[0;34m\u001b[0m\u001b[0;34m\u001b[0m\u001b[0m\n\u001b[1;32m      6\u001b[0m \u001b[0;34m\u001b[0m\u001b[0m\n\u001b[0;32m----> 7\u001b[0;31m \u001b[0mprint\u001b[0m\u001b[0;34m(\u001b[0m\u001b[0ma\u001b[0m\u001b[0;34m,\u001b[0m \u001b[0mf\u001b[0m\u001b[0;34m(\u001b[0m\u001b[0;36m4\u001b[0m\u001b[0;34m)\u001b[0m\u001b[0;34m)\u001b[0m\u001b[0;34m\u001b[0m\u001b[0;34m\u001b[0m\u001b[0m\n\u001b[0m",
      "\u001b[0;32m<ipython-input-14-8e96cf5555ee>\u001b[0m in \u001b[0;36mf\u001b[0;34m(x)\u001b[0m\n\u001b[1;32m      1\u001b[0m \u001b[0ma\u001b[0m \u001b[0;34m=\u001b[0m \u001b[0;36m20\u001b[0m\u001b[0;34m\u001b[0m\u001b[0;34m\u001b[0m\u001b[0m\n\u001b[1;32m      2\u001b[0m \u001b[0;32mdef\u001b[0m \u001b[0mf\u001b[0m\u001b[0;34m(\u001b[0m\u001b[0mx\u001b[0m\u001b[0;34m)\u001b[0m\u001b[0;34m:\u001b[0m\u001b[0;34m\u001b[0m\u001b[0;34m\u001b[0m\u001b[0m\n\u001b[0;32m----> 3\u001b[0;31m     \u001b[0ma\u001b[0m \u001b[0;34m=\u001b[0m \u001b[0ma\u001b[0m \u001b[0;34m+\u001b[0m \u001b[0;36m3\u001b[0m\u001b[0;34m\u001b[0m\u001b[0;34m\u001b[0m\u001b[0m\n\u001b[0m\u001b[1;32m      4\u001b[0m     \u001b[0mx\u001b[0m \u001b[0;34m=\u001b[0m \u001b[0mx\u001b[0m \u001b[0;34m+\u001b[0m \u001b[0ma\u001b[0m\u001b[0;34m\u001b[0m\u001b[0;34m\u001b[0m\u001b[0m\n\u001b[1;32m      5\u001b[0m     \u001b[0;32mreturn\u001b[0m \u001b[0mx\u001b[0m\u001b[0;34m\u001b[0m\u001b[0;34m\u001b[0m\u001b[0m\n",
      "\u001b[0;31mUnboundLocalError\u001b[0m: local variable 'a' referenced before assignment"
     ]
    }
   ],
   "source": [
    "a = 20\n",
    "def f(x):\n",
    "    a = a + 3\n",
    "    x = x + a\n",
    "    return x\n",
    "\n",
    "print(a, f(4))"
   ]
  },
  {
   "cell_type": "code",
   "execution_count": 15,
   "metadata": {
    "colab": {
     "base_uri": "https://localhost:8080/"
    },
    "executionInfo": {
     "elapsed": 823,
     "status": "ok",
     "timestamp": 1645793746399,
     "user": {
      "displayName": "Илья Витальевич Тихонов",
      "photoUrl": "https://lh3.googleusercontent.com/a/default-user=s64",
      "userId": "10513119548773881016"
     },
     "user_tz": -180
    },
    "id": "TD5pTv3n-f94",
    "outputId": "0d96e58f-aa63-48d4-8304-09ba38e16f49"
   },
   "outputs": [
    {
     "name": "stdout",
     "output_type": "stream",
     "text": [
      "20 27\n"
     ]
    }
   ],
   "source": [
    "a = 20\n",
    "# а так все ок, факт присвоения не делает переменную а локальной, ошибка не возникает\n",
    "def f(x):\n",
    "    b = a + 3\n",
    "    x = x + b\n",
    "    return x\n",
    "\n",
    "print(a, f(4))"
   ]
  },
  {
   "cell_type": "markdown",
   "metadata": {
    "id": "JFu0BKql-NI8"
   },
   "source": [
    "Еще один пример Unboudlocal:"
   ]
  },
  {
   "cell_type": "code",
   "execution_count": null,
   "metadata": {
    "colab": {
     "base_uri": "https://localhost:8080/",
     "height": 323
    },
    "executionInfo": {
     "elapsed": 475,
     "status": "error",
     "timestamp": 1644920465603,
     "user": {
      "displayName": "Илья Витальевич Тихонов",
      "photoUrl": "https://lh3.googleusercontent.com/a/default-user=s64",
      "userId": "10513119548773881016"
     },
     "user_tz": -180
    },
    "id": "a7nVW6-78v8C",
    "outputId": "5764612e-181a-45bb-8a09-5ab2fa59b7c6"
   },
   "outputs": [
    {
     "ename": "UnboundLocalError",
     "evalue": "ignored",
     "output_type": "error",
     "traceback": [
      "\u001b[0;31m---------------------------------------------------------------------------\u001b[0m",
      "\u001b[0;31mUnboundLocalError\u001b[0m                         Traceback (most recent call last)",
      "\u001b[0;32m<ipython-input-12-92104dad85b6>\u001b[0m in \u001b[0;36m<module>\u001b[0;34m()\u001b[0m\n\u001b[1;32m      6\u001b[0m \u001b[0;34m\u001b[0m\u001b[0m\n\u001b[1;32m      7\u001b[0m \u001b[0ma\u001b[0m \u001b[0;34m=\u001b[0m \u001b[0;36m20\u001b[0m\u001b[0;34m\u001b[0m\u001b[0;34m\u001b[0m\u001b[0m\n\u001b[0;32m----> 8\u001b[0;31m \u001b[0mf\u001b[0m\u001b[0;34m(\u001b[0m\u001b[0;34m)\u001b[0m\u001b[0;34m\u001b[0m\u001b[0;34m\u001b[0m\u001b[0m\n\u001b[0m",
      "\u001b[0;32m<ipython-input-12-92104dad85b6>\u001b[0m in \u001b[0;36mf\u001b[0;34m()\u001b[0m\n\u001b[1;32m      1\u001b[0m \u001b[0;31m# так тоже нельзя\u001b[0m\u001b[0;34m\u001b[0m\u001b[0;34m\u001b[0m\u001b[0;34m\u001b[0m\u001b[0m\n\u001b[1;32m      2\u001b[0m \u001b[0;32mdef\u001b[0m \u001b[0mf\u001b[0m\u001b[0;34m(\u001b[0m\u001b[0;34m)\u001b[0m\u001b[0;34m:\u001b[0m\u001b[0;34m\u001b[0m\u001b[0;34m\u001b[0m\u001b[0m\n\u001b[0;32m----> 3\u001b[0;31m     \u001b[0mprint\u001b[0m\u001b[0;34m(\u001b[0m\u001b[0ma\u001b[0m\u001b[0;34m)\u001b[0m\u001b[0;34m\u001b[0m\u001b[0;34m\u001b[0m\u001b[0m\n\u001b[0m\u001b[1;32m      4\u001b[0m     \u001b[0;32mif\u001b[0m \u001b[0;32mFalse\u001b[0m\u001b[0;34m:\u001b[0m\u001b[0;34m\u001b[0m\u001b[0;34m\u001b[0m\u001b[0m\n\u001b[1;32m      5\u001b[0m         \u001b[0ma\u001b[0m \u001b[0;34m=\u001b[0m \u001b[0;36m0\u001b[0m\u001b[0;34m\u001b[0m\u001b[0;34m\u001b[0m\u001b[0m\n",
      "\u001b[0;31mUnboundLocalError\u001b[0m: local variable 'a' referenced before assignment"
     ]
    }
   ],
   "source": [
    "# так тоже нельзя\n",
    "def f():\n",
    "    print(a)\n",
    "    if False:\n",
    "        a = 0\n",
    "\n",
    "a = 20\n",
    "f()"
   ]
  },
  {
   "cell_type": "code",
   "execution_count": 17,
   "metadata": {
    "colab": {
     "base_uri": "https://localhost:8080/"
    },
    "executionInfo": {
     "elapsed": 250,
     "status": "ok",
     "timestamp": 1645793787693,
     "user": {
      "displayName": "Илья Витальевич Тихонов",
      "photoUrl": "https://lh3.googleusercontent.com/a/default-user=s64",
      "userId": "10513119548773881016"
     },
     "user_tz": -180
    },
    "id": "ATFs5J_x9A3K",
    "outputId": "80e1e0f5-85d4-4df4-993e-f80785111ae4"
   },
   "outputs": [
    {
     "name": "stdout",
     "output_type": "stream",
     "text": [
      "20\n"
     ]
    }
   ],
   "source": [
    "# а так можно, она глобальная\n",
    "def f():\n",
    "    print(a)\n",
    "    # if False:\n",
    "    #     a = 0\n",
    "\n",
    "a = 20\n",
    "f()"
   ]
  },
  {
   "cell_type": "markdown",
   "metadata": {
    "id": "49sWWVG8_tXn"
   },
   "source": [
    "Упрощает все global.\n",
    "\n",
    "Python содержит оператор global, он объявляет переменную доступной для блока кода, следующим за оператором."
   ]
  },
  {
   "cell_type": "code",
   "execution_count": 20,
   "metadata": {
    "colab": {
     "base_uri": "https://localhost:8080/"
    },
    "executionInfo": {
     "elapsed": 248,
     "status": "ok",
     "timestamp": 1645793840303,
     "user": {
      "displayName": "Илья Витальевич Тихонов",
      "photoUrl": "https://lh3.googleusercontent.com/a/default-user=s64",
      "userId": "10513119548773881016"
     },
     "user_tz": -180
    },
    "id": "SKEYE93E-XCd",
    "outputId": "11839bcd-4abe-472b-dd89-72a13e757555"
   },
   "outputs": [
    {
     "data": {
      "text/plain": [
       "1"
      ]
     },
     "execution_count": 20,
     "metadata": {},
     "output_type": "execute_result"
    }
   ],
   "source": [
    "# глобальная переменная a\n",
    "a = 0\n",
    "\n",
    "def some_func():\n",
    "    # даем функции \"увидеть\" глобальную а\n",
    "    global a\n",
    "    # меняем значение глобальной переменной\n",
    "    a += 1\n",
    "\n",
    "some_func()\n",
    "\n",
    "a"
   ]
  },
  {
   "cell_type": "code",
   "execution_count": null,
   "metadata": {
    "colab": {
     "base_uri": "https://localhost:8080/",
     "height": 322
    },
    "executionInfo": {
     "elapsed": 3,
     "status": "error",
     "timestamp": 1644872149019,
     "user": {
      "displayName": "Илья Витальевич Тихонов",
      "photoUrl": "https://lh3.googleusercontent.com/a/default-user=s64",
      "userId": "10513119548773881016"
     },
     "user_tz": -180
    },
    "id": "AMsP7jpF_6AL",
    "outputId": "12323f1c-e8e6-4ee0-ffac-ef1a5d0f2174"
   },
   "outputs": [
    {
     "ename": "UnboundLocalError",
     "evalue": "ignored",
     "output_type": "error",
     "traceback": [
      "\u001b[0;31m---------------------------------------------------------------------------\u001b[0m",
      "\u001b[0;31mUnboundLocalError\u001b[0m                         Traceback (most recent call last)",
      "\u001b[0;32m<ipython-input-36-83afee47444a>\u001b[0m in \u001b[0;36m<module>\u001b[0;34m()\u001b[0m\n\u001b[1;32m     15\u001b[0m \u001b[0;31m# из-за чего a - для нее внешняя переменная, лежащая в другой области видимости\u001b[0m\u001b[0;34m\u001b[0m\u001b[0;34m\u001b[0m\u001b[0;34m\u001b[0m\u001b[0m\n\u001b[1;32m     16\u001b[0m \u001b[0;31m# происходит ошибка UnboundLocalError\u001b[0m\u001b[0;34m\u001b[0m\u001b[0;34m\u001b[0m\u001b[0;34m\u001b[0m\u001b[0m\n\u001b[0;32m---> 17\u001b[0;31m \u001b[0msome_func\u001b[0m\u001b[0;34m(\u001b[0m\u001b[0;34m)\u001b[0m\u001b[0;34m(\u001b[0m\u001b[0;34m)\u001b[0m\u001b[0;34m\u001b[0m\u001b[0;34m\u001b[0m\u001b[0m\n\u001b[0m",
      "\u001b[0;32m<ipython-input-36-83afee47444a>\u001b[0m in \u001b[0;36mincrease_a\u001b[0;34m()\u001b[0m\n\u001b[1;32m      5\u001b[0m     \u001b[0;32mdef\u001b[0m \u001b[0mincrease_a\u001b[0m\u001b[0;34m(\u001b[0m\u001b[0;34m)\u001b[0m\u001b[0;34m:\u001b[0m\u001b[0;34m\u001b[0m\u001b[0;34m\u001b[0m\u001b[0m\n\u001b[1;32m      6\u001b[0m         \u001b[0;31m# nonlocal a\u001b[0m\u001b[0;34m\u001b[0m\u001b[0;34m\u001b[0m\u001b[0;34m\u001b[0m\u001b[0m\n\u001b[0;32m----> 7\u001b[0;31m         \u001b[0ma\u001b[0m \u001b[0;34m+=\u001b[0m \u001b[0;36m1\u001b[0m\u001b[0;34m\u001b[0m\u001b[0;34m\u001b[0m\u001b[0m\n\u001b[0m\u001b[1;32m      8\u001b[0m         \u001b[0;32mreturn\u001b[0m \u001b[0ma\u001b[0m\u001b[0;34m\u001b[0m\u001b[0;34m\u001b[0m\u001b[0m\n\u001b[1;32m      9\u001b[0m     \u001b[0;32mreturn\u001b[0m \u001b[0mincrease_a\u001b[0m\u001b[0;34m\u001b[0m\u001b[0;34m\u001b[0m\u001b[0m\n",
      "\u001b[0;31mUnboundLocalError\u001b[0m: local variable 'a' referenced before assignment"
     ]
    }
   ],
   "source": [
    "# тут функция инициализирует значение a внутри себя и возвращает объект\n",
    "# функции increase_a, инициализированной внутри some_func\n",
    "def some_func():\n",
    "    a = 5\n",
    "    def increase_a(): \n",
    "        # nonlocal a\n",
    "        a += 1\n",
    "        return a\n",
    "    return increase_a\n",
    "\n",
    "# далее полученный объект вызывается\n",
    "# внутренняя фукнция increase_a со своей областью видимости\n",
    "# ничего не знает о породившей ее внешней функции some_func\n",
    "# поскольку вызывается она только здесь, в глобальной области видимости\n",
    "# из-за чего a - для нее внешняя переменная, лежащая в другой области видимости\n",
    "# происходит ошибка UnboundLocalError                          \n",
    "some_func()()"
   ]
  },
  {
   "cell_type": "code",
   "execution_count": 21,
   "metadata": {
    "colab": {
     "base_uri": "https://localhost:8080/"
    },
    "executionInfo": {
     "elapsed": 248,
     "status": "ok",
     "timestamp": 1645793886472,
     "user": {
      "displayName": "Илья Витальевич Тихонов",
      "photoUrl": "https://lh3.googleusercontent.com/a/default-user=s64",
      "userId": "10513119548773881016"
     },
     "user_tz": -180
    },
    "id": "6XnMWLhgBSVA",
    "outputId": "708e31fd-58b4-47ad-ae32-3bff25d9b153"
   },
   "outputs": [
    {
     "data": {
      "text/plain": [
       "6"
      ]
     },
     "execution_count": 21,
     "metadata": {},
     "output_type": "execute_result"
    }
   ],
   "source": [
    "# тут функция инициализирует значение a внутри себя и возвращает объект\n",
    "# функции increase_a, инициализированной внутри some_func\n",
    "def some_func():\n",
    "    a = 5\n",
    "    def increase_a(): \n",
    "        nonlocal a\n",
    "        a += 1\n",
    "        return a\n",
    "    return increase_a\n",
    "\n",
    "# исправить эту ситуацию можно указав фукнции increase_a\n",
    "# о местонахождении a через дерективу nonlocal\n",
    "# теперь все ок, 5+1 = 6\n",
    "some_func()()"
   ]
  },
  {
   "cell_type": "markdown",
   "metadata": {
    "id": "CSgPwqwUCKuh"
   },
   "source": [
    "## Анонимные функции, lambda\n",
    "\n",
    "Анонимные функции - обычный функции но записанные в одну строку. Обозначается lambda, ее не обязательно присваивать переменной (как с def).\n"
   ]
  },
  {
   "cell_type": "code",
   "execution_count": 22,
   "metadata": {
    "colab": {
     "base_uri": "https://localhost:8080/"
    },
    "executionInfo": {
     "elapsed": 238,
     "status": "ok",
     "timestamp": 1645793902604,
     "user": {
      "displayName": "Илья Витальевич Тихонов",
      "photoUrl": "https://lh3.googleusercontent.com/a/default-user=s64",
      "userId": "10513119548773881016"
     },
     "user_tz": -180
    },
    "id": "SzYdeJvRBgiH",
    "outputId": "d31f4f9a-e2d5-4542-e738-0e3eeeeb2d47"
   },
   "outputs": [
    {
     "data": {
      "text/plain": [
       "8"
      ]
     },
     "execution_count": 22,
     "metadata": {},
     "output_type": "execute_result"
    }
   ],
   "source": [
    "# возводим а в степень b\n",
    "func = lambda a, b: a**b\n",
    "func(2, 3)"
   ]
  },
  {
   "cell_type": "code",
   "execution_count": 23,
   "metadata": {
    "colab": {
     "base_uri": "https://localhost:8080/"
    },
    "executionInfo": {
     "elapsed": 246,
     "status": "ok",
     "timestamp": 1645793920212,
     "user": {
      "displayName": "Илья Витальевич Тихонов",
      "photoUrl": "https://lh3.googleusercontent.com/a/default-user=s64",
      "userId": "10513119548773881016"
     },
     "user_tz": -180
    },
    "id": "0cKRhU93CMCN",
    "outputId": "c8fc978d-5cd9-45fb-ce43-68e69b0a76e1"
   },
   "outputs": [
    {
     "data": {
      "text/plain": [
       "6"
      ]
     },
     "execution_count": 23,
     "metadata": {},
     "output_type": "execute_result"
    }
   ],
   "source": [
    "func = lambda *args: args[0]*args[1]\n",
    "func(2, 3, 4)"
   ]
  },
  {
   "cell_type": "markdown",
   "metadata": {
    "id": "5qf2sC8JCbUE"
   },
   "source": [
    "### map\n",
    "\n",
    "Применяет указанную функцию к каждому элементу указанной последовательности/последовательностей. \n",
    "Функция, которую следует применить к элементам последовательности или последовательностей, должна принимать количество элементов равное количеству последовательностей. "
   ]
  },
  {
   "cell_type": "code",
   "execution_count": 24,
   "metadata": {
    "colab": {
     "base_uri": "https://localhost:8080/"
    },
    "executionInfo": {
     "elapsed": 272,
     "status": "ok",
     "timestamp": 1645793939936,
     "user": {
      "displayName": "Илья Витальевич Тихонов",
      "photoUrl": "https://lh3.googleusercontent.com/a/default-user=s64",
      "userId": "10513119548773881016"
     },
     "user_tz": -180
    },
    "id": "YktxfLoDCZjE",
    "outputId": "da715cda-cf32-46e7-bde1-7b6b940d51c5"
   },
   "outputs": [
    {
     "data": {
      "text/plain": [
       "[4, 6, 6, 4]"
      ]
     },
     "execution_count": 24,
     "metadata": {},
     "output_type": "execute_result"
    }
   ],
   "source": [
    "list1 = [1, 2, 3, 4]\n",
    "list2 = [4, 3, 2, 1]\n",
    "\n",
    "def a_na_b(a, b):\n",
    "    return a*b\n",
    "\n",
    "list(map(a_na_b, list1, list2))"
   ]
  },
  {
   "cell_type": "code",
   "execution_count": null,
   "metadata": {
    "colab": {
     "base_uri": "https://localhost:8080/"
    },
    "executionInfo": {
     "elapsed": 2,
     "status": "ok",
     "timestamp": 1644920799282,
     "user": {
      "displayName": "Илья Витальевич Тихонов",
      "photoUrl": "https://lh3.googleusercontent.com/a/default-user=s64",
      "userId": "10513119548773881016"
     },
     "user_tz": -180
    },
    "id": "VdjenfqTCcJL",
    "outputId": "550e8626-2f27-4c89-fe42-ba4fa4bcef87"
   },
   "outputs": [
    {
     "data": {
      "text/plain": [
       "[4, 6, 6, 4]"
      ]
     },
     "execution_count": 18,
     "metadata": {},
     "output_type": "execute_result"
    }
   ],
   "source": [
    "list(map(lambda a, b: a*b, list1, list2))"
   ]
  },
  {
   "cell_type": "markdown",
   "metadata": {
    "id": "LIcW4KlOCdwL"
   },
   "source": [
    "### filtered\n",
    "\n",
    "При помощи указанной функции фильтрует элементы переданного объекта.\n",
    "\n",
    "filtered - это фильтрующая функция. Она принимает элемент фильтруемого объекта. Если функция вернёт False, данный элемент не попадёт в результат. Если передано None, считается что требуется применить тождественное отображение (lambda *args: args), таким образом все элементы, оцениваемые как False будут отфильтрованы."
   ]
  },
  {
   "cell_type": "code",
   "execution_count": 25,
   "metadata": {
    "colab": {
     "base_uri": "https://localhost:8080/"
    },
    "executionInfo": {
     "elapsed": 231,
     "status": "ok",
     "timestamp": 1645793974257,
     "user": {
      "displayName": "Илья Витальевич Тихонов",
      "photoUrl": "https://lh3.googleusercontent.com/a/default-user=s64",
      "userId": "10513119548773881016"
     },
     "user_tz": -180
    },
    "id": "jH-FOnFKCc4r",
    "outputId": "bfc56bd8-bfc0-4b39-d49a-12b5006311aa"
   },
   "outputs": [
    {
     "data": {
      "text/plain": [
       "['+7123456789', '8123456789']"
      ]
     },
     "execution_count": 25,
     "metadata": {},
     "output_type": "execute_result"
    }
   ],
   "source": [
    "data = ['+7123456789', '+1123456789', '8123456789']\n",
    "\n",
    "def search_for_rus_phones(number):\n",
    "    if number[:2] == '+7' or number[:2] == '+8' or number[0] == '8':\n",
    "        return number\n",
    "\n",
    "filter_res = filter(search_for_rus_phones, data)\n",
    "\n",
    "list(filter_res)"
   ]
  },
  {
   "cell_type": "code",
   "execution_count": 25,
   "metadata": {
    "executionInfo": {
     "elapsed": 228,
     "status": "ok",
     "timestamp": 1645793982841,
     "user": {
      "displayName": "Илья Витальевич Тихонов",
      "photoUrl": "https://lh3.googleusercontent.com/a/default-user=s64",
      "userId": "10513119548773881016"
     },
     "user_tz": -180
    },
    "id": "gRfUfHsYCirC"
   },
   "outputs": [],
   "source": []
  }
 ],
 "metadata": {
  "colab": {
   "authorship_tag": "ABX9TyMXsmeaWwRHOL0Eo9NMAqXj",
   "collapsed_sections": [],
   "name": "Урок 4.1.ipynb",
   "provenance": [],
   "toc_visible": true
  },
  "kernelspec": {
   "display_name": "Python 3 (ipykernel)",
   "language": "python",
   "name": "python3"
  },
  "language_info": {
   "codemirror_mode": {
    "name": "ipython",
    "version": 3
   },
   "file_extension": ".py",
   "mimetype": "text/x-python",
   "name": "python",
   "nbconvert_exporter": "python",
   "pygments_lexer": "ipython3",
   "version": "3.9.12"
  }
 },
 "nbformat": 4,
 "nbformat_minor": 1
}
