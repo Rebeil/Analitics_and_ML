{
 "cells": [
  {
   "cell_type": "code",
   "execution_count": 29,
   "id": "3f983d21",
   "metadata": {
    "ExecuteTime": {
     "end_time": "2022-10-19T18:23:52.355501Z",
     "start_time": "2022-10-19T18:23:52.351184Z"
    }
   },
   "outputs": [
    {
     "name": "stdout",
     "output_type": "stream",
     "text": [
      "2 признак_2\n",
      "2 признак_1\n",
      "1 признак_3\n"
     ]
    }
   ],
   "source": [
    "data = \"признак_1 признак_1 признак_1 признак_1 признак_2 признак_2 признак_3\".split()\n",
    "from collections import Counter\n",
    "\n",
    "data = Counter(data)\n",
    "data = [(value, key,) for key, value in data.items()]\n",
    "data.sort(reverse=True)\n",
    "\n",
    "for i in data:\n",
    "    print(i[0],i[1])"
   ]
  },
  {
   "cell_type": "code",
   "execution_count": 35,
   "id": "c2163957",
   "metadata": {
    "ExecuteTime": {
     "end_time": "2022-10-19T18:26:10.231632Z",
     "start_time": "2022-10-19T18:26:10.227226Z"
    }
   },
   "outputs": [
    {
     "name": "stdout",
     "output_type": "stream",
     "text": [
      "{1: 'признак_3', 2: 'признак_2', 4: 'признак_1'}\n",
      "4 признак_1\n",
      "2 признак_2\n",
      "1 признак_3\n"
     ]
    },
    {
     "data": {
      "text/plain": [
       "[None, None, None]"
      ]
     },
     "execution_count": 35,
     "metadata": {},
     "output_type": "execute_result"
    }
   ],
   "source": [
    "#словарём\n",
    "data = \"признак_1 признак_1 признак_1 признак_1 признак_2 признак_2 признак_3\".split()\n",
    "\n",
    "result = {data.count(i): i for i in set(data)}\n",
    "print(result)\n",
    "[print(f'{k} {v}') for k, v in sorted(result.items(), reverse=True)]"
   ]
  },
  {
   "cell_type": "code",
   "execution_count": 40,
   "id": "dc1c8ef6",
   "metadata": {
    "ExecuteTime": {
     "end_time": "2022-10-19T18:29:37.707582Z",
     "start_time": "2022-10-19T18:29:37.703308Z"
    }
   },
   "outputs": [
    {
     "name": "stdout",
     "output_type": "stream",
     "text": [
      "4\n",
      "2\n",
      "1\n",
      "4 признак_1\n",
      "2 признак_2\n",
      "1 признак_3\n"
     ]
    }
   ],
   "source": [
    "data = \"признак_1 признак_1 признак_1 признак_1 признак_2 признак_2 признак_3\".split()\n",
    "\n",
    "\n",
    "s = sorted(set(data))\n",
    "\n",
    "#print(s)\n",
    "\n",
    "list1, list2 = [], []\n",
    "for i in range(len(s)):\n",
    "    print(data.count(s[i]))\n",
    "    list1.append(data.count(s[i]))\n",
    "    list2.append(s[i])\n",
    "\n",
    "list1, list2 = zip(*sorted(zip(list1, list2), reverse=True))\n",
    "list3 = list(zip(list1, list2))\n",
    "\n",
    "for i in list3:\n",
    "    print(*i)"
   ]
  },
  {
   "cell_type": "code",
   "execution_count": null,
   "id": "8f19ba1e",
   "metadata": {},
   "outputs": [],
   "source": [
    "data = input().split()\n",
    "\n",
    "# ваш код тут\n",
    "data=sorted(data)\n",
    "data2=sorted(set(data))\n",
    "a = []\n",
    "b = []\n",
    "for i in data2:\n",
    "    q=0\n",
    "    for j in data:\n",
    "        if i==j:\n",
    "            q+=1\n",
    "    a+=[q]\n",
    "    b+=[i]\n",
    "x=sorted(list(zip(a,b)))\n",
    "x=x[::-1]\n",
    "for i,j in x:\n",
    "    print(i,j)"
   ]
  },
  {
   "cell_type": "code",
   "execution_count": 16,
   "id": "c9726094",
   "metadata": {
    "ExecuteTime": {
     "end_time": "2022-10-19T17:46:16.959817Z",
     "start_time": "2022-10-19T17:46:16.956492Z"
    }
   },
   "outputs": [
    {
     "data": {
      "text/plain": [
       "{'признак_1'}"
      ]
     },
     "execution_count": 16,
     "metadata": {},
     "output_type": "execute_result"
    }
   ],
   "source": [
    "data = \"признак_1 признак_1 признак_1 признак_1 признак_2 признак_2 признак_3\".split()\n",
    "b = set()\n",
    "b.add(data[0])\n",
    "b"
   ]
  },
  {
   "cell_type": "code",
   "execution_count": 19,
   "id": "150a36e4",
   "metadata": {
    "ExecuteTime": {
     "end_time": "2022-10-19T18:16:36.771431Z",
     "start_time": "2022-10-19T18:16:36.759508Z"
    }
   },
   "outputs": [
    {
     "name": "stdout",
     "output_type": "stream",
     "text": [
      "(4, 3, 2, 1, 1) ('four', 'three', 'two', 'one2', 'one')\n"
     ]
    }
   ],
   "source": [
    "list1 = [3,2,4,1,1]\n",
    "list2 = ['three', 'two', 'four', 'one', 'one2']\n",
    "list1, list2 = zip(*sorted(zip(list1, list2)))\n",
    "print(list1[::-1],list2[::-1])"
   ]
  }
 ],
 "metadata": {
  "kernelspec": {
   "display_name": "Python 3 (ipykernel)",
   "language": "python",
   "name": "python3"
  },
  "language_info": {
   "codemirror_mode": {
    "name": "ipython",
    "version": 3
   },
   "file_extension": ".py",
   "mimetype": "text/x-python",
   "name": "python",
   "nbconvert_exporter": "python",
   "pygments_lexer": "ipython3",
   "version": "3.9.12"
  }
 },
 "nbformat": 4,
 "nbformat_minor": 5
}
