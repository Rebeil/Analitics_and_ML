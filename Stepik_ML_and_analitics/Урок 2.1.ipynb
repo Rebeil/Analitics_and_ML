{
 "cells": [
  {
   "cell_type": "markdown",
   "metadata": {
    "id": "-POJveKgYbDh"
   },
   "source": [
    "## None, is\n",
    "\n",
    "**ничего, null**\n",
    "\n",
    "Специальный тип в питоне, который обозначает *ничего*\n",
    "\n",
    "Проверить, является ли переменная param типом None, можно так:\n",
    "\n",
    "```\n",
    "if param is None\n",
    "```\n",
    "\n",
    "С первого взгляда может быть непонятно, зачем он нужен, но на самом деле это оченб удобный тип. Например, если вы где-то в коде создаете объект (базу данных, например), обращаясь к внешнему коду и хотите проверить, создалась ли ваша база данных, вы можете осуществить эту проверку, сравнив переменную базы данных с None. Примерно так:\n",
    "\n",
    "```\n",
    "database = MyDatabase(db_host, db_user, db_password, db_database)\n",
    "\n",
    "if database is None:\n",
    "```"
   ]
  },
  {
   "cell_type": "code",
   "execution_count": null,
   "metadata": {
    "id": "7zgeDIqeXgiR"
   },
   "outputs": [],
   "source": [
    "# Это специфическое значение None единственный представитель одноименного типа None\n",
    "None"
   ]
  },
  {
   "cell_type": "code",
   "execution_count": null,
   "metadata": {
    "colab": {
     "base_uri": "https://localhost:8080/"
    },
    "executionInfo": {
     "elapsed": 249,
     "status": "ok",
     "timestamp": 1644828211119,
     "user": {
      "displayName": "Илья Витальевич Тихонов",
      "photoUrl": "https://lh3.googleusercontent.com/a/default-user=s64",
      "userId": "10513119548773881016"
     },
     "user_tz": -180
    },
    "id": "ueoqtpJeZF1Y",
    "outputId": "ca927c04-6c22-4606-c995-66b040211cdf"
   },
   "outputs": [
    {
     "data": {
      "text/plain": [
       "True"
      ]
     },
     "execution_count": 8,
     "metadata": {},
     "output_type": "execute_result"
    }
   ],
   "source": [
    "z = None\n",
    "# ключевое выражение is проверяет, ссылается ли 2 объекта на одно и то же место в памяти\n",
    "z is None"
   ]
  },
  {
   "cell_type": "code",
   "execution_count": null,
   "metadata": {
    "colab": {
     "base_uri": "https://localhost:8080/"
    },
    "executionInfo": {
     "elapsed": 4,
     "status": "ok",
     "timestamp": 1644874013026,
     "user": {
      "displayName": "Илья Витальевич Тихонов",
      "photoUrl": "https://lh3.googleusercontent.com/a/default-user=s64",
      "userId": "10513119548773881016"
     },
     "user_tz": -180
    },
    "id": "shALeEOEHp9k",
    "outputId": "13bfdadb-a63d-4981-a410-c5ba2fcdef21"
   },
   "outputs": [
    {
     "data": {
      "text/plain": [
       "True"
      ]
     },
     "execution_count": 1,
     "metadata": {},
     "output_type": "execute_result"
    }
   ],
   "source": [
    "a = [5, 2, 3, 1, 4]\n",
    "# пример метода, который ничего не возвращает\n",
    "result = a.sort()\n",
    "result is None"
   ]
  },
  {
   "cell_type": "code",
   "execution_count": null,
   "metadata": {
    "colab": {
     "base_uri": "https://localhost:8080/"
    },
    "executionInfo": {
     "elapsed": 246,
     "status": "ok",
     "timestamp": 1644828223706,
     "user": {
      "displayName": "Илья Витальевич Тихонов",
      "photoUrl": "https://lh3.googleusercontent.com/a/default-user=s64",
      "userId": "10513119548773881016"
     },
     "user_tz": -180
    },
    "id": "gMgAw_X8ZrTm",
    "outputId": "b6aa9fc2-0dae-4ab2-d3f3-de5f2b35c549"
   },
   "outputs": [
    {
     "name": "stdout",
     "output_type": "stream",
     "text": [
      "None | <class 'NoneType'>\n"
     ]
    }
   ],
   "source": [
    "print(z, '|', type(z))"
   ]
  },
  {
   "cell_type": "code",
   "execution_count": null,
   "metadata": {
    "colab": {
     "base_uri": "https://localhost:8080/",
     "height": 165
    },
    "executionInfo": {
     "elapsed": 3,
     "status": "error",
     "timestamp": 1644828050529,
     "user": {
      "displayName": "Илья Витальевич Тихонов",
      "photoUrl": "https://lh3.googleusercontent.com/a/default-user=s64",
      "userId": "10513119548773881016"
     },
     "user_tz": -180
    },
    "id": "4JgvW3DBYQm8",
    "outputId": "f7b167f5-f8bf-49b2-d45a-2c44ab55c503"
   },
   "outputs": [
    {
     "ename": "TypeError",
     "evalue": "ignored",
     "output_type": "error",
     "traceback": [
      "\u001b[0;31m---------------------------------------------------------------------------\u001b[0m",
      "\u001b[0;31mTypeError\u001b[0m                                 Traceback (most recent call last)",
      "\u001b[0;32m<ipython-input-6-af2123a46eb2>\u001b[0m in \u001b[0;36m<module>\u001b[0;34m()\u001b[0m\n\u001b[0;32m----> 1\u001b[0;31m \u001b[0mint\u001b[0m\u001b[0;34m(\u001b[0m\u001b[0;32mNone\u001b[0m\u001b[0;34m)\u001b[0m\u001b[0;34m\u001b[0m\u001b[0;34m\u001b[0m\u001b[0m\n\u001b[0m",
      "\u001b[0;31mTypeError\u001b[0m: int() argument must be a string, a bytes-like object or a number, not 'NoneType'"
     ]
    }
   ],
   "source": [
    "int(None)"
   ]
  },
  {
   "cell_type": "markdown",
   "metadata": {
    "id": "n26Y3OpeZGzz"
   },
   "source": [
    "None нельзя приводить к другим типам данных кроме bool и str, тогда он вернет False"
   ]
  },
  {
   "cell_type": "code",
   "execution_count": null,
   "metadata": {
    "colab": {
     "base_uri": "https://localhost:8080/"
    },
    "executionInfo": {
     "elapsed": 252,
     "status": "ok",
     "timestamp": 1644828057943,
     "user": {
      "displayName": "Илья Витальевич Тихонов",
      "photoUrl": "https://lh3.googleusercontent.com/a/default-user=s64",
      "userId": "10513119548773881016"
     },
     "user_tz": -180
    },
    "id": "m0o6HawzYtiS",
    "outputId": "7d6c1a01-3d97-4396-e931-a92f8a81eeec"
   },
   "outputs": [
    {
     "data": {
      "text/plain": [
       "False"
      ]
     },
     "execution_count": 7,
     "metadata": {},
     "output_type": "execute_result"
    }
   ],
   "source": [
    "bool(None)"
   ]
  },
  {
   "cell_type": "markdown",
   "metadata": {
    "id": "oCzXf-OAaOL9"
   },
   "source": [
    "## str\n",
    "\n",
    "**строка**\n",
    "\n",
    "Тип переменной \"строка\". Нужен для хранения и выполнения операций с строками -- наборами символов. В питоне строку можно задавать как с помощью одинарных кавычек, так и с помощью двойных, разницы нет (главное, чтобы в начале и конце одной строки стояли одинаковые кавычки):\n",
    "\n",
    "В *python2.7* есть отдельный тип **unicode**. В *python3.5 (и выше)* (который будем использовать мы) всё это включено в тип **str**."
   ]
  },
  {
   "cell_type": "code",
   "execution_count": null,
   "metadata": {
    "colab": {
     "base_uri": "https://localhost:8080/"
    },
    "executionInfo": {
     "elapsed": 256,
     "status": "ok",
     "timestamp": 1644828444580,
     "user": {
      "displayName": "Илья Витальевич Тихонов",
      "photoUrl": "https://lh3.googleusercontent.com/a/default-user=s64",
      "userId": "10513119548773881016"
     },
     "user_tz": -180
    },
    "id": "4aSdDkxYZ0VU",
    "outputId": "1a1002d1-4794-4e11-a794-749685e9e379"
   },
   "outputs": [
    {
     "name": "stdout",
     "output_type": "stream",
     "text": [
      "abc | <class 'str'>\n",
      "xyz | <class 'str'>\n"
     ]
    }
   ],
   "source": [
    "x = \"abc\"\n",
    "y = 'xyz'\n",
    "print(x, '|', type(x))\n",
    "print(y, '|', type(y))"
   ]
  },
  {
   "cell_type": "code",
   "execution_count": null,
   "metadata": {
    "colab": {
     "base_uri": "https://localhost:8080/",
     "height": 35
    },
    "executionInfo": {
     "elapsed": 222,
     "status": "ok",
     "timestamp": 1644875413611,
     "user": {
      "displayName": "Илья Витальевич Тихонов",
      "photoUrl": "https://lh3.googleusercontent.com/a/default-user=s64",
      "userId": "10513119548773881016"
     },
     "user_tz": -180
    },
    "id": "TK9Gjgm8NrkY",
    "outputId": "548f71c8-efce-44d1-92e8-069e6a32c286"
   },
   "outputs": [
    {
     "data": {
      "application/vnd.google.colaboratory.intrinsic+json": {
       "type": "string"
      },
      "text/plain": [
       "\"экранирование символа ковычки '\""
      ]
     },
     "execution_count": 4,
     "metadata": {},
     "output_type": "execute_result"
    }
   ],
   "source": [
    "'экранирование символа ковычки \\''"
   ]
  },
  {
   "cell_type": "markdown",
   "metadata": {
    "id": "APqcqDvialmd"
   },
   "source": [
    "Со строками тоже можно выполнять некоторые операции. Например, можно сложить две строки -- тогда вторая припишется в конец первой:"
   ]
  },
  {
   "cell_type": "code",
   "execution_count": null,
   "metadata": {
    "colab": {
     "base_uri": "https://localhost:8080/"
    },
    "executionInfo": {
     "elapsed": 237,
     "status": "ok",
     "timestamp": 1644828455943,
     "user": {
      "displayName": "Илья Витальевич Тихонов",
      "photoUrl": "https://lh3.googleusercontent.com/a/default-user=s64",
      "userId": "10513119548773881016"
     },
     "user_tz": -180
    },
    "id": "DqSpa4uFakTK",
    "outputId": "e1eeefeb-337e-4241-f28b-76de2b929656"
   },
   "outputs": [
    {
     "name": "stdout",
     "output_type": "stream",
     "text": [
      "Привет Мир\n"
     ]
    }
   ],
   "source": [
    "a = 'Привет'\n",
    "b = \"Мир\"\n",
    "s = a + \" \" + b\n",
    "print(s)"
   ]
  },
  {
   "cell_type": "markdown",
   "metadata": {
    "id": "3zdDAGAac9Sl"
   },
   "source": [
    "Или умножить:"
   ]
  },
  {
   "cell_type": "code",
   "execution_count": null,
   "metadata": {
    "colab": {
     "base_uri": "https://localhost:8080/",
     "height": 35
    },
    "executionInfo": {
     "elapsed": 244,
     "status": "ok",
     "timestamp": 1644828563014,
     "user": {
      "displayName": "Илья Витальевич Тихонов",
      "photoUrl": "https://lh3.googleusercontent.com/a/default-user=s64",
      "userId": "10513119548773881016"
     },
     "user_tz": -180
    },
    "id": "YQkROfQGanFJ",
    "outputId": "68df04e9-09ce-4081-bc13-594acb342fd2"
   },
   "outputs": [
    {
     "data": {
      "application/vnd.google.colaboratory.intrinsic+json": {
       "type": "string"
      },
      "text/plain": [
       "'ПриветПриветПриветПривет'"
      ]
     },
     "execution_count": 14,
     "metadata": {},
     "output_type": "execute_result"
    }
   ],
   "source": [
    "a * 4"
   ]
  },
  {
   "cell_type": "markdown",
   "metadata": {
    "id": "ua_g5L97MzxP"
   },
   "source": [
    "### Ввод с клавиатуры"
   ]
  },
  {
   "cell_type": "markdown",
   "metadata": {
    "id": "f7cLCloWNIc0"
   },
   "source": [
    "\n",
    "Функция input выводит на экран строку < s >, затем считывает введeнную пользователем строку и связывает < имя > c этим строковым значением. \n",
    "\n",
    "Пример использования:"
   ]
  },
  {
   "cell_type": "code",
   "execution_count": null,
   "metadata": {
    "colab": {
     "base_uri": "https://localhost:8080/"
    },
    "executionInfo": {
     "elapsed": 1380,
     "status": "ok",
     "timestamp": 1644875210290,
     "user": {
      "displayName": "Илья Витальевич Тихонов",
      "photoUrl": "https://lh3.googleusercontent.com/a/default-user=s64",
      "userId": "10513119548773881016"
     },
     "user_tz": -180
    },
    "id": "2mc5N7QzM3Rq",
    "outputId": "56e67ebe-0220-431d-bfd9-469e87eccb2b"
   },
   "outputs": [
    {
     "name": "stdout",
     "output_type": "stream",
     "text": [
      "Введите что-то:123\n"
     ]
    },
    {
     "data": {
      "text/plain": [
       "str"
      ]
     },
     "execution_count": 3,
     "metadata": {},
     "output_type": "execute_result"
    }
   ],
   "source": [
    "a = input('Введите что-то: ')\n",
    "type(a)"
   ]
  },
  {
   "cell_type": "markdown",
   "metadata": {
    "id": "mQnw_wJadPQe"
   },
   "source": [
    "### Ord, chr"
   ]
  },
  {
   "cell_type": "markdown",
   "metadata": {
    "id": "_pU5N3qbbSSr"
   },
   "source": [
    "В памяти компьютера символы (и строки из них составленные) хранятся как числа (строки - как последовательности чисел). Взаимооднозначное соответствие между символами и числами задается таблицей, кото называется ASCII (American Standard Code for Information Interchange).\n",
    "\n",
    "В таблице 256 пар, исторически же используется только первая половина, содержащая основные символы: буквы латинского алфавита (строчные и прописные), цифры, знаки препинания и некото ые другие. Кроме перечисленных существуют т.н. управляющие символы с номерами, меньшими 32, которые не отображаются на экране. Функция, которая по номеру в таблице возвращает символ, называется chr(), обратная ей - ord(). Вот некоторые примеры их использования:"
   ]
  },
  {
   "cell_type": "code",
   "execution_count": null,
   "metadata": {
    "colab": {
     "base_uri": "https://localhost:8080/",
     "height": 35
    },
    "executionInfo": {
     "elapsed": 2,
     "status": "ok",
     "timestamp": 1644829009959,
     "user": {
      "displayName": "Илья Витальевич Тихонов",
      "photoUrl": "https://lh3.googleusercontent.com/a/default-user=s64",
      "userId": "10513119548773881016"
     },
     "user_tz": -180
    },
    "id": "0UvZaV19bACA",
    "outputId": "1d0b949b-ad94-453d-a503-fa4201cb2c8a"
   },
   "outputs": [
    {
     "data": {
      "application/vnd.google.colaboratory.intrinsic+json": {
       "type": "string"
      },
      "text/plain": [
       "'N'"
      ]
     },
     "execution_count": 18,
     "metadata": {},
     "output_type": "execute_result"
    }
   ],
   "source": [
    "chr(78)"
   ]
  },
  {
   "cell_type": "code",
   "execution_count": null,
   "metadata": {
    "colab": {
     "base_uri": "https://localhost:8080/",
     "height": 35
    },
    "executionInfo": {
     "elapsed": 244,
     "status": "ok",
     "timestamp": 1644829023772,
     "user": {
      "displayName": "Илья Витальевич Тихонов",
      "photoUrl": "https://lh3.googleusercontent.com/a/default-user=s64",
      "userId": "10513119548773881016"
     },
     "user_tz": -180
    },
    "id": "A8ig3VxccovJ",
    "outputId": "0b049f2d-d088-4f1f-d5c2-8b321915b333"
   },
   "outputs": [
    {
     "data": {
      "application/vnd.google.colaboratory.intrinsic+json": {
       "type": "string"
      },
      "text/plain": [
       "'¦'"
      ]
     },
     "execution_count": 20,
     "metadata": {},
     "output_type": "execute_result"
    }
   ],
   "source": [
    "chr(166)"
   ]
  },
  {
   "cell_type": "code",
   "execution_count": null,
   "metadata": {
    "colab": {
     "base_uri": "https://localhost:8080/"
    },
    "executionInfo": {
     "elapsed": 2,
     "status": "ok",
     "timestamp": 1644829048889,
     "user": {
      "displayName": "Илья Витальевич Тихонов",
      "photoUrl": "https://lh3.googleusercontent.com/a/default-user=s64",
      "userId": "10513119548773881016"
     },
     "user_tz": -180
    },
    "id": "KCA2IjwbcwUw",
    "outputId": "f7d9eb76-76dd-452b-bfc8-2cf6568b0f9c"
   },
   "outputs": [
    {
     "data": {
      "text/plain": [
       "97"
      ]
     },
     "execution_count": 23,
     "metadata": {},
     "output_type": "execute_result"
    }
   ],
   "source": [
    "ord('a')"
   ]
  },
  {
   "cell_type": "markdown",
   "metadata": {
    "id": "u0T9RbbndKn4"
   },
   "source": [
    "\n",
    "### Сравнение символов и строк"
   ]
  },
  {
   "cell_type": "markdown",
   "metadata": {
    "id": "XRAy5ZBJdfUQ"
   },
   "source": [
    "\n",
    "Сравнение строк, состоящих из одного символа сводится к сравнению целых чисел кодов этих символов, возвращаемых функцией ord(). Сравнение строк, состоящих из большего количества символов определяется лексикографическим порядком (как в словаре). \n",
    "\n",
    "Формально, лексикографический порядок для строк одинаковой длины a и b определяется следующим образом:\n",
    "\n",
    "$𝑎 ≺ 𝑏 ⇔ ∃𝑘 < 𝑙𝑒𝑛(𝑎) : ∀𝑖 < 𝑘 𝑜𝑟𝑑(𝑎[𝑖]) = 𝑜𝑟𝑑(𝑏[𝑖]), 𝑜𝑟𝑑(𝑎[𝑘] < 𝑏[𝑘])$"
   ]
  },
  {
   "cell_type": "code",
   "execution_count": null,
   "metadata": {
    "colab": {
     "base_uri": "https://localhost:8080/"
    },
    "executionInfo": {
     "elapsed": 232,
     "status": "ok",
     "timestamp": 1644829436064,
     "user": {
      "displayName": "Илья Витальевич Тихонов",
      "photoUrl": "https://lh3.googleusercontent.com/a/default-user=s64",
      "userId": "10513119548773881016"
     },
     "user_tz": -180
    },
    "id": "K-RFI7mWc0cw",
    "outputId": "c8cb753f-33ac-40b8-d07c-520f382d46bf"
   },
   "outputs": [
    {
     "data": {
      "text/plain": [
       "(97, 98)"
      ]
     },
     "execution_count": 24,
     "metadata": {},
     "output_type": "execute_result"
    }
   ],
   "source": [
    "ord('a'), ord('b')"
   ]
  },
  {
   "cell_type": "code",
   "execution_count": null,
   "metadata": {
    "colab": {
     "base_uri": "https://localhost:8080/"
    },
    "executionInfo": {
     "elapsed": 2,
     "status": "ok",
     "timestamp": 1644829450563,
     "user": {
      "displayName": "Илья Витальевич Тихонов",
      "photoUrl": "https://lh3.googleusercontent.com/a/default-user=s64",
      "userId": "10513119548773881016"
     },
     "user_tz": -180
    },
    "id": "aciiDmkgeWW_",
    "outputId": "1fb9e1f9-f644-4c5e-86fc-1c6aca169553"
   },
   "outputs": [
    {
     "data": {
      "text/plain": [
       "True"
      ]
     },
     "execution_count": 26,
     "metadata": {},
     "output_type": "execute_result"
    }
   ],
   "source": [
    "'b' > 'a'"
   ]
  },
  {
   "cell_type": "markdown",
   "metadata": {
    "id": "ShPhQNHyeunL"
   },
   "source": [
    "Для определения лексикографического порядка строк разной длины надо в конец короткой строки мысленно дописать символы с кодом, меньшим кода любого возможного символа, затем применить стандартное правило:"
   ]
  },
  {
   "cell_type": "code",
   "execution_count": null,
   "metadata": {
    "colab": {
     "base_uri": "https://localhost:8080/"
    },
    "executionInfo": {
     "elapsed": 236,
     "status": "ok",
     "timestamp": 1644829505322,
     "user": {
      "displayName": "Илья Витальевич Тихонов",
      "photoUrl": "https://lh3.googleusercontent.com/a/default-user=s64",
      "userId": "10513119548773881016"
     },
     "user_tz": -180
    },
    "id": "vFFF1JtYeXYi",
    "outputId": "4a0ac312-9b83-4931-bf48-810819a8a5b3"
   },
   "outputs": [
    {
     "data": {
      "text/plain": [
       "False"
      ]
     },
     "execution_count": 28,
     "metadata": {},
     "output_type": "execute_result"
    }
   ],
   "source": [
    "'ab' < 'a'"
   ]
  },
  {
   "cell_type": "markdown",
   "metadata": {
    "id": "WvCUGDQuSRie"
   },
   "source": [
    "[Подробнее про сравнение строк](https://otus.ru/nest/post/1093/)"
   ]
  },
  {
   "cell_type": "markdown",
   "metadata": {
    "id": "FwVvjHBGfS30"
   },
   "source": [
    "### Индексация"
   ]
  },
  {
   "cell_type": "markdown",
   "metadata": {
    "id": "09gpyU8Rfbk7"
   },
   "source": [
    "Поскольку строковое значение записывается как последовательность символов, мы всегда можем обратиться к каждому элементу строки по его позиции в строке. Отсчет всегд производится с нуля:"
   ]
  },
  {
   "cell_type": "code",
   "execution_count": null,
   "metadata": {
    "colab": {
     "base_uri": "https://localhost:8080/",
     "height": 35
    },
    "executionInfo": {
     "elapsed": 4,
     "status": "ok",
     "timestamp": 1644829797867,
     "user": {
      "displayName": "Илья Витальевич Тихонов",
      "photoUrl": "https://lh3.googleusercontent.com/a/default-user=s64",
      "userId": "10513119548773881016"
     },
     "user_tz": -180
    },
    "id": "4Nw-4n0-ejH4",
    "outputId": "251d4a69-4e67-4218-b28a-dcfb61847c40"
   },
   "outputs": [
    {
     "data": {
      "application/vnd.google.colaboratory.intrinsic+json": {
       "type": "string"
      },
      "text/plain": [
       "'П'"
      ]
     },
     "execution_count": 29,
     "metadata": {},
     "output_type": "execute_result"
    }
   ],
   "source": [
    "a = 'Привет'\n",
    "\n",
    "a[0]"
   ]
  },
  {
   "cell_type": "code",
   "execution_count": null,
   "metadata": {
    "colab": {
     "base_uri": "https://localhost:8080/",
     "height": 35
    },
    "executionInfo": {
     "elapsed": 2,
     "status": "ok",
     "timestamp": 1644829799294,
     "user": {
      "displayName": "Илья Витальевич Тихонов",
      "photoUrl": "https://lh3.googleusercontent.com/a/default-user=s64",
      "userId": "10513119548773881016"
     },
     "user_tz": -180
    },
    "id": "H-C_8XTYfuic",
    "outputId": "a44fac9b-5209-45c6-9dab-4ce52d895cc4"
   },
   "outputs": [
    {
     "data": {
      "application/vnd.google.colaboratory.intrinsic+json": {
       "type": "string"
      },
      "text/plain": [
       "'р'"
      ]
     },
     "execution_count": 30,
     "metadata": {},
     "output_type": "execute_result"
    }
   ],
   "source": [
    "a[1]"
   ]
  },
  {
   "cell_type": "markdown",
   "metadata": {
    "id": "bMV9Ly4LfvzL"
   },
   "source": [
    "Индексация может быть и отрицательной:"
   ]
  },
  {
   "cell_type": "code",
   "execution_count": null,
   "metadata": {
    "colab": {
     "base_uri": "https://localhost:8080/",
     "height": 35
    },
    "executionInfo": {
     "elapsed": 244,
     "status": "ok",
     "timestamp": 1644829847948,
     "user": {
      "displayName": "Илья Витальевич Тихонов",
      "photoUrl": "https://lh3.googleusercontent.com/a/default-user=s64",
      "userId": "10513119548773881016"
     },
     "user_tz": -180
    },
    "id": "qS7TII2Xfu_k",
    "outputId": "0be73904-e986-4903-921a-7f3726db760a"
   },
   "outputs": [
    {
     "data": {
      "application/vnd.google.colaboratory.intrinsic+json": {
       "type": "string"
      },
      "text/plain": [
       "'е'"
      ]
     },
     "execution_count": 31,
     "metadata": {},
     "output_type": "execute_result"
    }
   ],
   "source": [
    "# отобразим предпоследний символ\n",
    "a[-2]"
   ]
  },
  {
   "cell_type": "markdown",
   "metadata": {
    "id": "XwHHfx_SgAK_"
   },
   "source": [
    "Однако выйти за пределы массива нельзя:"
   ]
  },
  {
   "cell_type": "code",
   "execution_count": null,
   "metadata": {
    "colab": {
     "base_uri": "https://localhost:8080/",
     "height": 35
    },
    "executionInfo": {
     "elapsed": 3,
     "status": "ok",
     "timestamp": 1644829887312,
     "user": {
      "displayName": "Илья Витальевич Тихонов",
      "photoUrl": "https://lh3.googleusercontent.com/a/default-user=s64",
      "userId": "10513119548773881016"
     },
     "user_tz": -180
    },
    "id": "y6ZBhtCHf66z",
    "outputId": "0da1dd05-235f-4dd9-ff96-d85902b5f762"
   },
   "outputs": [
    {
     "data": {
      "application/vnd.google.colaboratory.intrinsic+json": {
       "type": "string"
      },
      "text/plain": [
       "'т'"
      ]
     },
     "execution_count": 32,
     "metadata": {},
     "output_type": "execute_result"
    }
   ],
   "source": [
    "a[5]"
   ]
  },
  {
   "cell_type": "code",
   "execution_count": null,
   "metadata": {
    "colab": {
     "base_uri": "https://localhost:8080/",
     "height": 182
    },
    "executionInfo": {
     "elapsed": 3,
     "status": "error",
     "timestamp": 1644829935309,
     "user": {
      "displayName": "Илья Витальевич Тихонов",
      "photoUrl": "https://lh3.googleusercontent.com/a/default-user=s64",
      "userId": "10513119548773881016"
     },
     "user_tz": -180
    },
    "id": "_rTPY7J_gEgh",
    "outputId": "c639c210-1069-4394-8ebb-61404b2180c1"
   },
   "outputs": [
    {
     "ename": "IndexError",
     "evalue": "ignored",
     "output_type": "error",
     "traceback": [
      "\u001b[0;31m---------------------------------------------------------------------------\u001b[0m",
      "\u001b[0;31mIndexError\u001b[0m                                Traceback (most recent call last)",
      "\u001b[0;32m<ipython-input-34-5d305e7d1547>\u001b[0m in \u001b[0;36m<module>\u001b[0;34m()\u001b[0m\n\u001b[1;32m      1\u001b[0m \u001b[0;31m# 5й индекс в строке еще определен (буквой т), а 6й - уже нет\u001b[0m\u001b[0;34m\u001b[0m\u001b[0;34m\u001b[0m\u001b[0;34m\u001b[0m\u001b[0m\n\u001b[0;32m----> 2\u001b[0;31m \u001b[0ma\u001b[0m\u001b[0;34m[\u001b[0m\u001b[0;36m6\u001b[0m\u001b[0;34m]\u001b[0m\u001b[0;34m\u001b[0m\u001b[0;34m\u001b[0m\u001b[0m\n\u001b[0m",
      "\u001b[0;31mIndexError\u001b[0m: string index out of range"
     ]
    }
   ],
   "source": [
    "# 5й индекс в строке еще определен (буквой т), а 6й - уже нет\n",
    "a[6]"
   ]
  },
  {
   "cell_type": "markdown",
   "metadata": {
    "id": "2oI_XzXZhfPQ"
   },
   "source": [
    "### Слайсинг или сечение"
   ]
  },
  {
   "cell_type": "markdown",
   "metadata": {
    "id": "wdYXhRHZhsAi"
   },
   "source": [
    "\n",
    "В Python имеется удобное средство получения частей упорядоченных последовательностей, в частности строк: слайсы (они же срезы или сечения. Синтаксис операции:\n",
    "\n",
    "$$s[n: m: k]$$\n",
    "\n",
    "Где $s$ - имя переменной строкового типа, $n, m, k$ выражения целого типа ($k \\neq 0$)."
   ]
  },
  {
   "cell_type": "markdown",
   "metadata": {
    "id": "GoYd9LFCkAM_"
   },
   "source": [
    "\n",
    "Значение указанного выражения составляется из символов с индексами равными $x = n +i * k$, где $0 \\leq i \\leq \\frac{m-n}{k}$, причем в том же порядке, что и в строке $s$. Для простоты запоминания можно интерпретировать слайс так:\n",
    "\n",
    "С какого индекса n (включая), по какой индекс m (не включая), с каким шагом k.\n",
    "\n",
    "Если внутри квадратных скобок стоит одно двоеточие, то считается, что это двоеточие между первым и вторым\n",
    "параметрами (n и m). В этом случае сечение строки подпоследовательность исходной строки начиная с символа с индексом n и заканчивая символом с индексом m-1.\n",
    "* Если не указан первый параметр (начало подстроки), то его значение полагается равным 0\n",
    "* Если не указан второй параметр (конец подстроки), то он полагается равным len(s)\n",
    "* Если не указан третий параметр (шаг), то он полагается равным 1."
   ]
  },
  {
   "cell_type": "code",
   "execution_count": null,
   "metadata": {
    "colab": {
     "base_uri": "https://localhost:8080/",
     "height": 35
    },
    "executionInfo": {
     "elapsed": 257,
     "status": "ok",
     "timestamp": 1644831227764,
     "user": {
      "displayName": "Илья Витальевич Тихонов",
      "photoUrl": "https://lh3.googleusercontent.com/a/default-user=s64",
      "userId": "10513119548773881016"
     },
     "user_tz": -180
    },
    "id": "8JAV9nKDk1bT",
    "outputId": "876be602-946d-41ba-cebf-76a33a764e89"
   },
   "outputs": [
    {
     "data": {
      "application/vnd.google.colaboratory.intrinsic+json": {
       "type": "string"
      },
      "text/plain": [
       "'abc'"
      ]
     },
     "execution_count": 43,
     "metadata": {},
     "output_type": "execute_result"
    }
   ],
   "source": [
    "a = 'abcd'\n",
    "\n",
    "# будет отображены буква с индексами начиная с нуля включая по индекс буквы на позиции 3 не включая\n",
    "a[0:3]"
   ]
  },
  {
   "cell_type": "code",
   "execution_count": null,
   "metadata": {
    "colab": {
     "base_uri": "https://localhost:8080/",
     "height": 35
    },
    "executionInfo": {
     "elapsed": 242,
     "status": "ok",
     "timestamp": 1644831307379,
     "user": {
      "displayName": "Илья Витальевич Тихонов",
      "photoUrl": "https://lh3.googleusercontent.com/a/default-user=s64",
      "userId": "10513119548773881016"
     },
     "user_tz": -180
    },
    "id": "xGxAu-zHlMi5",
    "outputId": "f8e31521-5912-4f01-b056-aa11d9df8555"
   },
   "outputs": [
    {
     "data": {
      "application/vnd.google.colaboratory.intrinsic+json": {
       "type": "string"
      },
      "text/plain": [
       "'ac'"
      ]
     },
     "execution_count": 47,
     "metadata": {},
     "output_type": "execute_result"
    }
   ],
   "source": [
    "# c нулевой включая по 4ю не включая, с шагом 2 (по умолчанию шаг 1)\n",
    "a[0:4:2]"
   ]
  },
  {
   "cell_type": "code",
   "execution_count": null,
   "metadata": {
    "colab": {
     "base_uri": "https://localhost:8080/",
     "height": 35
    },
    "executionInfo": {
     "elapsed": 244,
     "status": "ok",
     "timestamp": 1644833620176,
     "user": {
      "displayName": "Илья Витальевич Тихонов",
      "photoUrl": "https://lh3.googleusercontent.com/a/default-user=s64",
      "userId": "10513119548773881016"
     },
     "user_tz": -180
    },
    "id": "sfDz6KEzlfs2",
    "outputId": "e9080564-a292-403d-aa7a-9b75c854ba0f"
   },
   "outputs": [
    {
     "data": {
      "application/vnd.google.colaboratory.intrinsic+json": {
       "type": "string"
      },
      "text/plain": [
       "'ab'"
      ]
     },
     "execution_count": 48,
     "metadata": {},
     "output_type": "execute_result"
    }
   ],
   "source": [
    "# первый аргумент не указан, по умолчнию с начала 0 индекса\n",
    "a[:2]"
   ]
  },
  {
   "cell_type": "code",
   "execution_count": null,
   "metadata": {
    "colab": {
     "base_uri": "https://localhost:8080/",
     "height": 35
    },
    "executionInfo": {
     "elapsed": 243,
     "status": "ok",
     "timestamp": 1644833655039,
     "user": {
      "displayName": "Илья Витальевич Тихонов",
      "photoUrl": "https://lh3.googleusercontent.com/a/default-user=s64",
      "userId": "10513119548773881016"
     },
     "user_tz": -180
    },
    "id": "4BJPq-IYuVIZ",
    "outputId": "4f31cd95-c32d-435b-fc60-b71c38316094"
   },
   "outputs": [
    {
     "data": {
      "application/vnd.google.colaboratory.intrinsic+json": {
       "type": "string"
      },
      "text/plain": [
       "'bcd'"
      ]
     },
     "execution_count": 49,
     "metadata": {},
     "output_type": "execute_result"
    }
   ],
   "source": [
    "# второй аргумент не указан, по умолчанию с первого индекса\n",
    "a[1:]"
   ]
  },
  {
   "cell_type": "markdown",
   "metadata": {
    "id": "ti_4zSMrwT47"
   },
   "source": [
    "Аналогичный слайсинг может быть произведен с любыми упорядоченными последовательностями языка python. Аналогичный синтаксис в слайсинге происходит и с numpy массивами и с pandas датафреймами."
   ]
  },
  {
   "cell_type": "code",
   "execution_count": null,
   "metadata": {
    "colab": {
     "base_uri": "https://localhost:8080/",
     "height": 35
    },
    "executionInfo": {
     "elapsed": 254,
     "status": "ok",
     "timestamp": 1644834448898,
     "user": {
      "displayName": "Илья Витальевич Тихонов",
      "photoUrl": "https://lh3.googleusercontent.com/a/default-user=s64",
      "userId": "10513119548773881016"
     },
     "user_tz": -180
    },
    "id": "GeTHVZncxAIO",
    "outputId": "17b5457e-6daf-46cb-c9c7-bb193eb13b18"
   },
   "outputs": [
    {
     "data": {
      "application/vnd.google.colaboratory.intrinsic+json": {
       "type": "string"
      },
      "text/plain": [
       "'db'"
      ]
     },
     "execution_count": 51,
     "metadata": {},
     "output_type": "execute_result"
    }
   ],
   "source": [
    "# как и с индексацией в значениях m, n, k могуть быть и отрицательные целые числа\n",
    "# с нулевого индекса по последний (включительно) с шагом -2\n",
    "a[::-2]"
   ]
  },
  {
   "cell_type": "code",
   "execution_count": null,
   "metadata": {
    "id": "1XNW5JprWzDP"
   },
   "outputs": [],
   "source": [
    "a[::-1]"
   ]
  },
  {
   "cell_type": "markdown",
   "metadata": {
    "id": "2Aj5jqQpgUsw"
   },
   "source": [
    "### Явное приведение типов"
   ]
  },
  {
   "cell_type": "code",
   "execution_count": null,
   "metadata": {
    "colab": {
     "base_uri": "https://localhost:8080/",
     "height": 35
    },
    "executionInfo": {
     "elapsed": 486,
     "status": "ok",
     "timestamp": 1644829972437,
     "user": {
      "displayName": "Илья Витальевич Тихонов",
      "photoUrl": "https://lh3.googleusercontent.com/a/default-user=s64",
      "userId": "10513119548773881016"
     },
     "user_tz": -180
    },
    "id": "KnzrLWa0gGXR",
    "outputId": "0dfa0b7d-ecaa-4608-82bf-1c051124a3e8"
   },
   "outputs": [
    {
     "data": {
      "application/vnd.google.colaboratory.intrinsic+json": {
       "type": "string"
      },
      "text/plain": [
       "'False'"
      ]
     },
     "execution_count": 35,
     "metadata": {},
     "output_type": "execute_result"
    }
   ],
   "source": [
    "str(False)"
   ]
  },
  {
   "cell_type": "code",
   "execution_count": null,
   "metadata": {
    "colab": {
     "base_uri": "https://localhost:8080/",
     "height": 35
    },
    "executionInfo": {
     "elapsed": 2,
     "status": "ok",
     "timestamp": 1644830013559,
     "user": {
      "displayName": "Илья Витальевич Тихонов",
      "photoUrl": "https://lh3.googleusercontent.com/a/default-user=s64",
      "userId": "10513119548773881016"
     },
     "user_tz": -180
    },
    "id": "N6I3JrHmgZNB",
    "outputId": "8947f489-dddb-40b6-aa47-da455c2d60ca"
   },
   "outputs": [
    {
     "data": {
      "application/vnd.google.colaboratory.intrinsic+json": {
       "type": "string"
      },
      "text/plain": [
       "'1.23'"
      ]
     },
     "execution_count": 37,
     "metadata": {},
     "output_type": "execute_result"
    }
   ],
   "source": [
    "str(1.23)"
   ]
  },
  {
   "cell_type": "code",
   "execution_count": null,
   "metadata": {
    "colab": {
     "base_uri": "https://localhost:8080/",
     "height": 35
    },
    "executionInfo": {
     "elapsed": 3,
     "status": "ok",
     "timestamp": 1644830019665,
     "user": {
      "displayName": "Илья Витальевич Тихонов",
      "photoUrl": "https://lh3.googleusercontent.com/a/default-user=s64",
      "userId": "10513119548773881016"
     },
     "user_tz": -180
    },
    "id": "aEw0DgO8gh0Q",
    "outputId": "28a09844-ef83-4b5e-bf0b-7989df1eede9"
   },
   "outputs": [
    {
     "data": {
      "application/vnd.google.colaboratory.intrinsic+json": {
       "type": "string"
      },
      "text/plain": [
       "'2'"
      ]
     },
     "execution_count": 38,
     "metadata": {},
     "output_type": "execute_result"
    }
   ],
   "source": [
    "str(2)"
   ]
  },
  {
   "cell_type": "code",
   "execution_count": null,
   "metadata": {
    "colab": {
     "base_uri": "https://localhost:8080/",
     "height": 35
    },
    "executionInfo": {
     "elapsed": 3,
     "status": "ok",
     "timestamp": 1644830032681,
     "user": {
      "displayName": "Илья Витальевич Тихонов",
      "photoUrl": "https://lh3.googleusercontent.com/a/default-user=s64",
      "userId": "10513119548773881016"
     },
     "user_tz": -180
    },
    "id": "Ko9o7Ue-gk1g",
    "outputId": "bf613209-237c-4d56-9225-f2a21be76576"
   },
   "outputs": [
    {
     "data": {
      "application/vnd.google.colaboratory.intrinsic+json": {
       "type": "string"
      },
      "text/plain": [
       "'0.3333333333333333'"
      ]
     },
     "execution_count": 39,
     "metadata": {},
     "output_type": "execute_result"
    }
   ],
   "source": [
    "str(1/3)"
   ]
  },
  {
   "cell_type": "code",
   "execution_count": null,
   "metadata": {
    "colab": {
     "base_uri": "https://localhost:8080/",
     "height": 35
    },
    "executionInfo": {
     "elapsed": 3,
     "status": "ok",
     "timestamp": 1644830141636,
     "user": {
      "displayName": "Илья Витальевич Тихонов",
      "photoUrl": "https://lh3.googleusercontent.com/a/default-user=s64",
      "userId": "10513119548773881016"
     },
     "user_tz": -180
    },
    "id": "D4BszctmgoDA",
    "outputId": "35219616-ff9a-495c-fa0f-35480a7a8074"
   },
   "outputs": [
    {
     "data": {
      "application/vnd.google.colaboratory.intrinsic+json": {
       "type": "string"
      },
      "text/plain": [
       "''"
      ]
     },
     "execution_count": 40,
     "metadata": {},
     "output_type": "execute_result"
    }
   ],
   "source": [
    "# пустая строка - ''\n",
    "str()"
   ]
  },
  {
   "cell_type": "code",
   "execution_count": null,
   "metadata": {
    "colab": {
     "base_uri": "https://localhost:8080/",
     "height": 35
    },
    "executionInfo": {
     "elapsed": 3,
     "status": "ok",
     "timestamp": 1644830167694,
     "user": {
      "displayName": "Илья Витальевич Тихонов",
      "photoUrl": "https://lh3.googleusercontent.com/a/default-user=s64",
      "userId": "10513119548773881016"
     },
     "user_tz": -180
    },
    "id": "JKcWjCtjhCou",
    "outputId": "8b1033c3-cf92-47ff-9565-28df5d82f6ed"
   },
   "outputs": [
    {
     "data": {
      "application/vnd.google.colaboratory.intrinsic+json": {
       "type": "string"
      },
      "text/plain": [
       "'None'"
      ]
     },
     "execution_count": 41,
     "metadata": {},
     "output_type": "execute_result"
    }
   ],
   "source": [
    "str(None)"
   ]
  },
  {
   "cell_type": "markdown",
   "metadata": {
    "id": "KvZKJZCT0YIJ"
   },
   "source": [
    "### Len\n",
    "\n",
    "\n",
    "функция len(s) Возвращает длину последовательности s, которая может быть строкой, списком, кортежем, словарем, множеством."
   ]
  },
  {
   "cell_type": "code",
   "execution_count": null,
   "metadata": {
    "colab": {
     "base_uri": "https://localhost:8080/"
    },
    "executionInfo": {
     "elapsed": 2,
     "status": "ok",
     "timestamp": 1644835271950,
     "user": {
      "displayName": "Илья Витальевич Тихонов",
      "photoUrl": "https://lh3.googleusercontent.com/a/default-user=s64",
      "userId": "10513119548773881016"
     },
     "user_tz": -180
    },
    "id": "B3jOrOGuhI8O",
    "outputId": "56aacff3-e895-46b6-c1ba-dfcbd44c904d"
   },
   "outputs": [
    {
     "data": {
      "text/plain": [
       "4"
      ]
     },
     "execution_count": 52,
     "metadata": {},
     "output_type": "execute_result"
    }
   ],
   "source": [
    "len(a) # 4 символа"
   ]
  },
  {
   "cell_type": "markdown",
   "metadata": {
    "id": "Pm-c9eNc1K03"
   },
   "source": [
    "\n",
    "Для строк определена операция in со следующим синтаксисом: $<s_1> in <s_2>$,\n",
    "\n",
    "\n",
    "Где $<s1>$ и $<s2>$ - имена значений строкового типа. Выражение $in$ имеет логический тип и равно True если\n",
    "строка целиком входит в строку $<s_2>$, начиная с какого-то места и False в противном случае. Например:"
   ]
  },
  {
   "cell_type": "code",
   "execution_count": null,
   "metadata": {
    "colab": {
     "base_uri": "https://localhost:8080/"
    },
    "executionInfo": {
     "elapsed": 237,
     "status": "ok",
     "timestamp": 1644835377945,
     "user": {
      "displayName": "Илья Витальевич Тихонов",
      "photoUrl": "https://lh3.googleusercontent.com/a/default-user=s64",
      "userId": "10513119548773881016"
     },
     "user_tz": -180
    },
    "id": "gVIT9_bj09sq",
    "outputId": "3effd840-ddfe-49cc-c73c-4917adf22814"
   },
   "outputs": [
    {
     "data": {
      "text/plain": [
       "True"
      ]
     },
     "execution_count": 54,
     "metadata": {},
     "output_type": "execute_result"
    }
   ],
   "source": [
    "# вс\n",
    "'bc' in a"
   ]
  },
  {
   "cell_type": "markdown",
   "metadata": {
    "id": "IoUnldYQ0xdE"
   },
   "source": [
    "## Встроенные методы\n"
   ]
  },
  {
   "cell_type": "markdown",
   "metadata": {
    "id": "DFBhp4E92GrE"
   },
   "source": [
    "### Upper lower\n",
    "\n",
    "Также у строк есть некоторое количество *методов*\n",
    "\n",
    "Метод -- это название для функций, которые вызываются от объекта. Например, у нас есть объект a -- строка, и у нее можно вызвать метод `.upper()`:\n",
    "\n",
    "```\n",
    "a.upper()\n",
    "```\n",
    "\n",
    "Методы деляится на те, которые изменяют сам объект, который их вызывает, и на те, которые возвращают результат, но не изменяют сам объект. \n",
    "\n",
    "Вот пример методов `.upper()` и `.lower()`, которые возвращают копию строки (не изменяя саму строку), от которой был вызван метод, приведенную к верхнему и нижнему регистру соответственно:\n",
    "\n",
    "P.S. При вызове метода какого-то класса (или функции какого-то модуля) можно написать его имя и через точку нажать **tab**:  \n",
    "\n",
    "<имя\\_объекта\\_класса(модуля)>**.[tab]**  \n",
    "\n",
    "Тогда всплывёт меню, в котором можно выбрать из всех существующих в этом классе методов (функций модуля)."
   ]
  },
  {
   "cell_type": "code",
   "execution_count": null,
   "metadata": {
    "colab": {
     "base_uri": "https://localhost:8080/"
    },
    "executionInfo": {
     "elapsed": 247,
     "status": "ok",
     "timestamp": 1644835346466,
     "user": {
      "displayName": "Илья Витальевич Тихонов",
      "photoUrl": "https://lh3.googleusercontent.com/a/default-user=s64",
      "userId": "10513119548773881016"
     },
     "user_tz": -180
    },
    "id": "1SfIraNi0nL4",
    "outputId": "f84890f4-44b0-40cc-e259-67b76b00e425"
   },
   "outputs": [
    {
     "name": "stdout",
     "output_type": "stream",
     "text": [
      "ABCD\n",
      "abcd\n"
     ]
    }
   ],
   "source": [
    "print(a.upper())\n",
    "print(a.lower())"
   ]
  },
  {
   "cell_type": "markdown",
   "metadata": {
    "id": "FDgJnr5vPAJB"
   },
   "source": [
    "В общем случае любой метод в python выглядит следующим обарзом:\n",
    "\n",
    "<переменная>.<имя метода>(<перечень аргументов>)\n",
    "\n",
    "Можно считать, что метод - это функция, куда неявно передаются в качестве аргумента <переменная>. Такая функция может изменять значение этой переменной и может возвращать значение (как, например, метод lower()) или не возвращать, а только изменять передаваемый аргумент (как метод append() в списках).\n"
   ]
  },
  {
   "cell_type": "markdown",
   "metadata": {
    "id": "mB6d3UL911Bz"
   },
   "source": [
    "Помимо методов upper и lower, приводящий к нижнему регистру, у строк есть ряд полезных методов:"
   ]
  },
  {
   "cell_type": "markdown",
   "metadata": {
    "id": "IU2i96j62HvH"
   },
   "source": [
    "### capitalize\n",
    "\n",
    "\n",
    "Метод возвращает копию строки str, первый символ которой набран в верхнем регистре, а все остальные в нижнем. Символы, отличные от латинских букв, остаются без изменения."
   ]
  },
  {
   "cell_type": "code",
   "execution_count": null,
   "metadata": {
    "colab": {
     "base_uri": "https://localhost:8080/",
     "height": 35
    },
    "executionInfo": {
     "elapsed": 249,
     "status": "ok",
     "timestamp": 1644835721013,
     "user": {
      "displayName": "Илья Витальевич Тихонов",
      "photoUrl": "https://lh3.googleusercontent.com/a/default-user=s64",
      "userId": "10513119548773881016"
     },
     "user_tz": -180
    },
    "id": "upR4YSAV05S_",
    "outputId": "8f9150c7-bf36-4dcf-97bc-3705f232fae3"
   },
   "outputs": [
    {
     "data": {
      "application/vnd.google.colaboratory.intrinsic+json": {
       "type": "string"
      },
      "text/plain": [
       "'Hellow world'"
      ]
     },
     "execution_count": 55,
     "metadata": {},
     "output_type": "execute_result"
    }
   ],
   "source": [
    "'HeLlOw wOrLd'.capitalize()"
   ]
  },
  {
   "cell_type": "markdown",
   "metadata": {
    "id": "g9d-OUcs2YDs"
   },
   "source": [
    "### center\n",
    "\n",
    "\n",
    "str.center(width[, fillchar])\n",
    "\n",
    "Метод возвращает строку str, дополненную символами fillchar до ширины, равной width, а строку str помещает посередин"
   ]
  },
  {
   "cell_type": "code",
   "execution_count": null,
   "metadata": {
    "colab": {
     "base_uri": "https://localhost:8080/",
     "height": 35
    },
    "executionInfo": {
     "elapsed": 296,
     "status": "ok",
     "timestamp": 1644836884101,
     "user": {
      "displayName": "Илья Витальевич Тихонов",
      "photoUrl": "https://lh3.googleusercontent.com/a/default-user=s64",
      "userId": "10513119548773881016"
     },
     "user_tz": -180
    },
    "id": "OoKCpg_k2Uv5",
    "outputId": "ed345a56-5012-4170-e3a5-bde07e68e36e"
   },
   "outputs": [
    {
     "data": {
      "application/vnd.google.colaboratory.intrinsic+json": {
       "type": "string"
      },
      "text/plain": [
       "'_______hello________'"
      ]
     },
     "execution_count": 56,
     "metadata": {},
     "output_type": "execute_result"
    }
   ],
   "source": [
    "'hello'.center(20, '_')"
   ]
  },
  {
   "cell_type": "markdown",
   "metadata": {
    "id": "zDRRrXFe2Y_S"
   },
   "source": [
    "### count\n",
    "\n",
    "str.count(sub[, start[, end]])\n",
    "\n",
    "\n",
    "Метод возвращает количество неперекрывающихся подстрок sub в сечении строки str[start:end]."
   ]
  },
  {
   "cell_type": "code",
   "execution_count": null,
   "metadata": {
    "colab": {
     "base_uri": "https://localhost:8080/"
    },
    "executionInfo": {
     "elapsed": 3,
     "status": "ok",
     "timestamp": 1644836979586,
     "user": {
      "displayName": "Илья Витальевич Тихонов",
      "photoUrl": "https://lh3.googleusercontent.com/a/default-user=s64",
      "userId": "10513119548773881016"
     },
     "user_tz": -180
    },
    "id": "PVkp_n2R2aqp",
    "outputId": "dea66870-14c8-42d9-d41a-1620d5de14b4"
   },
   "outputs": [
    {
     "data": {
      "text/plain": [
       "3"
      ]
     },
     "execution_count": 57,
     "metadata": {},
     "output_type": "execute_result"
    }
   ],
   "source": [
    "'ACTGACTACT'.count('ACT')"
   ]
  },
  {
   "cell_type": "markdown",
   "metadata": {
    "id": "3jCIecBN2bJw"
   },
   "source": [
    "### endswith\n",
    "\n",
    "str.endswith(suffix[, start[, end]])\n",
    "\n",
    "Метод возвращает значение True, если строка str заканчивается на строку suffix (говорят, что строка suffix\n",
    "является суффиксом строки str) и False в противном случае.\n",
    "Если указаны параметры start и/или end, то суффикс ищется в срезе str[start:end].\n",
    "Если не указан start, то суффикс ищется с начала строки, если не указан end, то суффикс ищется до конца\n",
    "строки. Если указан только один дополнительный параметр, то считается, что это параметр start."
   ]
  },
  {
   "cell_type": "code",
   "execution_count": null,
   "metadata": {
    "colab": {
     "base_uri": "https://localhost:8080/"
    },
    "executionInfo": {
     "elapsed": 2,
     "status": "ok",
     "timestamp": 1644838333039,
     "user": {
      "displayName": "Илья Витальевич Тихонов",
      "photoUrl": "https://lh3.googleusercontent.com/a/default-user=s64",
      "userId": "10513119548773881016"
     },
     "user_tz": -180
    },
    "id": "qJKkWmss2d75",
    "outputId": "9660bb93-7f85-448b-9ca0-4ec276778fc5"
   },
   "outputs": [
    {
     "data": {
      "text/plain": [
       "True"
      ]
     },
     "execution_count": 58,
     "metadata": {},
     "output_type": "execute_result"
    }
   ],
   "source": [
    "'abba'.endswith('ba')"
   ]
  },
  {
   "cell_type": "code",
   "execution_count": null,
   "metadata": {
    "colab": {
     "base_uri": "https://localhost:8080/"
    },
    "executionInfo": {
     "elapsed": 1,
     "status": "ok",
     "timestamp": 1644838367098,
     "user": {
      "displayName": "Илья Витальевич Тихонов",
      "photoUrl": "https://lh3.googleusercontent.com/a/default-user=s64",
      "userId": "10513119548773881016"
     },
     "user_tz": -180
    },
    "id": "5CzqnQUwAUAv",
    "outputId": "86a3978b-84f8-4356-9ae7-0e6552412f66"
   },
   "outputs": [
    {
     "data": {
      "text/plain": [
       "False"
      ]
     },
     "execution_count": 60,
     "metadata": {},
     "output_type": "execute_result"
    }
   ],
   "source": [
    "'abba'.endswith('ba', 0, 3)"
   ]
  },
  {
   "cell_type": "markdown",
   "metadata": {
    "id": "5esbD0xY2fP7"
   },
   "source": [
    "### find\n",
    "\n",
    "str.find(sub[, start[, end]])\n",
    "\n",
    "Метод возвращает наименьший индекс, с которого подстрока sub входит в строку str.\n",
    "Если указаны дополнительные параметры start и end, то поиск осуществляется в срезе str[start:end]. При\n",
    "этом возвращаемый индекс расчитывается относительно самой строки, а не еј среза.\n",
    "Если строка не найдена, возвращается -1."
   ]
  },
  {
   "cell_type": "code",
   "execution_count": null,
   "metadata": {
    "colab": {
     "base_uri": "https://localhost:8080/"
    },
    "executionInfo": {
     "elapsed": 2,
     "status": "ok",
     "timestamp": 1644838404533,
     "user": {
      "displayName": "Илья Витальевич Тихонов",
      "photoUrl": "https://lh3.googleusercontent.com/a/default-user=s64",
      "userId": "10513119548773881016"
     },
     "user_tz": -180
    },
    "id": "6pCPhTZI2gQp",
    "outputId": "123cdbde-82f1-43cd-b9ac-ee83ce652cd4"
   },
   "outputs": [
    {
     "data": {
      "text/plain": [
       "1"
      ]
     },
     "execution_count": 61,
     "metadata": {},
     "output_type": "execute_result"
    }
   ],
   "source": [
    "# индекс первого вхождения\n",
    "'abba'.find('bb')"
   ]
  },
  {
   "cell_type": "markdown",
   "metadata": {
    "id": "r645mGG42ggU"
   },
   "source": [
    "### index\n",
    "\n",
    "str.index(sub[, start[, end]])\n",
    "\n",
    "\n",
    "Метод аналогичен find за тем исключением, что если строка sub не найдена, генерируется исключение ValueError\n",
    "(об исключениях в этой книге ничего не написано, почитайте самостоятельно)."
   ]
  },
  {
   "cell_type": "code",
   "execution_count": null,
   "metadata": {
    "colab": {
     "base_uri": "https://localhost:8080/"
    },
    "executionInfo": {
     "elapsed": 2,
     "status": "ok",
     "timestamp": 1644838458603,
     "user": {
      "displayName": "Илья Витальевич Тихонов",
      "photoUrl": "https://lh3.googleusercontent.com/a/default-user=s64",
      "userId": "10513119548773881016"
     },
     "user_tz": -180
    },
    "id": "lLGlOtkp2hUo",
    "outputId": "d0d56a9e-bde2-4f9a-ace2-3c145d9c8b79"
   },
   "outputs": [
    {
     "data": {
      "text/plain": [
       "-1"
      ]
     },
     "execution_count": 62,
     "metadata": {},
     "output_type": "execute_result"
    }
   ],
   "source": [
    "# строка не найдена через find\n",
    "\"abba\".find('c')"
   ]
  },
  {
   "cell_type": "code",
   "execution_count": null,
   "metadata": {
    "colab": {
     "base_uri": "https://localhost:8080/",
     "height": 165
    },
    "executionInfo": {
     "elapsed": 2,
     "status": "error",
     "timestamp": 1644838489202,
     "user": {
      "displayName": "Илья Витальевич Тихонов",
      "photoUrl": "https://lh3.googleusercontent.com/a/default-user=s64",
      "userId": "10513119548773881016"
     },
     "user_tz": -180
    },
    "id": "19OFiLP3A3rV",
    "outputId": "6957cccf-cd9e-46eb-f1de-30124cf522dd"
   },
   "outputs": [
    {
     "ename": "ValueError",
     "evalue": "ignored",
     "output_type": "error",
     "traceback": [
      "\u001b[0;31m---------------------------------------------------------------------------\u001b[0m",
      "\u001b[0;31mValueError\u001b[0m                                Traceback (most recent call last)",
      "\u001b[0;32m<ipython-input-63-e4437fefc2fa>\u001b[0m in \u001b[0;36m<module>\u001b[0;34m()\u001b[0m\n\u001b[0;32m----> 1\u001b[0;31m \u001b[0;34m\"abba\"\u001b[0m\u001b[0;34m.\u001b[0m\u001b[0mindex\u001b[0m\u001b[0;34m(\u001b[0m\u001b[0;34m'c'\u001b[0m\u001b[0;34m)\u001b[0m\u001b[0;34m\u001b[0m\u001b[0;34m\u001b[0m\u001b[0m\n\u001b[0m",
      "\u001b[0;31mValueError\u001b[0m: substring not found"
     ]
    }
   ],
   "source": [
    "# все аналогично, но возвращается исключение ValueError\n",
    "\"abba\".index('c')"
   ]
  },
  {
   "cell_type": "markdown",
   "metadata": {
    "id": "gZrCxi552hwV"
   },
   "source": [
    "### isalnum\n",
    "\n",
    "str.isalnum()\n",
    "\n",
    "Возвращает True, если все символы непустой строки это буквы или цифры, False в противном случае."
   ]
  },
  {
   "cell_type": "code",
   "execution_count": null,
   "metadata": {
    "colab": {
     "base_uri": "https://localhost:8080/"
    },
    "executionInfo": {
     "elapsed": 244,
     "status": "ok",
     "timestamp": 1644838565962,
     "user": {
      "displayName": "Илья Витальевич Тихонов",
      "photoUrl": "https://lh3.googleusercontent.com/a/default-user=s64",
      "userId": "10513119548773881016"
     },
     "user_tz": -180
    },
    "id": "Z3WVmVPf2jDQ",
    "outputId": "22af5466-1ad4-4f5a-9769-7f2bb335e05e"
   },
   "outputs": [
    {
     "data": {
      "text/plain": [
       "False"
      ]
     },
     "execution_count": 66,
     "metadata": {},
     "output_type": "execute_result"
    }
   ],
   "source": [
    "'123a-'.isalnum()"
   ]
  },
  {
   "cell_type": "code",
   "execution_count": null,
   "metadata": {
    "colab": {
     "base_uri": "https://localhost:8080/"
    },
    "executionInfo": {
     "elapsed": 247,
     "status": "ok",
     "timestamp": 1644838568776,
     "user": {
      "displayName": "Илья Витальевич Тихонов",
      "photoUrl": "https://lh3.googleusercontent.com/a/default-user=s64",
      "userId": "10513119548773881016"
     },
     "user_tz": -180
    },
    "id": "3JSS6NZ7BKy5",
    "outputId": "55f15423-91d9-4aed-e95b-312eb273ad5f"
   },
   "outputs": [
    {
     "data": {
      "text/plain": [
       "True"
      ]
     },
     "execution_count": 67,
     "metadata": {},
     "output_type": "execute_result"
    }
   ],
   "source": [
    "'123a'.isalnum()"
   ]
  },
  {
   "cell_type": "markdown",
   "metadata": {
    "id": "cLGYpw9_2jam"
   },
   "source": [
    "### isalpha\n",
    "\n",
    "\n",
    "str.isalpha()\n",
    "\n",
    "Возвращает True, если все символы непустой строки это буквы, False в противном случае."
   ]
  },
  {
   "cell_type": "code",
   "execution_count": null,
   "metadata": {
    "colab": {
     "base_uri": "https://localhost:8080/"
    },
    "executionInfo": {
     "elapsed": 3,
     "status": "ok",
     "timestamp": 1644838593213,
     "user": {
      "displayName": "Илья Витальевич Тихонов",
      "photoUrl": "https://lh3.googleusercontent.com/a/default-user=s64",
      "userId": "10513119548773881016"
     },
     "user_tz": -180
    },
    "id": "-z_nBezk2kug",
    "outputId": "51e62d27-f169-4b7e-854b-f98e8d0aaf20"
   },
   "outputs": [
    {
     "data": {
      "text/plain": [
       "False"
      ]
     },
     "execution_count": 69,
     "metadata": {},
     "output_type": "execute_result"
    }
   ],
   "source": [
    "'123a'.isalpha()"
   ]
  },
  {
   "cell_type": "code",
   "execution_count": null,
   "metadata": {
    "colab": {
     "base_uri": "https://localhost:8080/"
    },
    "executionInfo": {
     "elapsed": 2,
     "status": "ok",
     "timestamp": 1644838598661,
     "user": {
      "displayName": "Илья Витальевич Тихонов",
      "photoUrl": "https://lh3.googleusercontent.com/a/default-user=s64",
      "userId": "10513119548773881016"
     },
     "user_tz": -180
    },
    "id": "zSyFlklnBSdN",
    "outputId": "ae6c0237-393e-41f2-d273-d16cb181a4e5"
   },
   "outputs": [
    {
     "data": {
      "text/plain": [
       "True"
      ]
     },
     "execution_count": 70,
     "metadata": {},
     "output_type": "execute_result"
    }
   ],
   "source": [
    "'a'.isalpha()"
   ]
  },
  {
   "cell_type": "markdown",
   "metadata": {
    "id": "zX0hGTYu2mdT"
   },
   "source": [
    "### isdigit\n",
    "\n",
    "str.isdigit()\n",
    "\n",
    "Возвращает True, если все символы непустой строки это цифры, False в противном случае."
   ]
  },
  {
   "cell_type": "code",
   "execution_count": null,
   "metadata": {
    "colab": {
     "base_uri": "https://localhost:8080/"
    },
    "executionInfo": {
     "elapsed": 232,
     "status": "ok",
     "timestamp": 1644838612516,
     "user": {
      "displayName": "Илья Витальевич Тихонов",
      "photoUrl": "https://lh3.googleusercontent.com/a/default-user=s64",
      "userId": "10513119548773881016"
     },
     "user_tz": -180
    },
    "id": "ZgbuNJdV2nrg",
    "outputId": "3704c7e8-ec61-4ff8-ded2-2f3900663495"
   },
   "outputs": [
    {
     "data": {
      "text/plain": [
       "True"
      ]
     },
     "execution_count": 71,
     "metadata": {},
     "output_type": "execute_result"
    }
   ],
   "source": [
    "'123'.isdigit()"
   ]
  },
  {
   "cell_type": "code",
   "execution_count": null,
   "metadata": {
    "colab": {
     "base_uri": "https://localhost:8080/"
    },
    "executionInfo": {
     "elapsed": 2,
     "status": "ok",
     "timestamp": 1644838621159,
     "user": {
      "displayName": "Илья Витальевич Тихонов",
      "photoUrl": "https://lh3.googleusercontent.com/a/default-user=s64",
      "userId": "10513119548773881016"
     },
     "user_tz": -180
    },
    "id": "s3G-fGraBXLq",
    "outputId": "7c5248e3-929b-4273-c4da-489b67b66fde"
   },
   "outputs": [
    {
     "data": {
      "text/plain": [
       "False"
      ]
     },
     "execution_count": 72,
     "metadata": {},
     "output_type": "execute_result"
    }
   ],
   "source": [
    "'a123'.isdigit()"
   ]
  },
  {
   "cell_type": "markdown",
   "metadata": {
    "id": "RsbtG-3U2oFr"
   },
   "source": [
    "### islower\n",
    "\n",
    "str.islower()\n",
    "Возвращает True, если все буквы строки это строчные буквы, False в противном случае."
   ]
  },
  {
   "cell_type": "code",
   "execution_count": null,
   "metadata": {
    "colab": {
     "base_uri": "https://localhost:8080/"
    },
    "executionInfo": {
     "elapsed": 2,
     "status": "ok",
     "timestamp": 1644838640812,
     "user": {
      "displayName": "Илья Витальевич Тихонов",
      "photoUrl": "https://lh3.googleusercontent.com/a/default-user=s64",
      "userId": "10513119548773881016"
     },
     "user_tz": -180
    },
    "id": "2IIhh9Ih2pRQ",
    "outputId": "d5ff147c-0277-447e-d65f-ef5e67a8f52e"
   },
   "outputs": [
    {
     "data": {
      "text/plain": [
       "False"
      ]
     },
     "execution_count": 73,
     "metadata": {},
     "output_type": "execute_result"
    }
   ],
   "source": [
    "'Adc'.islower()"
   ]
  },
  {
   "cell_type": "code",
   "execution_count": null,
   "metadata": {
    "colab": {
     "base_uri": "https://localhost:8080/"
    },
    "executionInfo": {
     "elapsed": 2,
     "status": "ok",
     "timestamp": 1644838676492,
     "user": {
      "displayName": "Илья Витальевич Тихонов",
      "photoUrl": "https://lh3.googleusercontent.com/a/default-user=s64",
      "userId": "10513119548773881016"
     },
     "user_tz": -180
    },
    "id": "P1bE8N85Bl3p",
    "outputId": "89746399-cdbf-4507-d48e-9c6bafc3998d"
   },
   "outputs": [
    {
     "data": {
      "text/plain": [
       "True"
      ]
     },
     "execution_count": 77,
     "metadata": {},
     "output_type": "execute_result"
    }
   ],
   "source": [
    "'adc'.islower()"
   ]
  },
  {
   "cell_type": "markdown",
   "metadata": {
    "id": "_pkQwODp2pxV"
   },
   "source": [
    "### isspace\n",
    "\n",
    "str.isspace()\n",
    "\n",
    "Возвращает True, если все символы непустой строки это пробелы, False в противном случае."
   ]
  },
  {
   "cell_type": "code",
   "execution_count": null,
   "metadata": {
    "colab": {
     "base_uri": "https://localhost:8080/"
    },
    "executionInfo": {
     "elapsed": 3,
     "status": "ok",
     "timestamp": 1644838653445,
     "user": {
      "displayName": "Илья Витальевич Тихонов",
      "photoUrl": "https://lh3.googleusercontent.com/a/default-user=s64",
      "userId": "10513119548773881016"
     },
     "user_tz": -180
    },
    "id": "kIPYvA6Q2q6g",
    "outputId": "77c89bb9-cbb6-414d-fa3e-addd1fa6593c"
   },
   "outputs": [
    {
     "data": {
      "text/plain": [
       "True"
      ]
     },
     "execution_count": 74,
     "metadata": {},
     "output_type": "execute_result"
    }
   ],
   "source": [
    "'    '.isspace()"
   ]
  },
  {
   "cell_type": "code",
   "execution_count": null,
   "metadata": {
    "colab": {
     "base_uri": "https://localhost:8080/"
    },
    "executionInfo": {
     "elapsed": 228,
     "status": "ok",
     "timestamp": 1644838669784,
     "user": {
      "displayName": "Илья Витальевич Тихонов",
      "photoUrl": "https://lh3.googleusercontent.com/a/default-user=s64",
      "userId": "10513119548773881016"
     },
     "user_tz": -180
    },
    "id": "oniYlTGIBhLW",
    "outputId": "52e74426-9a0c-4d90-8bb0-cfcfcbd20f10"
   },
   "outputs": [
    {
     "data": {
      "text/plain": [
       "False"
      ]
     },
     "execution_count": 76,
     "metadata": {},
     "output_type": "execute_result"
    }
   ],
   "source": [
    "'  s '.isspace()"
   ]
  },
  {
   "cell_type": "markdown",
   "metadata": {
    "id": "XwJdL_mf2rQZ"
   },
   "source": [
    "### isupper\n",
    "\n",
    "str.isupper()\n",
    "\n",
    "Возвращает True, если все буквы строки это прописные буквы, False в противном случае."
   ]
  },
  {
   "cell_type": "code",
   "execution_count": null,
   "metadata": {
    "colab": {
     "base_uri": "https://localhost:8080/"
    },
    "executionInfo": {
     "elapsed": 2,
     "status": "ok",
     "timestamp": 1644838689854,
     "user": {
      "displayName": "Илья Витальевич Тихонов",
      "photoUrl": "https://lh3.googleusercontent.com/a/default-user=s64",
      "userId": "10513119548773881016"
     },
     "user_tz": -180
    },
    "id": "Wx85CcsN2sJf",
    "outputId": "68338245-a024-4925-c334-2d5e98c5cbdf"
   },
   "outputs": [
    {
     "data": {
      "text/plain": [
       "True"
      ]
     },
     "execution_count": 78,
     "metadata": {},
     "output_type": "execute_result"
    }
   ],
   "source": [
    "'AAA'.isupper()"
   ]
  },
  {
   "cell_type": "code",
   "execution_count": null,
   "metadata": {
    "colab": {
     "base_uri": "https://localhost:8080/"
    },
    "executionInfo": {
     "elapsed": 227,
     "status": "ok",
     "timestamp": 1644838694885,
     "user": {
      "displayName": "Илья Витальевич Тихонов",
      "photoUrl": "https://lh3.googleusercontent.com/a/default-user=s64",
      "userId": "10513119548773881016"
     },
     "user_tz": -180
    },
    "id": "aaMHFoinBqKh",
    "outputId": "adcb485c-1f91-46eb-d149-7ef9d946bdfe"
   },
   "outputs": [
    {
     "data": {
      "text/plain": [
       "False"
      ]
     },
     "execution_count": 79,
     "metadata": {},
     "output_type": "execute_result"
    }
   ],
   "source": [
    "'aaa'.isupper()"
   ]
  },
  {
   "cell_type": "markdown",
   "metadata": {
    "id": "crkDGBDn2s7N"
   },
   "source": [
    "### join\n",
    "\n",
    "str.join(iterable)\n",
    "\n",
    "Очень важный и полезный метод!\n",
    "Возвращает строку, которая получена конкатенацией элементов последовательности (iterable), переданной в\n",
    "качестве параметра. Элементы последовательности должны быть строками. Разделитель элементов в данном\n",
    "случае строка, от лица которой был вызван метод. Под строкой с вызовом метода join указан результат\n",
    "вывода."
   ]
  },
  {
   "cell_type": "code",
   "execution_count": null,
   "metadata": {
    "colab": {
     "base_uri": "https://localhost:8080/",
     "height": 35
    },
    "executionInfo": {
     "elapsed": 2,
     "status": "ok",
     "timestamp": 1644838779106,
     "user": {
      "displayName": "Илья Витальевич Тихонов",
      "photoUrl": "https://lh3.googleusercontent.com/a/default-user=s64",
      "userId": "10513119548773881016"
     },
     "user_tz": -180
    },
    "id": "XqV2EsS22tiP",
    "outputId": "ba9a9780-2aba-4ae9-b634-7b77ab56b8bd"
   },
   "outputs": [
    {
     "data": {
      "application/vnd.google.colaboratory.intrinsic+json": {
       "type": "string"
      },
      "text/plain": [
       "'2023-07-30'"
      ]
     },
     "execution_count": 81,
     "metadata": {},
     "output_type": "execute_result"
    }
   ],
   "source": [
    "# списки, кортежи будут рассмотренны далее\n",
    "'-'.join(['2023', '07', '30'])"
   ]
  },
  {
   "cell_type": "code",
   "execution_count": null,
   "metadata": {
    "colab": {
     "base_uri": "https://localhost:8080/",
     "height": 35
    },
    "executionInfo": {
     "elapsed": 2,
     "status": "ok",
     "timestamp": 1644838793692,
     "user": {
      "displayName": "Илья Витальевич Тихонов",
      "photoUrl": "https://lh3.googleusercontent.com/a/default-user=s64",
      "userId": "10513119548773881016"
     },
     "user_tz": -180
    },
    "id": "YLPV_4aWCCU3",
    "outputId": "80cbab40-9689-4c4b-90f7-092b7b2ac494"
   },
   "outputs": [
    {
     "data": {
      "application/vnd.google.colaboratory.intrinsic+json": {
       "type": "string"
      },
      "text/plain": [
       "'2023/07/30'"
      ]
     },
     "execution_count": 82,
     "metadata": {},
     "output_type": "execute_result"
    }
   ],
   "source": [
    "'/'.join(['2023', '07', '30'])"
   ]
  },
  {
   "cell_type": "code",
   "execution_count": null,
   "metadata": {
    "colab": {
     "base_uri": "https://localhost:8080/",
     "height": 35
    },
    "executionInfo": {
     "elapsed": 252,
     "status": "ok",
     "timestamp": 1644838799443,
     "user": {
      "displayName": "Илья Витальевич Тихонов",
      "photoUrl": "https://lh3.googleusercontent.com/a/default-user=s64",
      "userId": "10513119548773881016"
     },
     "user_tz": -180
    },
    "id": "uPWTxZHhCDt1",
    "outputId": "017dc292-6c0e-4271-c756-7bdce48448a7"
   },
   "outputs": [
    {
     "data": {
      "application/vnd.google.colaboratory.intrinsic+json": {
       "type": "string"
      },
      "text/plain": [
       "'2023 07 30'"
      ]
     },
     "execution_count": 83,
     "metadata": {},
     "output_type": "execute_result"
    }
   ],
   "source": [
    "' '.join(['2023', '07', '30'])"
   ]
  },
  {
   "cell_type": "markdown",
   "metadata": {
    "id": "6GhoxFEH4zef"
   },
   "source": [
    "### ljust\n",
    "\n",
    "str.ljust(width[, fillchar])\n",
    "\n",
    "То же, что и str.center(width[, fillchar]), но располагает строку str не по центру, а прижимает еe к левому краю.\n"
   ]
  },
  {
   "cell_type": "code",
   "execution_count": null,
   "metadata": {
    "colab": {
     "base_uri": "https://localhost:8080/",
     "height": 35
    },
    "executionInfo": {
     "elapsed": 2,
     "status": "ok",
     "timestamp": 1644838863870,
     "user": {
      "displayName": "Илья Витальевич Тихонов",
      "photoUrl": "https://lh3.googleusercontent.com/a/default-user=s64",
      "userId": "10513119548773881016"
     },
     "user_tz": -180
    },
    "id": "Wi1jZsud41CC",
    "outputId": "633fc799-88a0-4183-a93c-772a919dc660"
   },
   "outputs": [
    {
     "data": {
      "application/vnd.google.colaboratory.intrinsic+json": {
       "type": "string"
      },
      "text/plain": [
       "'ваша подпись__________________'"
      ]
     },
     "execution_count": 86,
     "metadata": {},
     "output_type": "execute_result"
    }
   ],
   "source": [
    "'ваша подпись'.ljust(30, '_')"
   ]
  },
  {
   "cell_type": "markdown",
   "metadata": {
    "id": "ggf9Lf_f5S9l"
   },
   "source": [
    "### lstrip\n",
    "\n",
    "\n",
    "str.lstrip([chars])\n",
    "\n",
    "Возвращает строку, полученную из str следующим образом: из начала строки str удаляются все символы, перечисленные в строке chars. Если параметр chars не указан, то по умолчанию удаляются пробелы.\n",
    "\n",
    "Надо понимать, что в chars указывается не префикс, который надо удалить, а именно набор символов. После преобразования первый символ получившейся строки гарантированно остутствует в строке chars."
   ]
  },
  {
   "cell_type": "code",
   "execution_count": null,
   "metadata": {
    "colab": {
     "base_uri": "https://localhost:8080/",
     "height": 35
    },
    "executionInfo": {
     "elapsed": 2,
     "status": "ok",
     "timestamp": 1644839141652,
     "user": {
      "displayName": "Илья Витальевич Тихонов",
      "photoUrl": "https://lh3.googleusercontent.com/a/default-user=s64",
      "userId": "10513119548773881016"
     },
     "user_tz": -180
    },
    "id": "O4F2wpu9DXRQ",
    "outputId": "88cd76c3-b6d1-41b1-c3b0-51d5fb51f9cc"
   },
   "outputs": [
    {
     "data": {
      "application/vnd.google.colaboratory.intrinsic+json": {
       "type": "string"
      },
      "text/plain": [
       "'google.com'"
      ]
     },
     "execution_count": 92,
     "metadata": {},
     "output_type": "execute_result"
    }
   ],
   "source": [
    "'https://google.com'.lstrip('https://')"
   ]
  },
  {
   "cell_type": "code",
   "execution_count": null,
   "metadata": {
    "colab": {
     "base_uri": "https://localhost:8080/",
     "height": 35
    },
    "executionInfo": {
     "elapsed": 2,
     "status": "ok",
     "timestamp": 1644839143578,
     "user": {
      "displayName": "Илья Витальевич Тихонов",
      "photoUrl": "https://lh3.googleusercontent.com/a/default-user=s64",
      "userId": "10513119548773881016"
     },
     "user_tz": -180
    },
    "id": "ui3YQZ5g5U1R",
    "outputId": "73758a5b-2527-403a-d36e-33e6c0c86e90"
   },
   "outputs": [
    {
     "data": {
      "application/vnd.google.colaboratory.intrinsic+json": {
       "type": "string"
      },
      "text/plain": [
       "'google.com'"
      ]
     },
     "execution_count": 93,
     "metadata": {},
     "output_type": "execute_result"
    }
   ],
   "source": [
    "# \\ в конце позволяет переносить длинную запись на следующую строку\n",
    "'https://google\\\n",
    ".com'.lstrip('https://')"
   ]
  },
  {
   "cell_type": "markdown",
   "metadata": {
    "id": "ohSs6jFx2yqr"
   },
   "source": [
    "### partition\n",
    "\n",
    "str.partition(sep)\n",
    "\n",
    "Сначала находится место первого вхождения строки sep в строку str. Метод возвращает кортеж, состоящий из трeх строк: часть до разделителя sep, сам разделитель, и часть после разделителя.\n",
    "\n",
    "Если строка sep не найдена, то первый элемент кортежа это исходная строка, остальные два пустые строки.\n",
    "\n"
   ]
  },
  {
   "cell_type": "code",
   "execution_count": null,
   "metadata": {
    "colab": {
     "base_uri": "https://localhost:8080/"
    },
    "executionInfo": {
     "elapsed": 248,
     "status": "ok",
     "timestamp": 1644839193160,
     "user": {
      "displayName": "Илья Витальевич Тихонов",
      "photoUrl": "https://lh3.googleusercontent.com/a/default-user=s64",
      "userId": "10513119548773881016"
     },
     "user_tz": -180
    },
    "id": "UKU4sAc5205n",
    "outputId": "fb773ba9-386b-4c75-b3eb-02dda51ef187"
   },
   "outputs": [
    {
     "data": {
      "text/plain": [
       "('Что', ' тут ', 'у нас')"
      ]
     },
     "execution_count": 95,
     "metadata": {},
     "output_type": "execute_result"
    }
   ],
   "source": [
    "'Что тут у нас'.partition(' тут ')"
   ]
  },
  {
   "cell_type": "markdown",
   "metadata": {
    "id": "EsKus0wD2142"
   },
   "source": [
    "### replace\n",
    "\n",
    "str.replace(old, new[, count])\n",
    "\n",
    "Возвращает копию строки str, в которой все вхождения old заменены на new. Если указан параметр count, то заменяются только первые count вхождений.\n",
    "\n",
    "\n",
    "\n"
   ]
  },
  {
   "cell_type": "code",
   "execution_count": null,
   "metadata": {
    "colab": {
     "base_uri": "https://localhost:8080/",
     "height": 35
    },
    "executionInfo": {
     "elapsed": 3,
     "status": "ok",
     "timestamp": 1644839304270,
     "user": {
      "displayName": "Илья Витальевич Тихонов",
      "photoUrl": "https://lh3.googleusercontent.com/a/default-user=s64",
      "userId": "10513119548773881016"
     },
     "user_tz": -180
    },
    "id": "XMLat9Su22Vf",
    "outputId": "14a13993-b973-4990-f764-55fc4335da2c"
   },
   "outputs": [
    {
     "data": {
      "application/vnd.google.colaboratory.intrinsic+json": {
       "type": "string"
      },
      "text/plain": [
       "'Надо бы удалить эту лишнюю запятую.'"
      ]
     },
     "execution_count": 96,
     "metadata": {},
     "output_type": "execute_result"
    }
   ],
   "source": [
    "'Надо бы удалить, эту лишнюю запятую.'.replace(',', '')"
   ]
  },
  {
   "cell_type": "markdown",
   "metadata": {
    "id": "0vCS_JNM3Bkr"
   },
   "source": [
    "### rjust\n",
    "\n",
    "str.rjust(width[, fillchar])\n",
    "\n",
    "То же, что и str.center(width[, fillchar]), но располагает строку str не по центру, а прижимает еј к\n",
    "правому краю.\n"
   ]
  },
  {
   "cell_type": "code",
   "execution_count": null,
   "metadata": {
    "colab": {
     "base_uri": "https://localhost:8080/",
     "height": 35
    },
    "executionInfo": {
     "elapsed": 3,
     "status": "ok",
     "timestamp": 1644839324838,
     "user": {
      "displayName": "Илья Витальевич Тихонов",
      "photoUrl": "https://lh3.googleusercontent.com/a/default-user=s64",
      "userId": "10513119548773881016"
     },
     "user_tz": -180
    },
    "id": "Mmo1PC3e3Ctm",
    "outputId": "21400928-a96b-4022-851e-bbe99c70a22c"
   },
   "outputs": [
    {
     "data": {
      "application/vnd.google.colaboratory.intrinsic+json": {
       "type": "string"
      },
      "text/plain": [
       "'__________________ваша подпись'"
      ]
     },
     "execution_count": 97,
     "metadata": {},
     "output_type": "execute_result"
    }
   ],
   "source": [
    "'ваша подпись'.rjust(30, '_')"
   ]
  },
  {
   "cell_type": "markdown",
   "metadata": {
    "id": "4IH4L1AN3FzT"
   },
   "source": [
    "### split\n",
    "\n",
    "str.split([sep[, maxsplit]])\n",
    "\n",
    "Разбивает строку str на подстроки, используя sep как разделитель и возвращает их список.\n",
    "\n",
    "Если параметр sep не указан, то считается, что он равен пробелу. Если указан параметр maxsplit, то делается не более maxsplit разбиений (т.е. список содержит maxsplit+1 строку). Параметр sep может содержать больше\n",
    "одного символа.\n",
    "\n",
    "Метод по-разному интерпретирует разделитель в зависимости от того указан ли он явно при вызове или используется значение по умолчанию (пробел):\n",
    "\n",
    "Eсли параметр sep не указан или указано значение None, то группы подряд идущих пробелов интерпретируются, как один разделитель;\n",
    "\n",
    "Eсли же параметр sep указан явно, то каждый из идущих подряд разделителей интерпретируется, как самостоятельный разделитель и в таком случае в списке появляются пустые строки.\n"
   ]
  },
  {
   "cell_type": "code",
   "execution_count": null,
   "metadata": {
    "colab": {
     "base_uri": "https://localhost:8080/"
    },
    "executionInfo": {
     "elapsed": 233,
     "status": "ok",
     "timestamp": 1644839551995,
     "user": {
      "displayName": "Илья Витальевич Тихонов",
      "photoUrl": "https://lh3.googleusercontent.com/a/default-user=s64",
      "userId": "10513119548773881016"
     },
     "user_tz": -180
    },
    "id": "rAVBZZCg3HDe",
    "outputId": "5bc5216a-47ef-4966-982d-f7630d821a66"
   },
   "outputs": [
    {
     "data": {
      "text/plain": [
       "['сплит', 'разделит', 'это', 'все', 'по', 'запятым']"
      ]
     },
     "execution_count": 98,
     "metadata": {},
     "output_type": "execute_result"
    }
   ],
   "source": [
    "'сплит, разделит, это, все, по, запятым'.split(', ')"
   ]
  },
  {
   "cell_type": "code",
   "execution_count": null,
   "metadata": {
    "colab": {
     "base_uri": "https://localhost:8080/"
    },
    "executionInfo": {
     "elapsed": 2,
     "status": "ok",
     "timestamp": 1644839758746,
     "user": {
      "displayName": "Илья Витальевич Тихонов",
      "photoUrl": "https://lh3.googleusercontent.com/a/default-user=s64",
      "userId": "10513119548773881016"
     },
     "user_tz": -180
    },
    "id": "D8pkqCaEE8uh",
    "outputId": "42390b68-dd55-41c9-f1a5-6639ce0ca53e"
   },
   "outputs": [
    {
     "data": {
      "text/plain": [
       "['а',\n",
       " 'еще',\n",
       " 'можно',\n",
       " 'ничего',\n",
       " 'не',\n",
       " 'указывать',\n",
       " 'и',\n",
       " 'тогда',\n",
       " 'по',\n",
       " 'пробелам',\n",
       " 'втч',\n",
       " 'нескольки']"
      ]
     },
     "execution_count": 102,
     "metadata": {},
     "output_type": "execute_result"
    }
   ],
   "source": [
    "'а еще можно ничего        не указывать и тогда по пробелам втч     нескольки'.split() # возвращет список! про него в след уроке"
   ]
  },
  {
   "cell_type": "markdown",
   "metadata": {
    "id": "E2ZEKrsO3H9h"
   },
   "source": [
    "### startswith\n",
    "\n",
    "str.startswith(prefix[, start[, end]])\n",
    "\n",
    "Метод возвращает значение True, если строка str начинается на строку prefix (говорят, что строка prefix\n",
    "является префиксом строки str) и False в противном случае.\n",
    "Если указаны параметры start и/или end, то префикс ищется в срезе str[start:end].\n",
    "Если не указан start, то префикс ищется с начала строки, если не указан end, то префикс ищется до конца\n",
    "строки. Если указан только один дополнительный параметр, то считается, что это параметр start.\n"
   ]
  },
  {
   "cell_type": "code",
   "execution_count": null,
   "metadata": {
    "colab": {
     "base_uri": "https://localhost:8080/"
    },
    "executionInfo": {
     "elapsed": 2,
     "status": "ok",
     "timestamp": 1644839722937,
     "user": {
      "displayName": "Илья Витальевич Тихонов",
      "photoUrl": "https://lh3.googleusercontent.com/a/default-user=s64",
      "userId": "10513119548773881016"
     },
     "user_tz": -180
    },
    "id": "K1at0Zyu3J7u",
    "outputId": "1fce10f0-d001-4027-f7ca-2c2d6b758e09"
   },
   "outputs": [
    {
     "data": {
      "text/plain": [
       "True"
      ]
     },
     "execution_count": 100,
     "metadata": {},
     "output_type": "execute_result"
    }
   ],
   "source": [
    "'Иван Иванович'.startswith('Иван')"
   ]
  },
  {
   "cell_type": "markdown",
   "metadata": {
    "id": "wfJTV40y3M7r"
   },
   "source": [
    "### strip\n",
    "\n",
    "str.strip([chars])\n",
    "\n",
    "Метод возвращает строку, последовательно обработанную методами lstrip и rstrip."
   ]
  },
  {
   "cell_type": "code",
   "execution_count": null,
   "metadata": {
    "colab": {
     "base_uri": "https://localhost:8080/",
     "height": 35
    },
    "executionInfo": {
     "elapsed": 254,
     "status": "ok",
     "timestamp": 1644839791335,
     "user": {
      "displayName": "Илья Витальевич Тихонов",
      "photoUrl": "https://lh3.googleusercontent.com/a/default-user=s64",
      "userId": "10513119548773881016"
     },
     "user_tz": -180
    },
    "id": "LMTFZQ1_3Nz9",
    "outputId": "d88b0c92-5f70-4c89-b737-3b9117a053a8"
   },
   "outputs": [
    {
     "data": {
      "application/vnd.google.colaboratory.intrinsic+json": {
       "type": "string"
      },
      "text/plain": [
       "'мы в осаде пробелов'"
      ]
     },
     "execution_count": 103,
     "metadata": {},
     "output_type": "execute_result"
    }
   ],
   "source": [
    "'    мы в осаде пробелов     '.strip()"
   ]
  }
 ],
 "metadata": {
  "colab": {
   "authorship_tag": "ABX9TyN6qK75ABob1ysy6IBk5Fps",
   "collapsed_sections": [],
   "name": "Урок 2.1.ipynb",
   "provenance": [],
   "toc_visible": true
  },
  "kernelspec": {
   "display_name": "Python 3 (ipykernel)",
   "language": "python",
   "name": "python3"
  },
  "language_info": {
   "codemirror_mode": {
    "name": "ipython",
    "version": 3
   },
   "file_extension": ".py",
   "mimetype": "text/x-python",
   "name": "python",
   "nbconvert_exporter": "python",
   "pygments_lexer": "ipython3",
   "version": "3.9.12"
  }
 },
 "nbformat": 4,
 "nbformat_minor": 1
}
