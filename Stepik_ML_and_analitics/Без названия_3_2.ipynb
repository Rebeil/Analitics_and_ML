{
 "cells": [
  {
   "cell_type": "code",
   "execution_count": 1,
   "id": "c96b49e7",
   "metadata": {
    "ExecuteTime": {
     "end_time": "2022-10-19T12:01:28.574361Z",
     "start_time": "2022-10-19T12:01:28.570279Z"
    }
   },
   "outputs": [
    {
     "name": "stdout",
     "output_type": "stream",
     "text": [
      "[3, 4, 5]\n"
     ]
    }
   ],
   "source": [
    "# Не меняйте этот код! Он необходим для автоматической проверки решений.\n",
    "#data = list(map(int, input().split()))\n",
    "data = [1,2,3]\n",
    "# ваш код тут \n",
    "for i in range(len(data)):\n",
    "    data[i]+=2\n",
    "\n",
    "# Не меняйте этот код! Он необходим для автоматической проверки решений.\n",
    "print(data)"
   ]
  },
  {
   "cell_type": "code",
   "execution_count": 27,
   "id": "2fe8352e",
   "metadata": {
    "ExecuteTime": {
     "end_time": "2022-10-19T13:13:54.578290Z",
     "start_time": "2022-10-19T13:13:54.569738Z"
    }
   },
   "outputs": [
    {
     "name": "stdout",
     "output_type": "stream",
     "text": [
      "0.6887\n"
     ]
    }
   ],
   "source": [
    "# Не меняйте этот код! Он необходим для автоматической проверки решений.\n",
    "from math import log\n",
    "# данные\n",
    "#data, y = input().split('|')\n",
    "data, y = \"0.9 0.9;1. 0.9;0.95 1.;0.92 0.85;0.2 0.15;0.13 0.14;0.32 0.2;0.1 0.5 \\\n",
    "          |1,1,1,1,0,0,0,0\".split('|')\n",
    "data = [list(map(float, e.split())) for e in data.split(';')]\n",
    "# ответы\n",
    "y = list(map(int, y.split(',')))\n",
    "# лог регрессия\n",
    "e = 2.71828182846\n",
    "sigmoid = lambda x: 1/(1+e**(-x))\n",
    "logistic_regression = lambda data, w=[0.2, -0.2]: sigmoid(sum([data[i]*w[i] for i in range(len(data))]))\n",
    "# функция потерь (ошибка, она же кросс-энтропия)\n",
    "cost = lambda a, y: -y * log(a + 1e-5)- (1-y) * log( 1-a + 1e-5)\n",
    "\n",
    "# ваш код тут\n",
    "#a = []\n",
    "#for i in data:\n",
    "#    a.append(logistic_regression(i))\n",
    "\n",
    "#a = [logistic_regression(i) for i in data]\n",
    "#avg_loss = sum([cost(*i) for i in zip(a,y)])/len(data)\n",
    "avg_loss = sum([cost(*i) for i in zip([logistic_regression(i) for i in data],y)])/len(data)\n",
    "# Не меняйте этот код! Он необходим для автоматической проверки решений.\n",
    "print(round(avg_loss, 4))# f'avg_loss:.4'"
   ]
  },
  {
   "cell_type": "code",
   "execution_count": 49,
   "id": "af82f08f",
   "metadata": {
    "ExecuteTime": {
     "end_time": "2022-10-19T13:38:22.809147Z",
     "start_time": "2022-10-19T13:38:16.296921Z"
    }
   },
   "outputs": [
    {
     "name": "stdout",
     "output_type": "stream",
     "text": [
      "1 2 | 3 4\n",
      "11.0\n"
     ]
    }
   ],
   "source": [
    "# Не меняйте этот код! Он необходим для автоматической проверки решений.\n",
    "a, b = input().split('|')\n",
    "a = list(map(float, a.split()))\n",
    "b = list(map(float, b.split()))\n",
    "\n",
    "# изменяйте только этот код 1 2 | 3 4\n",
    "if len(a)!=len(b):\n",
    "    print(\"error\")\n",
    "else:\n",
    "    a = zip(a,b)\n",
    "    c = 0\n",
    "    for i in a:\n",
    "        c += i[0]*i[1] \n",
    "    print(c)\n",
    "    \n",
    "#print(sum([x * y for x, y in zip(a, b)]) if len(a) == len(b) else 'error')"
   ]
  },
  {
   "cell_type": "code",
   "execution_count": null,
   "id": "28017ad9",
   "metadata": {},
   "outputs": [],
   "source": [
    "print(sum([x * y for x, y in zip(a, b)]) if len(a) == len(b) else 'error')\n"
   ]
  },
  {
   "cell_type": "code",
   "execution_count": null,
   "id": "8f700397",
   "metadata": {},
   "outputs": [],
   "source": [
    "if len(a) != len(b):\n",
    "    d = 'error'\n",
    "else:\n",
    "    d = sum(a[i] * b[i] for i in range(len(a)))\n",
    "print(d)"
   ]
  },
  {
   "cell_type": "code",
   "execution_count": 50,
   "id": "8a84bbb3",
   "metadata": {
    "ExecuteTime": {
     "end_time": "2022-10-19T13:40:13.027733Z",
     "start_time": "2022-10-19T13:40:10.330471Z"
    }
   },
   "outputs": [
    {
     "name": "stdout",
     "output_type": "stream",
     "text": [
      "1 2 | 3 4\n",
      "11.0\n"
     ]
    }
   ],
   "source": [
    "# Не меняйте этот код! Он необходим для автоматической проверки решений.\n",
    "a, b = input().split('|')\n",
    "a = list(map(float, a.split()))\n",
    "b = list(map(float, b.split()))\n",
    "\n",
    "# изменяйте только этот код 1 2 | 3 4\n",
    "if len(a)!=len(b):\n",
    "    print(\"error\")\n",
    "else:\n",
    "    c = 0\n",
    "    for i, j in zip(a,b):\n",
    "        c += i *j\n",
    "    print(c)"
   ]
  },
  {
   "cell_type": "code",
   "execution_count": 59,
   "id": "7d032a19",
   "metadata": {
    "ExecuteTime": {
     "end_time": "2022-10-19T14:14:33.585989Z",
     "start_time": "2022-10-19T14:14:33.579606Z"
    }
   },
   "outputs": [
    {
     "name": "stdout",
     "output_type": "stream",
     "text": [
      "[2.0, 3.0]\n",
      "[4.0, 5.0]\n",
      "1.0\n",
      "2.0\n",
      "1.0 [2.0, 3.0]\n",
      "2.0 [4.0, 5.0]\n"
     ]
    }
   ],
   "source": [
    "# Не меняйте этот код! Он необходим для автоматической проверки решений. 1 2|1 2,3 4\n",
    "\n",
    "a, b = \"1 2|2 3,4 5\".split('|')\n",
    "a = list(map(float, a.split()))\n",
    "b = [list(map(float, e.split())) for e in b.split(',')]\n",
    "\n",
    "# изменяйте только этот код a[i]*\n",
    "for i in b:\n",
    "    print(i)\n",
    "for i in a:\n",
    "    print(i)\n",
    "c = 0\n",
    "for i,j in zip(a,b):\n",
    "    print(i,j)\n",
    "    \n",
    "#print(mv)"
   ]
  },
  {
   "cell_type": "code",
   "execution_count": 60,
   "id": "77ffffd0",
   "metadata": {
    "ExecuteTime": {
     "end_time": "2022-10-19T14:18:21.644007Z",
     "start_time": "2022-10-19T14:18:21.479298Z"
    }
   },
   "outputs": [
    {
     "name": "stdout",
     "output_type": "stream",
     "text": [
      "[[ 5]\n",
      " [ 8]\n",
      " [13]]\n"
     ]
    }
   ],
   "source": [
    "import numpy as np\n",
    "a = np.array([ [2, 1], [2, 2], [4, 3] ])\n",
    "b = np.array([ [1], [3] ])\n",
    "total = a.dot(b)\n",
    "print(total)"
   ]
  },
  {
   "cell_type": "code",
   "execution_count": 151,
   "id": "9ccf78d2",
   "metadata": {
    "ExecuteTime": {
     "end_time": "2022-10-19T15:18:27.017406Z",
     "start_time": "2022-10-19T15:18:27.011862Z"
    }
   },
   "outputs": [
    {
     "name": "stdout",
     "output_type": "stream",
     "text": [
      "error\n"
     ]
    }
   ],
   "source": [
    "a, b = \"1 2|1 2,3 4 3\".split('|')\n",
    "a = list(map(float, a.split()))\n",
    "b = [list(map(float, e.split())) for e in b.split(',')]\n",
    "\n",
    "flag = True\n",
    "for i in b:\n",
    "    if len(i)!=len(a):\n",
    "        flag = False\n",
    "        \n",
    "if flag:\n",
    "    import numpy as np\n",
    "    vec = np.asarray(a)\n",
    "    matrix = np.asarray(b)\n",
    "    total = np.dot(matrix, vec)\n",
    "    print(total.shape)\n",
    "    print(list(total))\n",
    "else:\n",
    "    print(\"error\")"
   ]
  },
  {
   "cell_type": "code",
   "execution_count": null,
   "id": "47952327",
   "metadata": {},
   "outputs": [],
   "source": [
    "a, b = \"1 2|1 2,3 4\".split('|')\n",
    "a = list(map(float, a.split()))\n",
    "b = [list(map(float, e.split())) for e in b.split(',')]\n",
    "#y=numpy.array([numpy.array(xi) for xi in x])\n",
    "if len(a) == len(b[0]):\n",
    "    import numpy as np\n",
    "    c = np.asarray(a)\n",
    "    f = np.asarray([np.asarray(i) for i in b]) \n",
    "    print(type(f),type(f[0][0]))\n",
    "    total = f.dot(c)\n",
    "    print(list(total))\n",
    "else:\n",
    "    print(\"error\")"
   ]
  },
  {
   "cell_type": "code",
   "execution_count": 93,
   "id": "ff6dc1d0",
   "metadata": {
    "ExecuteTime": {
     "end_time": "2022-10-19T14:35:10.099829Z",
     "start_time": "2022-10-19T14:35:10.095501Z"
    },
    "code_folding": []
   },
   "outputs": [
    {
     "name": "stdout",
     "output_type": "stream",
     "text": [
      "1.0 [1.0, 2.0]\n",
      "1.0\n",
      "2.0\n",
      "2.0 [3.0, 4.0]\n",
      "3.0\n",
      "4.0\n"
     ]
    }
   ],
   "source": [
    "a, b = \"1 2|1 2,3 4\".split('|')\n",
    "a = list(map(float, a.split()))\n",
    "b = [list(map(float, e.split())) for e in b.split(',')] \n",
    "for i,j in zip(a,b):\n",
    "    print(i,j)\n",
    "    for k in j:\n",
    "        print(k)#a.append(i*)"
   ]
  }
 ],
 "metadata": {
  "kernelspec": {
   "display_name": "Python 3 (ipykernel)",
   "language": "python",
   "name": "python3"
  },
  "language_info": {
   "codemirror_mode": {
    "name": "ipython",
    "version": 3
   },
   "file_extension": ".py",
   "mimetype": "text/x-python",
   "name": "python",
   "nbconvert_exporter": "python",
   "pygments_lexer": "ipython3",
   "version": "3.9.12"
  }
 },
 "nbformat": 4,
 "nbformat_minor": 5
}
