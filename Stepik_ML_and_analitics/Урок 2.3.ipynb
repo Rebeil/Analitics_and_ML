{
 "cells": [
  {
   "cell_type": "markdown",
   "metadata": {
    "id": "OJdDMFgHdr4Z"
   },
   "source": [
    "## tuple\n",
    "\n",
    "**кортеж**\n",
    "\n",
    "Этот тип данных очень похож на list, имеет ту же структуру, но отличается тем, что он неизменяемый (изменение элементов требует уточнения, которое\n",
    "будет дано ниже).\n",
    "\n",
    "Это нужно, например, чтобы `tuple` мог выступать в качестве ключей словаря (о них ниже). list в качестве ключей словаря выступать не может.\n",
    "\n",
    "Задать tuple можно круглыми скобками:"
   ]
  },
  {
   "cell_type": "code",
   "execution_count": null,
   "metadata": {
    "colab": {
     "base_uri": "https://localhost:8080/"
    },
    "executionInfo": {
     "elapsed": 329,
     "status": "ok",
     "timestamp": 1644846478888,
     "user": {
      "displayName": "Илья Витальевич Тихонов",
      "photoUrl": "https://lh3.googleusercontent.com/a/default-user=s64",
      "userId": "10513119548773881016"
     },
     "user_tz": -180
    },
    "id": "6Nn8TVeDdhxQ",
    "outputId": "687c5324-3d2c-4905-8baa-296b3f1c99b9"
   },
   "outputs": [
    {
     "data": {
      "text/plain": [
       "('a', 5, 12.345, (2, 'b'))"
      ]
     },
     "execution_count": 4,
     "metadata": {},
     "output_type": "execute_result"
    }
   ],
   "source": [
    "a = ('a', 5, 12.345, (2, 'b'))\n",
    "a"
   ]
  },
  {
   "cell_type": "code",
   "execution_count": null,
   "metadata": {
    "colab": {
     "base_uri": "https://localhost:8080/"
    },
    "executionInfo": {
     "elapsed": 2,
     "status": "ok",
     "timestamp": 1644846479242,
     "user": {
      "displayName": "Илья Витальевич Тихонов",
      "photoUrl": "https://lh3.googleusercontent.com/a/default-user=s64",
      "userId": "10513119548773881016"
     },
     "user_tz": -180
    },
    "id": "J3Z72yB2dvvU",
    "outputId": "4e8f6c52-6608-4131-da23-fe0d6260e065"
   },
   "outputs": [
    {
     "data": {
      "text/plain": [
       "('a', 5, 12.345, (2, 'b'))"
      ]
     },
     "execution_count": 5,
     "metadata": {},
     "output_type": "execute_result"
    }
   ],
   "source": [
    "# или просто перечислить их через запятую\n",
    "a = 'a', 5, 12.345, (2, 'b')\n",
    "a"
   ]
  },
  {
   "cell_type": "markdown",
   "metadata": {
    "id": "rOFtYw_vfAxx"
   },
   "source": [
    "Для кортежа определена операция индексации, т.е. обращение к элементы кортежа указанием индекса (номера) этого элемента в кортеже, причем нумерация, как у всех упорядоченных последовательностей, начинается с нуля;"
   ]
  },
  {
   "cell_type": "code",
   "execution_count": null,
   "metadata": {
    "colab": {
     "base_uri": "https://localhost:8080/",
     "height": 35
    },
    "executionInfo": {
     "elapsed": 4,
     "status": "ok",
     "timestamp": 1644846479594,
     "user": {
      "displayName": "Илья Витальевич Тихонов",
      "photoUrl": "https://lh3.googleusercontent.com/a/default-user=s64",
      "userId": "10513119548773881016"
     },
     "user_tz": -180
    },
    "id": "eJ9mPeyndz9T",
    "outputId": "e49f919f-6432-4969-b0a1-a9713e13421b"
   },
   "outputs": [
    {
     "data": {
      "application/vnd.google.colaboratory.intrinsic+json": {
       "type": "string"
      },
      "text/plain": [
       "'a'"
      ]
     },
     "execution_count": 6,
     "metadata": {},
     "output_type": "execute_result"
    }
   ],
   "source": [
    "# вне аналогично списку\n",
    "a[0]"
   ]
  },
  {
   "cell_type": "code",
   "execution_count": null,
   "metadata": {
    "colab": {
     "base_uri": "https://localhost:8080/"
    },
    "executionInfo": {
     "elapsed": 2,
     "status": "ok",
     "timestamp": 1644846481365,
     "user": {
      "displayName": "Илья Витальевич Тихонов",
      "photoUrl": "https://lh3.googleusercontent.com/a/default-user=s64",
      "userId": "10513119548773881016"
     },
     "user_tz": -180
    },
    "id": "tSvgnk5cfV9F",
    "outputId": "29ff021c-0cc8-44e1-94d1-4e6ad4b514f0"
   },
   "outputs": [
    {
     "data": {
      "text/plain": [
       "(2, 'b')"
      ]
     },
     "execution_count": 7,
     "metadata": {},
     "output_type": "execute_result"
    }
   ],
   "source": [
    "a[-1]"
   ]
  },
  {
   "cell_type": "markdown",
   "metadata": {
    "id": "Jps3T24ofaAi"
   },
   "source": [
    "Структура срезов полностью идентична спискам (и строкам)"
   ]
  },
  {
   "cell_type": "code",
   "execution_count": null,
   "metadata": {
    "colab": {
     "base_uri": "https://localhost:8080/"
    },
    "executionInfo": {
     "elapsed": 2,
     "status": "ok",
     "timestamp": 1644846486887,
     "user": {
      "displayName": "Илья Витальевич Тихонов",
      "photoUrl": "https://lh3.googleusercontent.com/a/default-user=s64",
      "userId": "10513119548773881016"
     },
     "user_tz": -180
    },
    "id": "c7JxmuVufXzc",
    "outputId": "0b99f299-ed04-4d49-9f96-f02e34aa85d4"
   },
   "outputs": [
    {
     "data": {
      "text/plain": [
       "('a', 5)"
      ]
     },
     "execution_count": 8,
     "metadata": {},
     "output_type": "execute_result"
    }
   ],
   "source": [
    "a[:2]"
   ]
  },
  {
   "cell_type": "markdown",
   "metadata": {
    "id": "jcUjD3rffh6n"
   },
   "source": [
    "### Операции с кортежами"
   ]
  },
  {
   "cell_type": "markdown",
   "metadata": {
    "id": "Fh6wgOWKfl_K"
   },
   "source": [
    "Конкатенация:\n"
   ]
  },
  {
   "cell_type": "code",
   "execution_count": null,
   "metadata": {
    "colab": {
     "base_uri": "https://localhost:8080/"
    },
    "executionInfo": {
     "elapsed": 3,
     "status": "ok",
     "timestamp": 1644846556558,
     "user": {
      "displayName": "Илья Витальевич Тихонов",
      "photoUrl": "https://lh3.googleusercontent.com/a/default-user=s64",
      "userId": "10513119548773881016"
     },
     "user_tz": -180
    },
    "id": "oopbudihfZHk",
    "outputId": "50ae410d-2e6a-47ff-e966-edcf6099f17f"
   },
   "outputs": [
    {
     "data": {
      "text/plain": [
       "(1, 2, 3)"
      ]
     },
     "execution_count": 10,
     "metadata": {},
     "output_type": "execute_result"
    }
   ],
   "source": [
    "(1, 2) + (3,) # второе значение тоже кортеж, состоящий из одного элемента, за это отвечает тройка"
   ]
  },
  {
   "cell_type": "markdown",
   "metadata": {
    "id": "ho6oe0-Bf0OZ"
   },
   "source": [
    "Умножение на число:"
   ]
  },
  {
   "cell_type": "code",
   "execution_count": null,
   "metadata": {
    "colab": {
     "base_uri": "https://localhost:8080/"
    },
    "executionInfo": {
     "elapsed": 2,
     "status": "ok",
     "timestamp": 1644846610982,
     "user": {
      "displayName": "Илья Витальевич Тихонов",
      "photoUrl": "https://lh3.googleusercontent.com/a/default-user=s64",
      "userId": "10513119548773881016"
     },
     "user_tz": -180
    },
    "id": "EyUsRBiAfpbE",
    "outputId": "410b623f-3da1-493d-98f9-6cf99e1d2b98"
   },
   "outputs": [
    {
     "data": {
      "text/plain": [
       "('a', 5, 12.345, (2, 'b'), 'a', 5, 12.345, (2, 'b'), 'a', 5, 12.345, (2, 'b'))"
      ]
     },
     "execution_count": 11,
     "metadata": {},
     "output_type": "execute_result"
    }
   ],
   "source": [
    "a * 3"
   ]
  },
  {
   "cell_type": "markdown",
   "metadata": {
    "id": "iIf_Syruf7bE"
   },
   "source": [
    "### Изменение объектов, содержащихся в кортеже\n",
    "\n",
    "Основное отличие кортежей от списков - невозможность изменять кортежи. Под изменением понимается изменение элементов кортежа либо изменение их количества. С изменением количества (добавление, удаление) всe понятно, а вот что такое изменение элементов - надо уточнить. В языке Python все типы являются изменяемыми или неизменяемыми. К изменяемым типам из пока описанных относится только список (list), к неизменяемым - все числовые типы, строки и кортежи."
   ]
  },
  {
   "cell_type": "code",
   "execution_count": null,
   "metadata": {
    "colab": {
     "base_uri": "https://localhost:8080/",
     "height": 165
    },
    "executionInfo": {
     "elapsed": 5,
     "status": "error",
     "timestamp": 1644846697963,
     "user": {
      "displayName": "Илья Витальевич Тихонов",
      "photoUrl": "https://lh3.googleusercontent.com/a/default-user=s64",
      "userId": "10513119548773881016"
     },
     "user_tz": -180
    },
    "id": "ieCu2CyEf3Zy",
    "outputId": "e6126407-8b12-4cdf-bc8a-dfd31dac5d12"
   },
   "outputs": [
    {
     "ename": "TypeError",
     "evalue": "ignored",
     "output_type": "error",
     "traceback": [
      "\u001b[0;31m---------------------------------------------------------------------------\u001b[0m",
      "\u001b[0;31mTypeError\u001b[0m                                 Traceback (most recent call last)",
      "\u001b[0;32m<ipython-input-12-cce9bfd22742>\u001b[0m in \u001b[0;36m<module>\u001b[0;34m()\u001b[0m\n\u001b[0;32m----> 1\u001b[0;31m \u001b[0ma\u001b[0m\u001b[0;34m[\u001b[0m\u001b[0;36m0\u001b[0m\u001b[0;34m]\u001b[0m \u001b[0;34m=\u001b[0m \u001b[0;36m12\u001b[0m\u001b[0;34m\u001b[0m\u001b[0;34m\u001b[0m\u001b[0m\n\u001b[0m",
      "\u001b[0;31mTypeError\u001b[0m: 'tuple' object does not support item assignment"
     ]
    }
   ],
   "source": [
    "a[0] = 12 # ошибка, поскольку объект неизменяем"
   ]
  },
  {
   "cell_type": "markdown",
   "metadata": {
    "id": "r36shVh3gWFX"
   },
   "source": [
    "Основные преимущества использования кортежей следующие:\n",
    "\n",
    "1. множественное присваивание: a, b = b, a\n",
    "2. кортежи (как неизменяемые объекты, наряду с числами и строками) используются в качестве ключей в словарях (будет рассмотрено далее).\n",
    "3. если вы работаете с данными, которые не предполагается изменять в процессе обработки, то использование кортежей автоматически защищает их от случайного изменения (и последующего поиска ошибки). Примером могут служить алгоритмы вычислительной геометрии, работающие с точками как парами их декартовых координат."
   ]
  },
  {
   "cell_type": "code",
   "execution_count": null,
   "metadata": {
    "id": "ugoCGhlWgMpe"
   },
   "outputs": [],
   "source": [
    "a, b = (1, 2, 3), (3, 4, 5)"
   ]
  },
  {
   "cell_type": "code",
   "execution_count": null,
   "metadata": {
    "colab": {
     "base_uri": "https://localhost:8080/"
    },
    "executionInfo": {
     "elapsed": 3,
     "status": "ok",
     "timestamp": 1644846797939,
     "user": {
      "displayName": "Илья Витальевич Тихонов",
      "photoUrl": "https://lh3.googleusercontent.com/a/default-user=s64",
      "userId": "10513119548773881016"
     },
     "user_tz": -180
    },
    "id": "VMa7DnJ6gkog",
    "outputId": "55876e96-83a3-477d-dfd4-eb699229ef7d"
   },
   "outputs": [
    {
     "data": {
      "text/plain": [
       "((1, 2, 3), (3, 4, 5))"
      ]
     },
     "execution_count": 14,
     "metadata": {},
     "output_type": "execute_result"
    }
   ],
   "source": [
    "a, b"
   ]
  },
  {
   "cell_type": "code",
   "execution_count": null,
   "metadata": {
    "id": "kKpCacKiglF_"
   },
   "outputs": [],
   "source": [
    "a, b = b, a"
   ]
  },
  {
   "cell_type": "code",
   "execution_count": null,
   "metadata": {
    "colab": {
     "base_uri": "https://localhost:8080/"
    },
    "executionInfo": {
     "elapsed": 1,
     "status": "ok",
     "timestamp": 1644846802253,
     "user": {
      "displayName": "Илья Витальевич Тихонов",
      "photoUrl": "https://lh3.googleusercontent.com/a/default-user=s64",
      "userId": "10513119548773881016"
     },
     "user_tz": -180
    },
    "id": "NF5Ysuldgl6f",
    "outputId": "4a24e27a-ecbf-4cfc-dbd8-6f3126ca4f4f"
   },
   "outputs": [
    {
     "data": {
      "text/plain": [
       "((3, 4, 5), (1, 2, 3))"
      ]
     },
     "execution_count": 16,
     "metadata": {},
     "output_type": "execute_result"
    }
   ],
   "source": [
    "a, b"
   ]
  },
  {
   "cell_type": "code",
   "execution_count": null,
   "metadata": {
    "colab": {
     "base_uri": "https://localhost:8080/"
    },
    "executionInfo": {
     "elapsed": 4,
     "status": "ok",
     "timestamp": 1644883053373,
     "user": {
      "displayName": "Илья Витальевич Тихонов",
      "photoUrl": "https://lh3.googleusercontent.com/a/default-user=s64",
      "userId": "10513119548773881016"
     },
     "user_tz": -180
    },
    "id": "LH_VHHYwgmMn",
    "outputId": "1e28aa00-114c-46ce-dfbc-42006bb4f143"
   },
   "outputs": [
    {
     "data": {
      "text/plain": [
       "2"
      ]
     },
     "execution_count": 1,
     "metadata": {},
     "output_type": "execute_result"
    }
   ],
   "source": [
    "a = (1, 2, 3, 3)\n",
    "a.count(3)"
   ]
  },
  {
   "cell_type": "code",
   "execution_count": null,
   "metadata": {
    "colab": {
     "base_uri": "https://localhost:8080/"
    },
    "executionInfo": {
     "elapsed": 2,
     "status": "ok",
     "timestamp": 1644883085248,
     "user": {
      "displayName": "Илья Витальевич Тихонов",
      "photoUrl": "https://lh3.googleusercontent.com/a/default-user=s64",
      "userId": "10513119548773881016"
     },
     "user_tz": -180
    },
    "id": "a1qOHqNdq11Q",
    "outputId": "67081e68-0c7e-4c91-9b9b-aeef5a820d60"
   },
   "outputs": [
    {
     "data": {
      "text/plain": [
       "1"
      ]
     },
     "execution_count": 3,
     "metadata": {},
     "output_type": "execute_result"
    }
   ],
   "source": [
    "min(a)"
   ]
  },
  {
   "cell_type": "code",
   "execution_count": null,
   "metadata": {
    "colab": {
     "base_uri": "https://localhost:8080/"
    },
    "executionInfo": {
     "elapsed": 2,
     "status": "ok",
     "timestamp": 1644883087299,
     "user": {
      "displayName": "Илья Витальевич Тихонов",
      "photoUrl": "https://lh3.googleusercontent.com/a/default-user=s64",
      "userId": "10513119548773881016"
     },
     "user_tz": -180
    },
    "id": "42tmLmTkq-c3",
    "outputId": "044f6a73-6185-4b07-852e-0e551dbd21ea"
   },
   "outputs": [
    {
     "data": {
      "text/plain": [
       "3"
      ]
     },
     "execution_count": 4,
     "metadata": {},
     "output_type": "execute_result"
    }
   ],
   "source": [
    "max(a)"
   ]
  },
  {
   "cell_type": "code",
   "execution_count": null,
   "metadata": {
    "colab": {
     "base_uri": "https://localhost:8080/"
    },
    "executionInfo": {
     "elapsed": 2,
     "status": "ok",
     "timestamp": 1644883095470,
     "user": {
      "displayName": "Илья Витальевич Тихонов",
      "photoUrl": "https://lh3.googleusercontent.com/a/default-user=s64",
      "userId": "10513119548773881016"
     },
     "user_tz": -180
    },
    "id": "FlIMbS_5q-7X",
    "outputId": "7c30847d-98a6-4f69-ebdb-5167133c575d"
   },
   "outputs": [
    {
     "data": {
      "text/plain": [
       "[1, 2, 3, 3]"
      ]
     },
     "execution_count": 5,
     "metadata": {},
     "output_type": "execute_result"
    }
   ],
   "source": [
    "sorted(a)"
   ]
  },
  {
   "cell_type": "code",
   "execution_count": null,
   "metadata": {
    "id": "hp7e1v-jrCnP"
   },
   "outputs": [],
   "source": []
  }
 ],
 "metadata": {
  "colab": {
   "authorship_tag": "ABX9TyOsJ8m7orJ9rrQ8xYFCPgEQ",
   "name": "Урок 2.3.ipynb",
   "provenance": []
  },
  "kernelspec": {
   "display_name": "Python 3 (ipykernel)",
   "language": "python",
   "name": "python3"
  },
  "language_info": {
   "codemirror_mode": {
    "name": "ipython",
    "version": 3
   },
   "file_extension": ".py",
   "mimetype": "text/x-python",
   "name": "python",
   "nbconvert_exporter": "python",
   "pygments_lexer": "ipython3",
   "version": "3.9.12"
  }
 },
 "nbformat": 4,
 "nbformat_minor": 1
}
