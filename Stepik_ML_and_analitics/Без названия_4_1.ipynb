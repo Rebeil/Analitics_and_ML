{
 "cells": [
  {
   "cell_type": "code",
   "execution_count": 3,
   "id": "992131ca",
   "metadata": {
    "ExecuteTime": {
     "end_time": "2022-10-26T12:56:27.330071Z",
     "start_time": "2022-10-26T12:56:27.316817Z"
    }
   },
   "outputs": [
    {
     "name": "stdout",
     "output_type": "stream",
     "text": [
      "30.0\n"
     ]
    }
   ],
   "source": [
    "# Не меняйте этот код! Он необходим для автоматической проверки решений.\n",
    "a, b = \"0 0 1|20 21 30\".split('|')\n",
    "# списки\n",
    "a = list(map(float, a.split()))\n",
    "b = list(map(float, b.split()))\n",
    "\n",
    "# функция расчета скалярного произведения\n",
    "\n",
    "\n",
    "def dot_product(a, b):\n",
    "    return sum([x * y for x, y in zip(a, b)]) if len(a) == len(b) else 'error'\n",
    "\n",
    "\n",
    "# результат скалярного произведения векторов\n",
    "# Не меняйте этот код! Он необходим для автоматической проверки решений.\n",
    "print(dot_product(a, b))"
   ]
  },
  {
   "cell_type": "code",
   "execution_count": 21,
   "id": "3dd96534",
   "metadata": {
    "ExecuteTime": {
     "end_time": "2022-10-26T13:06:04.280834Z",
     "start_time": "2022-10-26T13:06:02.575072Z"
    }
   },
   "outputs": [
    {
     "name": "stdout",
     "output_type": "stream",
     "text": [
      "1.0 -2.0 3.0\n",
      "6.0\n"
     ]
    }
   ],
   "source": [
    "# Не меняйте этот код! Он необходим для автоматической проверки решений.\n",
    "a = [float(e) for e in input().split()]\n",
    "# функция расчета l1 нормы вектора\n",
    "\n",
    "\n",
    "def l1_norm(a):\n",
    "    # ваш код тут\n",
    "    return sum(abs(i) for i in a)\n",
    "\n",
    "\n",
    "# Не меняйте этот код! Он необходим для автоматической проверки решений.\n",
    "print(l1_norm(a))"
   ]
  },
  {
   "attachments": {
    "image.png": {
     "image/png": "[encoded data removed]"
    }
   },
   "cell_type": "markdown",
   "id": "a534c33c",
   "metadata": {},
   "source": [
    "![image.png](attachment:image.png)"
   ]
  },
  {
   "cell_type": "code",
   "execution_count": 30,
   "id": "7f8826fb",
   "metadata": {
    "ExecuteTime": {
     "end_time": "2022-10-26T13:35:10.531391Z",
     "start_time": "2022-10-26T13:35:08.609156Z"
    }
   },
   "outputs": [
    {
     "name": "stdout",
     "output_type": "stream",
     "text": [
      "1 2 3\n",
      "[0.09003061639242388, 0.2447285139578144, 0.6652408696497617]\n"
     ]
    }
   ],
   "source": [
    "# Sample Input: 1 2 3\n",
    "# Sample Output: [0.09003061639242388, 0.2447285139578144, 0.6652408696497617]\n",
    "# Не меняйте этот код! Он необходим для автоматической проверки решений.\n",
    "a = [float(e) for e in input().split()]\n",
    "\n",
    "# функция расчета softmax вектора\n",
    "\n",
    "\n",
    "def softmax(a):\n",
    "    # ваш код тут\n",
    "    e = 2.718281\n",
    "    SM = []\n",
    "    for i in range(len(a)):\n",
    "        SM.append( e**a[i] /(sum(e**a[j] for j in range(len(a)))) )\n",
    "        # return [(e**x)/sum(e**z for z in va) for x in va]\n",
    "    return SM\n",
    "        \n",
    "\n",
    "\n",
    "# Не меняйте этот код! Он необходим для автоматической проверки решений.\n",
    "print(softmax(a))"
   ]
  }
 ],
 "metadata": {
  "kernelspec": {
   "display_name": "Python 3 (ipykernel)",
   "language": "python",
   "name": "python3"
  },
  "language_info": {
   "codemirror_mode": {
    "name": "ipython",
    "version": 3
   },
   "file_extension": ".py",
   "mimetype": "text/x-python",
   "name": "python",
   "nbconvert_exporter": "python",
   "pygments_lexer": "ipython3",
   "version": "3.9.12"
  }
 },
 "nbformat": 4,
 "nbformat_minor": 5
}
