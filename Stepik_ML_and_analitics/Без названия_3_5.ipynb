{
 "cells": [
  {
   "cell_type": "code",
   "execution_count": 2,
   "id": "48354333",
   "metadata": {
    "ExecuteTime": {
     "end_time": "2022-10-26T12:12:38.963381Z",
     "start_time": "2022-10-26T12:12:38.960269Z"
    }
   },
   "outputs": [
    {
     "name": "stdout",
     "output_type": "stream",
     "text": [
      "[1, 2]\n",
      "[2, 2]\n"
     ]
    }
   ],
   "source": [
    "a = [1,2]\n",
    "print(a)\n",
    "b = list(a)\n",
    "b[0] =2\n",
    "print(b)"
   ]
  },
  {
   "cell_type": "code",
   "execution_count": 16,
   "id": "d1afb5e0",
   "metadata": {
    "ExecuteTime": {
     "end_time": "2022-10-26T12:36:23.117801Z",
     "start_time": "2022-10-26T12:36:23.083331Z"
    }
   },
   "outputs": [
    {
     "ename": "TypeError",
     "evalue": "unhashable type: 'set'",
     "output_type": "error",
     "traceback": [
      "\u001b[0;31m---------------------------------------------------------------------------\u001b[0m",
      "\u001b[0;31mTypeError\u001b[0m                                 Traceback (most recent call last)",
      "Input \u001b[0;32mIn [16]\u001b[0m, in \u001b[0;36m<cell line: 1>\u001b[0;34m()\u001b[0m\n\u001b[0;32m----> 1\u001b[0m d \u001b[38;5;241m=\u001b[39m {(\u001b[38;5;28mset\u001b[39m(\u001b[38;5;124m'\u001b[39m\u001b[38;5;124msome string\u001b[39m\u001b[38;5;124m'\u001b[39m\u001b[38;5;241m.\u001b[39msplit()),):\u001b[38;5;124m'\u001b[39m\u001b[38;5;124mvalue\u001b[39m\u001b[38;5;124m'\u001b[39m} \u001b[38;5;66;03m#Неверно\u001b[39;00m\n\u001b[1;32m      2\u001b[0m d \u001b[38;5;241m=\u001b[39m {\u001b[38;5;28mtuple\u001b[39m(\u001b[38;5;28mset\u001b[39m(\u001b[38;5;124m'\u001b[39m\u001b[38;5;124msome string\u001b[39m\u001b[38;5;124m'\u001b[39m\u001b[38;5;241m.\u001b[39msplit()),):\u001b[38;5;124m'\u001b[39m\u001b[38;5;124mvalue\u001b[39m\u001b[38;5;124m'\u001b[39m} \u001b[38;5;66;03m#явно приводить\u001b[39;00m\n\u001b[1;32m      3\u001b[0m d\u001b[38;5;241m.\u001b[39mkeys()\n",
      "\u001b[0;31mTypeError\u001b[0m: unhashable type: 'set'"
     ]
    }
   ],
   "source": [
    "d = {(set('some string'.split()),):'value'} #Неверно\n",
    "d = {tuple(set('some string'.split()),):'value'} #явно приводить\n",
    "d.keys()"
   ]
  },
  {
   "cell_type": "code",
   "execution_count": 18,
   "id": "ea253eec",
   "metadata": {
    "ExecuteTime": {
     "end_time": "2022-10-26T12:39:54.832533Z",
     "start_time": "2022-10-26T12:39:54.828095Z"
    }
   },
   "outputs": [
    {
     "data": {
      "text/plain": [
       "[4, 3, 2, 1]"
      ]
     },
     "execution_count": 18,
     "metadata": {},
     "output_type": "execute_result"
    }
   ],
   "source": [
    "s = [1,2,3,4]\n",
    "[s[len(s) - i-1] for i in range(len(s))]"
   ]
  }
 ],
 "metadata": {
  "kernelspec": {
   "display_name": "Python 3 (ipykernel)",
   "language": "python",
   "name": "python3"
  },
  "language_info": {
   "codemirror_mode": {
    "name": "ipython",
    "version": 3
   },
   "file_extension": ".py",
   "mimetype": "text/x-python",
   "name": "python",
   "nbconvert_exporter": "python",
   "pygments_lexer": "ipython3",
   "version": "3.9.12"
  }
 },
 "nbformat": 4,
 "nbformat_minor": 5
}
