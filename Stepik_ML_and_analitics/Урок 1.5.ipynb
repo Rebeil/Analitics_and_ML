{
 "cells": [
  {
   "cell_type": "markdown",
   "metadata": {
    "id": "lqQen08XUYEB"
   },
   "source": [
    "## Округление до нужного знака"
   ]
  },
  {
   "cell_type": "markdown",
   "metadata": {
    "id": "Jd6gdkxyUZiO"
   },
   "source": [
    "В языках программирования мы неизбежно столкнемся с невозможностью разложить по степеням двойки единственным способом вещественное число, в отличае от целых чисел. Т.е. не для всех десятичных дробей существует представление в виде конечной суммы дробей вида $\\frac{1}{2^n}$."
   ]
  },
  {
   "cell_type": "code",
   "execution_count": null,
   "metadata": {
    "id": "k5jMCe1tUOqq"
   },
   "outputs": [],
   "source": [
    "b = 4.2 * 5.1"
   ]
  },
  {
   "cell_type": "code",
   "execution_count": null,
   "metadata": {
    "colab": {
     "base_uri": "https://localhost:8080/"
    },
    "executionInfo": {
     "elapsed": 3,
     "status": "ok",
     "timestamp": 1644793285026,
     "user": {
      "displayName": "Илья Витальевич Тихонов",
      "photoUrl": "https://lh3.googleusercontent.com/a/default-user=s64",
      "userId": "10513119548773881016"
     },
     "user_tz": -180
    },
    "id": "m4e6Qo5RUbFR",
    "outputId": "fa350dcd-eba7-4a48-e84a-3f3425b9a543"
   },
   "outputs": [
    {
     "data": {
      "text/plain": [
       "21.419999999999998"
      ]
     },
     "execution_count": 2,
     "metadata": {},
     "output_type": "execute_result"
    }
   ],
   "source": [
    "b"
   ]
  },
  {
   "cell_type": "code",
   "execution_count": null,
   "metadata": {
    "colab": {
     "base_uri": "https://localhost:8080/"
    },
    "executionInfo": {
     "elapsed": 4,
     "status": "ok",
     "timestamp": 1644793816726,
     "user": {
      "displayName": "Илья Витальевич Тихонов",
      "photoUrl": "https://lh3.googleusercontent.com/a/default-user=s64",
      "userId": "10513119548773881016"
     },
     "user_tz": -180
    },
    "id": "KITDvxJmWc5M",
    "outputId": "962f9c35-5d9b-4f18-833d-299f34b1850c"
   },
   "outputs": [
    {
     "data": {
      "text/plain": [
       "0.3333333333333333"
      ]
     },
     "execution_count": 4,
     "metadata": {},
     "output_type": "execute_result"
    }
   ],
   "source": [
    "1/3"
   ]
  },
  {
   "cell_type": "code",
   "execution_count": null,
   "metadata": {
    "colab": {
     "base_uri": "https://localhost:8080/"
    },
    "executionInfo": {
     "elapsed": 270,
     "status": "ok",
     "timestamp": 1644793288237,
     "user": {
      "displayName": "Илья Витальевич Тихонов",
      "photoUrl": "https://lh3.googleusercontent.com/a/default-user=s64",
      "userId": "10513119548773881016"
     },
     "user_tz": -180
    },
    "id": "s31HxYsGUcfp",
    "outputId": "09930906-aca5-428a-8465-aec324c481d0"
   },
   "outputs": [
    {
     "data": {
      "text/plain": [
       "21.42"
      ]
     },
     "execution_count": 3,
     "metadata": {},
     "output_type": "execute_result"
    }
   ],
   "source": [
    "# если знаков после запятой слишком много - можно просто округлить его до нужного количества (в этом случае 2)\n",
    "round(b, 2)"
   ]
  },
  {
   "cell_type": "markdown",
   "metadata": {
    "id": "vQPZTpYkUePm"
   },
   "source": [
    "[Полный список встроенных функций](https://pythonworld.ru/osnovy/vstroennye-funkcii.html)\n",
    "\n",
    "\n",
    "Идентификатором в Питоне называется последовательность заглавных латинских букв, строчных латинских букв,\n",
    "знаков подчеркивания и цифр, начинающаяся не с цифры и отличная от служебного слова.\n",
    "\n",
    "Полный список служебных слов языка python:\n",
    "\n",
    "'False', 'None', 'True', 'and', 'as', 'assert', 'break', 'class', 'continue', 'def', 'del', 'elif', 'else', 'except', 'finally', 'for', 'from', 'global', 'if', 'import', 'in', 'is', 'lambda', 'nonlocal', 'not', 'or', 'pass', 'raise', 'return', 'try', 'while', 'with', 'yield'"
   ]
  },
  {
   "cell_type": "markdown",
   "metadata": {
    "id": "w8iLBxyVY-hN"
   },
   "source": [
    "## bool\n",
    "\n",
    "**Логический тип переменной**: \n",
    "\n",
    "переменная типа bool может принимать два значения: `True` и `False`:"
   ]
  },
  {
   "cell_type": "code",
   "execution_count": null,
   "metadata": {
    "colab": {
     "base_uri": "https://localhost:8080/"
    },
    "executionInfo": {
     "elapsed": 3,
     "status": "ok",
     "timestamp": 1644794480077,
     "user": {
      "displayName": "Илья Витальевич Тихонов",
      "photoUrl": "https://lh3.googleusercontent.com/a/default-user=s64",
      "userId": "10513119548773881016"
     },
     "user_tz": -180
    },
    "id": "3D8fsI76ZABx",
    "outputId": "12aa24dc-a86c-4f89-94d5-3d6166997d68"
   },
   "outputs": [
    {
     "name": "stdout",
     "output_type": "stream",
     "text": [
      "True | <class 'bool'>\n",
      "False | <class 'bool'>\n"
     ]
    }
   ],
   "source": [
    "a = True\n",
    "b = False\n",
    "\n",
    "# появился еще один аргумент: '|'  <- туда можно поставить любой текст, в этом примере для удобства отображения\n",
    "print(a, '|', type(a))\n",
    "\n",
    "print(b, '|', type(b))"
   ]
  },
  {
   "cell_type": "markdown",
   "metadata": {
    "id": "lL0FPGmtZG_u"
   },
   "source": [
    "Существует 2 типа логических значений : True, False. Логический тип на самом деле является лишь подтипом целого, значение False соответствует нулю, True - любому ненулевому целому числу."
   ]
  },
  {
   "cell_type": "code",
   "execution_count": null,
   "metadata": {
    "colab": {
     "base_uri": "https://localhost:8080/"
    },
    "executionInfo": {
     "elapsed": 261,
     "status": "ok",
     "timestamp": 1644794546679,
     "user": {
      "displayName": "Илья Витальевич Тихонов",
      "photoUrl": "https://lh3.googleusercontent.com/a/default-user=s64",
      "userId": "10513119548773881016"
     },
     "user_tz": -180
    },
    "id": "ElsKZr6bZPEp",
    "outputId": "c90ecbb8-fa8c-46d8-f1a5-915d295e6645"
   },
   "outputs": [
    {
     "data": {
      "text/plain": [
       "2"
      ]
     },
     "execution_count": 9,
     "metadata": {},
     "output_type": "execute_result"
    }
   ],
   "source": [
    "True + True"
   ]
  },
  {
   "cell_type": "code",
   "execution_count": null,
   "metadata": {
    "colab": {
     "base_uri": "https://localhost:8080/"
    },
    "executionInfo": {
     "elapsed": 2,
     "status": "ok",
     "timestamp": 1644794552714,
     "user": {
      "displayName": "Илья Витальевич Тихонов",
      "photoUrl": "https://lh3.googleusercontent.com/a/default-user=s64",
      "userId": "10513119548773881016"
     },
     "user_tz": -180
    },
    "id": "SkGk8ybkZQ_l",
    "outputId": "22e3ce39-e253-4255-d9de-40812d27bbb4"
   },
   "outputs": [
    {
     "data": {
      "text/plain": [
       "0"
      ]
     },
     "execution_count": 10,
     "metadata": {},
     "output_type": "execute_result"
    }
   ],
   "source": [
    "False + False"
   ]
  },
  {
   "cell_type": "code",
   "execution_count": null,
   "metadata": {
    "colab": {
     "base_uri": "https://localhost:8080/"
    },
    "executionInfo": {
     "elapsed": 2,
     "status": "ok",
     "timestamp": 1644794558195,
     "user": {
      "displayName": "Илья Витальевич Тихонов",
      "photoUrl": "https://lh3.googleusercontent.com/a/default-user=s64",
      "userId": "10513119548773881016"
     },
     "user_tz": -180
    },
    "id": "LiuG0B0qZSaw",
    "outputId": "15de4b53-22b8-4286-eb74-0fb9c2cf8284"
   },
   "outputs": [
    {
     "data": {
      "text/plain": [
       "1"
      ]
     },
     "execution_count": 11,
     "metadata": {},
     "output_type": "execute_result"
    }
   ],
   "source": [
    "False + True"
   ]
  },
  {
   "cell_type": "markdown",
   "metadata": {
    "id": "H9AAIF3JYO61"
   },
   "source": [
    "## Операции сравнения\n",
    "\n",
    "К значениям числовых типов можно применять операции сравнения, результатом выполнения которой является\n",
    "значение логического типа:\n",
    "\n",
    "| Операция | Описание|\n",
    "--- | ---\n",
    "| < | строго меньше |\n",
    "| <= | меньше или равно |\n",
    "| > | строго больше |\n",
    "| >= | больше или равно |\n",
    "| == | равно |\n",
    "| != | не равно |"
   ]
  },
  {
   "cell_type": "code",
   "execution_count": null,
   "metadata": {
    "colab": {
     "base_uri": "https://localhost:8080/"
    },
    "executionInfo": {
     "elapsed": 4,
     "status": "ok",
     "timestamp": 1644794938105,
     "user": {
      "displayName": "Илья Витальевич Тихонов",
      "photoUrl": "https://lh3.googleusercontent.com/a/default-user=s64",
      "userId": "10513119548773881016"
     },
     "user_tz": -180
    },
    "id": "Qf-7zC3favOe",
    "outputId": "eb76e532-b796-4b9f-8068-cf3d0e193c4c"
   },
   "outputs": [
    {
     "data": {
      "text/plain": [
       "False"
      ]
     },
     "execution_count": 16,
     "metadata": {},
     "output_type": "execute_result"
    }
   ],
   "source": [
    "1 < 1"
   ]
  },
  {
   "cell_type": "code",
   "execution_count": null,
   "metadata": {
    "colab": {
     "base_uri": "https://localhost:8080/"
    },
    "executionInfo": {
     "elapsed": 241,
     "status": "ok",
     "timestamp": 1644794973270,
     "user": {
      "displayName": "Илья Витальевич Тихонов",
      "photoUrl": "https://lh3.googleusercontent.com/a/default-user=s64",
      "userId": "10513119548773881016"
     },
     "user_tz": -180
    },
    "id": "RDGsL14Na2lu",
    "outputId": "848c6bbc-2214-47b2-f955-473f4ba21dc6"
   },
   "outputs": [
    {
     "data": {
      "text/plain": [
       "True"
      ]
     },
     "execution_count": 17,
     "metadata": {},
     "output_type": "execute_result"
    }
   ],
   "source": [
    "2 <= 2"
   ]
  },
  {
   "cell_type": "code",
   "execution_count": null,
   "metadata": {
    "colab": {
     "base_uri": "https://localhost:8080/"
    },
    "executionInfo": {
     "elapsed": 3,
     "status": "ok",
     "timestamp": 1644795016566,
     "user": {
      "displayName": "Илья Витальевич Тихонов",
      "photoUrl": "https://lh3.googleusercontent.com/a/default-user=s64",
      "userId": "10513119548773881016"
     },
     "user_tz": -180
    },
    "id": "KqioYy0ua5Ph",
    "outputId": "cb0d6d66-40b8-4211-df45-9e957d05dadc"
   },
   "outputs": [
    {
     "data": {
      "text/plain": [
       "True"
      ]
     },
     "execution_count": 18,
     "metadata": {},
     "output_type": "execute_result"
    }
   ],
   "source": [
    "6 > -2"
   ]
  },
  {
   "cell_type": "code",
   "execution_count": null,
   "metadata": {
    "colab": {
     "base_uri": "https://localhost:8080/"
    },
    "executionInfo": {
     "elapsed": 300,
     "status": "ok",
     "timestamp": 1644795049794,
     "user": {
      "displayName": "Илья Витальевич Тихонов",
      "photoUrl": "https://lh3.googleusercontent.com/a/default-user=s64",
      "userId": "10513119548773881016"
     },
     "user_tz": -180
    },
    "id": "yXyEbHeabD0x",
    "outputId": "1a8f1843-ade1-45d2-a2cc-e68697fb5046"
   },
   "outputs": [
    {
     "data": {
      "text/plain": [
       "True"
      ]
     },
     "execution_count": 20,
     "metadata": {},
     "output_type": "execute_result"
    }
   ],
   "source": [
    "2.1 >= 2"
   ]
  },
  {
   "cell_type": "code",
   "execution_count": null,
   "metadata": {
    "colab": {
     "base_uri": "https://localhost:8080/"
    },
    "executionInfo": {
     "elapsed": 2,
     "status": "ok",
     "timestamp": 1644795073500,
     "user": {
      "displayName": "Илья Витальевич Тихонов",
      "photoUrl": "https://lh3.googleusercontent.com/a/default-user=s64",
      "userId": "10513119548773881016"
     },
     "user_tz": -180
    },
    "id": "DB7_FDM6bH4d",
    "outputId": "777ee1f5-ccc2-4525-bce3-28e15e61bc3b"
   },
   "outputs": [
    {
     "data": {
      "text/plain": [
       "True"
      ]
     },
     "execution_count": 21,
     "metadata": {},
     "output_type": "execute_result"
    }
   ],
   "source": [
    "3 == 3.0"
   ]
  },
  {
   "cell_type": "code",
   "execution_count": null,
   "metadata": {
    "colab": {
     "base_uri": "https://localhost:8080/"
    },
    "executionInfo": {
     "elapsed": 2,
     "status": "ok",
     "timestamp": 1644795092872,
     "user": {
      "displayName": "Илья Витальевич Тихонов",
      "photoUrl": "https://lh3.googleusercontent.com/a/default-user=s64",
      "userId": "10513119548773881016"
     },
     "user_tz": -180
    },
    "id": "M7osLMMHbSnm",
    "outputId": "e119f6be-52f3-423a-c216-4b8479f00aff"
   },
   "outputs": [
    {
     "data": {
      "text/plain": [
       "False"
      ]
     },
     "execution_count": 23,
     "metadata": {},
     "output_type": "execute_result"
    }
   ],
   "source": [
    "3 != 3"
   ]
  },
  {
   "cell_type": "markdown",
   "metadata": {
    "id": "vwbTtuatc3od"
   },
   "source": [
    "### Комбинация операций сравнения"
   ]
  },
  {
   "cell_type": "markdown",
   "metadata": {
    "id": "08CtYdPJZwEh"
   },
   "source": [
    "Бинарная операция логическое \"И\"(and): результат выполнения равен True тогда и только тогда, когда оба\n",
    "операнда равны True, в противном случае результат выполнения равен False."
   ]
  },
  {
   "cell_type": "code",
   "execution_count": null,
   "metadata": {
    "colab": {
     "base_uri": "https://localhost:8080/"
    },
    "executionInfo": {
     "elapsed": 245,
     "status": "ok",
     "timestamp": 1644794723809,
     "user": {
      "displayName": "Илья Витальевич Тихонов",
      "photoUrl": "https://lh3.googleusercontent.com/a/default-user=s64",
      "userId": "10513119548773881016"
     },
     "user_tz": -180
    },
    "id": "uShBkjYBZ6Wf",
    "outputId": "dc7fcda2-08b6-4105-ca88-cde621940649"
   },
   "outputs": [
    {
     "name": "stdout",
     "output_type": "stream",
     "text": [
      "False\n"
     ]
    }
   ],
   "source": [
    "print(True and False)"
   ]
  },
  {
   "cell_type": "markdown",
   "metadata": {
    "id": "ZMEysm3LZypb"
   },
   "source": [
    "Бинарная операция логическое \"ИЛИ\"(or): результат выполнения равен True тогда и только тогда, когда\n",
    "хотя бы один операнд равен True, в противном случае результат выполнения равен False."
   ]
  },
  {
   "cell_type": "code",
   "execution_count": null,
   "metadata": {
    "colab": {
     "base_uri": "https://localhost:8080/"
    },
    "executionInfo": {
     "elapsed": 3,
     "status": "ok",
     "timestamp": 1644794737410,
     "user": {
      "displayName": "Илья Витальевич Тихонов",
      "photoUrl": "https://lh3.googleusercontent.com/a/default-user=s64",
      "userId": "10513119548773881016"
     },
     "user_tz": -180
    },
    "id": "dDrSKs2PZ-Xx",
    "outputId": "9ce39bc7-2636-4bae-bcb6-47ef5b66248a"
   },
   "outputs": [
    {
     "name": "stdout",
     "output_type": "stream",
     "text": [
      "True\n"
     ]
    }
   ],
   "source": [
    "print(True or False)"
   ]
  },
  {
   "cell_type": "markdown",
   "metadata": {
    "id": "V8kfXYxeZ0tO"
   },
   "source": [
    "Унарная операция логическое \"НЕ\"(not): результат выполнения равен True, если операнд равен False, в противном случае результат выполнения равен False"
   ]
  },
  {
   "cell_type": "code",
   "execution_count": null,
   "metadata": {
    "colab": {
     "base_uri": "https://localhost:8080/"
    },
    "executionInfo": {
     "elapsed": 2,
     "status": "ok",
     "timestamp": 1644794746746,
     "user": {
      "displayName": "Илья Витальевич Тихонов",
      "photoUrl": "https://lh3.googleusercontent.com/a/default-user=s64",
      "userId": "10513119548773881016"
     },
     "user_tz": -180
    },
    "id": "LPW3-7K6aAs1",
    "outputId": "e738e76d-c15e-4494-d9a0-d6ca8ed3279d"
   },
   "outputs": [
    {
     "name": "stdout",
     "output_type": "stream",
     "text": [
      "True\n"
     ]
    }
   ],
   "source": [
    "print(not False)"
   ]
  },
  {
   "cell_type": "markdown",
   "metadata": {
    "id": "dzGaK_pndFnq"
   },
   "source": [
    "### Приоритет выполнения операций\n",
    "\n",
    "Cогласно [документации](https://docs.python.org/2/reference/expressions.html).\n",
    "\n",
    "Сравнения можно объединять в цепочки. Например, запись a<b<c разрешена синтаксисом языка Python и имеет общепринятый смысл. Такая запись эквивалентна следующей: a<b and b<c с той разницей, что b вычисляется один раз. Сравнения выполняются слева направо и если не выполнено хотя бы одно, то результат сравнения равен False."
   ]
  },
  {
   "cell_type": "markdown",
   "metadata": {
    "id": "i7x9AezCdP5z"
   },
   "source": [
    "Операция | Описание\n",
    "--- | ---\n",
    "() | скобки\n",
    "** | возведение в степень\n",
    "+x, -x, ∼x | унарный плюс, унарный минус, битовое НЕ\n",
    "*, /, % | умножение, деление, остаток от деления\n",
    "+, - | сложение, вычитание\n",
    "<<,>> | битовые сдвиги\n",
    "& | битовое И\n",
    "ˆ | битовое исключающее ИЛИ\n",
    "\\| | битовое ИЛИ\n",
    "in, not in, is, is not, <, <=, >,>=,<>, !=,== | проверка на принадлежность, на идентичность, сравнения\n",
    "not | логическое НЕ\n",
    "and | логическое И\n",
    "or | логическое ИЛИ"
   ]
  },
  {
   "cell_type": "markdown",
   "metadata": {
    "id": "L6MPHdjGepqe"
   },
   "source": [
    "Все операции, имеющие одинаковый приоритет выполняются слева направо. Исключениями являются сравнения (см. цепочки сравнений выше) и операция возведения в степень, которая выполняется справа налево. Таким образом 2\\*\\*3\\*\\*2 понимается как 2\\*\\*(3\\*\\*2)."
   ]
  },
  {
   "cell_type": "markdown",
   "metadata": {
    "id": "zsDcWtrsfmZy"
   },
   "source": [
    "Пример $2^{3^2} + 32 - (\\frac{2}{3}^{-3})^{- \\frac{1}{2}}$ будет записан так:"
   ]
  },
  {
   "cell_type": "code",
   "execution_count": null,
   "metadata": {
    "colab": {
     "base_uri": "https://localhost:8080/"
    },
    "executionInfo": {
     "elapsed": 3,
     "status": "ok",
     "timestamp": 1644796333464,
     "user": {
      "displayName": "Илья Витальевич Тихонов",
      "photoUrl": "https://lh3.googleusercontent.com/a/default-user=s64",
      "userId": "10513119548773881016"
     },
     "user_tz": -180
    },
    "id": "YaxN_gBoWktQ",
    "outputId": "1fe581be-892c-4332-90db-5a868a2d1440"
   },
   "outputs": [
    {
     "data": {
      "text/plain": [
       "512.1869077254064"
      ]
     },
     "execution_count": 26,
     "metadata": {},
     "output_type": "execute_result"
    }
   ],
   "source": [
    "2**(3**2) + (32 - (2/3)**(-3)) ** (-1/2)"
   ]
  },
  {
   "cell_type": "markdown",
   "metadata": {
    "id": "T7-caypQiaQK"
   },
   "source": [
    "## If\n",
    "\n",
    "**Условный оператор**\n",
    "\n",
    "В коде часто приходится проверять выполнимость или невыполнимость каких-то условий. Синтаксис следующий\n",
    "\n",
    "```\n",
    "if <условие1 (булевское выражение)> :\n",
    "    <код, который выполнится, если условие верно>\n",
    "elif <условие2 (булевское выражение)>:\n",
    "    <код, который выполнится, если условие1 было неверно, а условие2 верно>\n",
    "else:\n",
    "    <код, который выполнится, если условие1 и условие2 были неверны>\n",
    "```\n",
    "\n",
    "Обратите внимание, что код, который должен выполняться внутри каждого условия, записывается с отступом в 4 пробела от уровня if, elif и else: в питоне области видимости переменных обозначаются отступами.\n",
    "\n",
    "*То есть, отступы позволяют понять, где начинается код, который должен выполняться при выполнении условия в if, и где заканчивается*\n",
    "\n",
    "Рассмотрим пример: пусть в нашем коде есть переменная x. Пусть мы хотим вывести на экран сообщение \"x отрицателен\", если x<0, \"x равен нулю\", если x=0 и \"x положителен\", если x>0. Код будет следующий:"
   ]
  },
  {
   "cell_type": "markdown",
   "metadata": {
    "id": "DdGOMyJ0ioyj"
   },
   "source": [
    "Сокращенный синтаксис:\n"
   ]
  },
  {
   "cell_type": "code",
   "execution_count": null,
   "metadata": {
    "colab": {
     "base_uri": "https://localhost:8080/"
    },
    "executionInfo": {
     "elapsed": 285,
     "status": "ok",
     "timestamp": 1644796969857,
     "user": {
      "displayName": "Илья Витальевич Тихонов",
      "photoUrl": "https://lh3.googleusercontent.com/a/default-user=s64",
      "userId": "10513119548773881016"
     },
     "user_tz": -180
    },
    "id": "x-naYrpvffsv",
    "outputId": "ed6b9710-3897-43d0-9cd1-9a88f84da2a5"
   },
   "outputs": [
    {
     "name": "stdout",
     "output_type": "stream",
     "text": [
      "Done\n"
     ]
    }
   ],
   "source": [
    "x = 10\n",
    "\n",
    "if x<0:\n",
    "    print(\"x отрицателен\")\n",
    "    \n",
    "# этот код уже не \"внутри\" else, потому что записан без отступа в 4 пробела. Поэтому он выполнится \n",
    "# в любом случае после отработки if-elif-else\n",
    "print(\"Done\")"
   ]
  },
  {
   "cell_type": "markdown",
   "metadata": {
    "id": "TkLlMYqTir4T"
   },
   "source": [
    "Расширенный синтаксис:\n"
   ]
  },
  {
   "cell_type": "code",
   "execution_count": null,
   "metadata": {
    "colab": {
     "base_uri": "https://localhost:8080/"
    },
    "executionInfo": {
     "elapsed": 2,
     "status": "ok",
     "timestamp": 1644796989610,
     "user": {
      "displayName": "Илья Витальевич Тихонов",
      "photoUrl": "https://lh3.googleusercontent.com/a/default-user=s64",
      "userId": "10513119548773881016"
     },
     "user_tz": -180
    },
    "id": "dJ0zrkeuif_s",
    "outputId": "d812a565-8aa8-433e-a587-9987e329ee8d"
   },
   "outputs": [
    {
     "name": "stdout",
     "output_type": "stream",
     "text": [
      "x положителен\n"
     ]
    }
   ],
   "source": [
    "x = 10\n",
    "\n",
    "if x<0:\n",
    "    print(\"x отрицателен\")\n",
    "else:\n",
    "    print(\"x положителен\")"
   ]
  },
  {
   "cell_type": "markdown",
   "metadata": {
    "id": "wxmrG9kzivZS"
   },
   "source": [
    "Полный синтаксис:"
   ]
  },
  {
   "cell_type": "code",
   "execution_count": null,
   "metadata": {
    "colab": {
     "base_uri": "https://localhost:8080/"
    },
    "executionInfo": {
     "elapsed": 4,
     "status": "ok",
     "timestamp": 1644797646222,
     "user": {
      "displayName": "Илья Витальевич Тихонов",
      "photoUrl": "https://lh3.googleusercontent.com/a/default-user=s64",
      "userId": "10513119548773881016"
     },
     "user_tz": -180
    },
    "id": "oc2lX9ruik3D",
    "outputId": "78da5c4e-fb1d-4600-9784-d1cbde850697"
   },
   "outputs": [
    {
     "name": "stdout",
     "output_type": "stream",
     "text": [
      "x равен нулю\n"
     ]
    }
   ],
   "source": [
    "x = 0\n",
    "\n",
    "if x<0:\n",
    "    print(\"x отрицателен\")\n",
    "elif x==0:\n",
    "    print(\"x равен нулю\")\n",
    "else:\n",
    "    print(\"x положителен\")"
   ]
  },
  {
   "cell_type": "markdown",
   "metadata": {
    "id": "XVyVPhfNlS2n"
   },
   "source": [
    "Конечно, в `if` можно подставлять и более сложные булевские выражения:"
   ]
  },
  {
   "cell_type": "code",
   "execution_count": null,
   "metadata": {
    "id": "u6J2PnVRlE_Y"
   },
   "outputs": [],
   "source": [
    "if (x>3 and x < 11) or x==5:\n",
    "    print(x)\n",
    "    # тоже выполнится при выполнения условия после if, так как этот код тоже записан с отступом в 4 пробела\n",
    "    print(\"nice\")"
   ]
  },
  {
   "cell_type": "code",
   "execution_count": null,
   "metadata": {
    "colab": {
     "base_uri": "https://localhost:8080/"
    },
    "executionInfo": {
     "elapsed": 261,
     "status": "ok",
     "timestamp": 1644797709243,
     "user": {
      "displayName": "Илья Витальевич Тихонов",
      "photoUrl": "https://lh3.googleusercontent.com/a/default-user=s64",
      "userId": "10513119548773881016"
     },
     "user_tz": -180
    },
    "id": "o071tD04lTn-",
    "outputId": "31608307-dcbf-4857-9288-7b3a6523bddf"
   },
   "outputs": [
    {
     "name": "stdout",
     "output_type": "stream",
     "text": [
      "y not grater than 6\n",
      "x is equal to 3\n"
     ]
    }
   ],
   "source": [
    "# if внутри if:\n",
    "x = 3\n",
    "y = 5\n",
    "if x == 3:\n",
    "    if y > 6:\n",
    "        # отступ в 4 пробела от внутреннего if\n",
    "        print(\"y больше 6\")\n",
    "    else:\n",
    "        print(\"y не больше 6\")\n",
    "        \n",
    "    # отступ в 4 пробела от внешнего if, поэтому код выполнится если x==3 и при любом значении y\n",
    "    print(\"x равен 3\")"
   ]
  },
  {
   "cell_type": "markdown",
   "metadata": {
    "id": "PzF4t8a0mNYS"
   },
   "source": [
    "Здесь нарочно допущена ошибка, чтобы показать важность соблюдения отступов в одну табуляцию:"
   ]
  },
  {
   "cell_type": "code",
   "execution_count": null,
   "metadata": {
    "colab": {
     "base_uri": "https://localhost:8080/",
     "height": 130
    },
    "executionInfo": {
     "elapsed": 269,
     "status": "error",
     "timestamp": 1644797990078,
     "user": {
      "displayName": "Илья Витальевич Тихонов",
      "photoUrl": "https://lh3.googleusercontent.com/a/default-user=s64",
      "userId": "10513119548773881016"
     },
     "user_tz": -180
    },
    "id": "mrO3Is1MlUie",
    "outputId": "dc04fb1f-0d23-4b2a-fe72-9c94f50340e1"
   },
   "outputs": [
    {
     "ename": "IndentationError",
     "evalue": "ignored",
     "output_type": "error",
     "traceback": [
      "\u001b[0;36m  File \u001b[0;32m\"<ipython-input-36-89be1adb872b>\"\u001b[0;36m, line \u001b[0;32m7\u001b[0m\n\u001b[0;31m    print('чудесная погода')\u001b[0m\n\u001b[0m    ^\u001b[0m\n\u001b[0;31mIndentationError\u001b[0m\u001b[0;31m:\u001b[0m unexpected indent\n"
     ]
    }
   ],
   "source": [
    "x = 10\n",
    "\n",
    "if x<0:\n",
    "    print(\"x отрицателен\")\n",
    "else:\n",
    "    print(\"x положителен\")\n",
    "     print('чудесная погода')"
   ]
  },
  {
   "cell_type": "code",
   "execution_count": null,
   "metadata": {
    "id": "AgfNRHAwmS3C"
   },
   "outputs": [],
   "source": []
  }
 ],
 "metadata": {
  "colab": {
   "authorship_tag": "ABX9TyN1X83Pk7fi2L1jr/Dfg7+t",
   "collapsed_sections": [],
   "name": "Урок 1.5.ipynb",
   "provenance": [],
   "toc_visible": true
  },
  "kernelspec": {
   "display_name": "Python 3 (ipykernel)",
   "language": "python",
   "name": "python3"
  },
  "language_info": {
   "codemirror_mode": {
    "name": "ipython",
    "version": 3
   },
   "file_extension": ".py",
   "mimetype": "text/x-python",
   "name": "python",
   "nbconvert_exporter": "python",
   "pygments_lexer": "ipython3",
   "version": "3.9.12"
  }
 },
 "nbformat": 4,
 "nbformat_minor": 1
}
