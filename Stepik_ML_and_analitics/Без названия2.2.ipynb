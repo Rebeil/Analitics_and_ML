{
 "cells": [
  {
   "cell_type": "code",
   "execution_count": 3,
   "id": "768088a1",
   "metadata": {
    "ExecuteTime": {
     "end_time": "2022-10-13T15:23:08.282408Z",
     "start_time": "2022-10-13T15:23:08.278708Z"
    }
   },
   "outputs": [
    {
     "name": "stdout",
     "output_type": "stream",
     "text": [
      "[6, 2, 3] [1, 2, 3]\n"
     ]
    }
   ],
   "source": [
    "a = [1,2,3] \n",
    "b = list(a)\n",
    "a[0] = 6\n",
    "print(a,b)b"
   ]
  },
  {
   "cell_type": "code",
   "execution_count": 10,
   "id": "211cdf93",
   "metadata": {
    "ExecuteTime": {
     "end_time": "2022-10-13T15:29:17.285253Z",
     "start_time": "2022-10-13T15:29:17.279483Z"
    }
   },
   "outputs": [
    {
     "data": {
      "text/plain": [
       "6"
      ]
     },
     "execution_count": 10,
     "metadata": {},
     "output_type": "execute_result"
    }
   ],
   "source": [
    "arr = [1,2,3]\n",
    "sum(arr)"
   ]
  },
  {
   "cell_type": "code",
   "execution_count": 24,
   "id": "bac7ade3",
   "metadata": {
    "ExecuteTime": {
     "end_time": "2022-10-13T16:54:44.051924Z",
     "start_time": "2022-10-13T16:54:44.048837Z"
    }
   },
   "outputs": [
    {
     "name": "stdout",
     "output_type": "stream",
     "text": [
      "1 5.5\n"
     ]
    }
   ],
   "source": [
    "arr1 = [1,5,6,7]\n",
    "if len(arr)%2!=0:\n",
    "    median = arr1[len(arr1)//2]\n",
    "    print(median)\n",
    "else:\n",
    "    median = arr1[len(arr1)//2]+arr1[len(arr1)//2-1]\n",
    "    print(1,median/2)"
   ]
  },
  {
   "cell_type": "code",
   "execution_count": 30,
   "id": "c6ea75e2",
   "metadata": {
    "ExecuteTime": {
     "end_time": "2022-10-13T16:57:10.923140Z",
     "start_time": "2022-10-13T16:57:10.919544Z"
    }
   },
   "outputs": [
    {
     "name": "stdout",
     "output_type": "stream",
     "text": [
      "[-2.0, 1.0, 5.0, 7.0, 1234.0]\n"
     ]
    },
    {
     "data": {
      "text/plain": [
       "5.0"
      ]
     },
     "execution_count": 30,
     "metadata": {},
     "output_type": "execute_result"
    }
   ],
   "source": [
    "arr = [-2.0, 1234.0, 1.0, 5.0, 7.0]\n",
    "arr.sort()\n",
    "print(arr)\n",
    "median = arr[len(arr)//2] if len(arr)%2!=0 else (arr[len(arr)//2]+arr[len(arr)//2-1])/2\n",
    "median"
   ]
  }
 ],
 "metadata": {
  "kernelspec": {
   "display_name": "Python 3 (ipykernel)",
   "language": "python",
   "name": "python3"
  },
  "language_info": {
   "codemirror_mode": {
    "name": "ipython",
    "version": 3
   },
   "file_extension": ".py",
   "mimetype": "text/x-python",
   "name": "python",
   "nbconvert_exporter": "python",
   "pygments_lexer": "ipython3",
   "version": "3.9.12"
  }
 },
 "nbformat": 4,
 "nbformat_minor": 5
}
