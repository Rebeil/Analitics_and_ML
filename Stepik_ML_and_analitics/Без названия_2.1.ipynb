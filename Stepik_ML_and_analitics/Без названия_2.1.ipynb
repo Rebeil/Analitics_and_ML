{
 "cells": [
  {
   "cell_type": "code",
   "execution_count": 2,
   "id": "e5ac7bfb",
   "metadata": {
    "ExecuteTime": {
     "end_time": "2022-10-13T13:43:05.774425Z",
     "start_time": "2022-10-13T13:43:05.771479Z"
    }
   },
   "outputs": [
    {
     "data": {
      "text/plain": [
       "float"
      ]
     },
     "execution_count": 2,
     "metadata": {},
     "output_type": "execute_result"
    }
   ],
   "source": [
    "x = True + 1 - 1.\n",
    "type(x)"
   ]
  },
  {
   "cell_type": "code",
   "execution_count": 6,
   "id": "cff4e486",
   "metadata": {
    "ExecuteTime": {
     "end_time": "2022-10-13T13:44:35.151127Z",
     "start_time": "2022-10-13T13:44:35.147732Z"
    }
   },
   "outputs": [
    {
     "data": {
      "text/plain": [
       "'acegk'"
      ]
     },
     "execution_count": 6,
     "metadata": {},
     "output_type": "execute_result"
    }
   ],
   "source": [
    "str_ = \"abcdefghk\"\n",
    "str_[::2]"
   ]
  },
  {
   "cell_type": "code",
   "execution_count": 20,
   "id": "965084c6",
   "metadata": {
    "ExecuteTime": {
     "end_time": "2022-10-13T13:49:09.604799Z",
     "start_time": "2022-10-13T13:49:09.601428Z"
    }
   },
   "outputs": [
    {
     "data": {
      "text/plain": [
       "'hg'"
      ]
     },
     "execution_count": 20,
     "metadata": {},
     "output_type": "execute_result"
    }
   ],
   "source": [
    "str1 = \"mnhftgdfgygfnhg\"\n",
    "str1 =str1[-2:]\n",
    "str1"
   ]
  },
  {
   "cell_type": "code",
   "execution_count": 31,
   "id": "1c6b778a",
   "metadata": {
    "ExecuteTime": {
     "end_time": "2022-10-13T13:58:24.261756Z",
     "start_time": "2022-10-13T13:58:24.258080Z"
    }
   },
   "outputs": [
    {
     "data": {
      "text/plain": [
       "'mnhgbh dfgy gfnhg'"
      ]
     },
     "execution_count": 31,
     "metadata": {},
     "output_type": "execute_result"
    }
   ],
   "source": [
    "str2 = \"mnhGBH dfgy, gfnhg.\"\n",
    "forbidden = \",.!\"\n",
    "str2 = str2.lower()\n",
    "str2 = \"\".join(symbol for symbol in str2 if symbol not in forbidden)# или через регулярные выражения\n",
    "str2"
   ]
  },
  {
   "cell_type": "code",
   "execution_count": 46,
   "id": "b677d921",
   "metadata": {
    "ExecuteTime": {
     "end_time": "2022-10-13T14:21:34.535801Z",
     "start_time": "2022-10-13T14:21:34.532657Z"
    }
   },
   "outputs": [
    {
     "data": {
      "text/plain": [
       "16"
      ]
     },
     "execution_count": 46,
     "metadata": {},
     "output_type": "execute_result"
    }
   ],
   "source": [
    "pattern, data = \"TGTG\", \"CGAACTTTAAAATCTGTGTGGCT\"\n",
    "type(pattern), data \n",
    "index = data.find(pattern)\n",
    "index = data.find(pattern, index + 1)\n",
    "index"
   ]
  },
  {
   "cell_type": "raw",
   "id": "d9654938",
   "metadata": {},
   "source": [
    "#pattern, data = map(str, input().split())\n",
    "#second_index = data.find(pattern, data.find(pattern) + 1)\n",
    "#print(second_index)"
   ]
  }
 ],
 "metadata": {
  "celltoolbar": "Отсутствует",
  "kernelspec": {
   "display_name": "Python 3 (ipykernel)",
   "language": "python",
   "name": "python3"
  },
  "language_info": {
   "codemirror_mode": {
    "name": "ipython",
    "version": 3
   },
   "file_extension": ".py",
   "mimetype": "text/x-python",
   "name": "python",
   "nbconvert_exporter": "python",
   "pygments_lexer": "ipython3",
   "version": "3.9.12"
  }
 },
 "nbformat": 4,
 "nbformat_minor": 5
}
