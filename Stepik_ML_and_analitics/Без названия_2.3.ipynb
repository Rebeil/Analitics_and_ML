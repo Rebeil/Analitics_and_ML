{
 "cells": [
  {
   "cell_type": "code",
   "execution_count": 5,
   "id": "68a923ed",
   "metadata": {
    "ExecuteTime": {
     "end_time": "2022-10-15T04:30:46.915254Z",
     "start_time": "2022-10-15T04:30:46.910809Z"
    }
   },
   "outputs": [
    {
     "name": "stdout",
     "output_type": "stream",
     "text": [
      "[0, 1, 10, 3, 4, 7, 6, 5, 8, 9, 2]\n"
     ]
    },
    {
     "data": {
      "text/plain": [
       "[0, 1, 2, 3, 4, 5, 6, 7, 8, 9, 10]"
      ]
     },
     "execution_count": 5,
     "metadata": {},
     "output_type": "execute_result"
    }
   ],
   "source": [
    "arr = [0,1,10,3,4,7,6,5,8,9,2]\n",
    "print(arr)\n",
    "arr.sort()\n",
    "arr"
   ]
  },
  {
   "cell_type": "code",
   "execution_count": 3,
   "id": "43cc271f",
   "metadata": {
    "ExecuteTime": {
     "end_time": "2022-10-13T17:17:31.888841Z",
     "start_time": "2022-10-13T17:17:31.881148Z"
    }
   },
   "outputs": [
    {
     "data": {
      "text/plain": [
       "2.75"
      ]
     },
     "execution_count": 3,
     "metadata": {},
     "output_type": "execute_result"
    }
   ],
   "source": [
    "len(arr)*0.25"
   ]
  },
  {
   "cell_type": "raw",
   "id": "b3157ba0",
   "metadata": {},
   "source": [
    "Q1 = элемент на (N+1) * 1 / 4 позиции.\n",
    "\n",
    "Q3 = элемент на (N+1) * 3 / 4 позиции.\n",
    "\n",
    "IQR = Q3 - Q1"
   ]
  },
  {
   "cell_type": "code",
   "execution_count": 7,
   "id": "07ed3853",
   "metadata": {
    "ExecuteTime": {
     "end_time": "2022-10-15T04:39:45.920452Z",
     "start_time": "2022-10-15T04:39:45.917890Z"
    }
   },
   "outputs": [],
   "source": [
    "def get_median(arr, lenght):\n",
    "    return arr[lenght//2] if lenght%2!=0 else (arr[lenght//2]+arr[lenght//2-1])/2"
   ]
  },
  {
   "cell_type": "code",
   "execution_count": 10,
   "id": "ec7d3c11",
   "metadata": {
    "ExecuteTime": {
     "end_time": "2022-10-15T04:40:09.595383Z",
     "start_time": "2022-10-15T04:40:09.592427Z"
    }
   },
   "outputs": [
    {
     "data": {
      "text/plain": [
       "5"
      ]
     },
     "execution_count": 10,
     "metadata": {},
     "output_type": "execute_result"
    }
   ],
   "source": [
    "get_median(arr, len(arr))"
   ]
  }
 ],
 "metadata": {
  "kernelspec": {
   "display_name": "Python 3 (ipykernel)",
   "language": "python",
   "name": "python3"
  },
  "language_info": {
   "codemirror_mode": {
    "name": "ipython",
    "version": 3
   },
   "file_extension": ".py",
   "mimetype": "text/x-python",
   "name": "python",
   "nbconvert_exporter": "python",
   "pygments_lexer": "ipython3",
   "version": "3.9.12"
  }
 },
 "nbformat": 4,
 "nbformat_minor": 5
}
