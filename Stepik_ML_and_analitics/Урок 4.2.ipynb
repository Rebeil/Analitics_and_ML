{
 "cells": [
  {
   "cell_type": "markdown",
   "metadata": {
    "id": "vf9tIzcHImIE"
   },
   "source": [
    "# Объектно-ориентированное программирование (ООП)\n",
    "\n",
    "ООП - парадигма программирования, основанная на концепциях объектов и классов.\n",
    "\n",
    "*   Класс — тип, описывающий устройство объектов. \n",
    "*   Объект — экземпляр класса. Класс - основа, на которой определяются объекты.\n",
    "\n",
    "В python всё является объектами (строки, списки, ...)\n",
    "\n",
    "Но возможности ООП в python этим не ограничены. Мы можем написать свой тип данных (класс), определить в нём свои методы.\n",
    "\n",
    "Это не является обязательным - мы можем пользоваться только встроенными объектами. Однако ООП полезно при долгосрочной разработке программы несколькими людьми, оно сильно упрощает понимание кода.\n",
    "\n",
    "\n",
    "Стандартная конструкция \n",
    "\n",
    "\n",
    "```\n",
    "class [название класса]() \n",
    "```\n",
    "\n",
    "\n",
    "---\n",
    "\n",
    "Зачем нам self?\n",
    "Классам нужен способ, что ссылаться на самих себя т.е. способ сообщения между экземплярами. Слово self это способ описания любого объекта."
   ]
  },
  {
   "cell_type": "code",
   "execution_count": null,
   "metadata": {
    "id": "h4SoKBxXA7uP"
   },
   "outputs": [],
   "source": [
    "class test():\n",
    "    # инициализация свойства классов\n",
    "    some_attr = 'Привет'\n",
    "    # инициализация методов классов\n",
    "    def display_data(self, data):\n",
    "        print(data)\n",
    "\n",
    "# создание объекта класса\n",
    "class_obj = test()"
   ]
  },
  {
   "cell_type": "code",
   "execution_count": null,
   "metadata": {
    "colab": {
     "base_uri": "https://localhost:8080/",
     "height": 35
    },
    "executionInfo": {
     "elapsed": 421,
     "status": "ok",
     "timestamp": 1646385395630,
     "user": {
      "displayName": "Илья Витальевич Тихонов",
      "photoUrl": "https://lh3.googleusercontent.com/a/default-user=s64",
      "userId": "10513119548773881016"
     },
     "user_tz": -180
    },
    "id": "CO1vqALVBHi7",
    "outputId": "b810d48d-0576-4db5-83ba-e4e5c59626cb"
   },
   "outputs": [
    {
     "data": {
      "application/vnd.google.colaboratory.intrinsic+json": {
       "type": "string"
      },
      "text/plain": [
       "'Привет'"
      ]
     },
     "execution_count": 3,
     "metadata": {},
     "output_type": "execute_result"
    }
   ],
   "source": [
    "# отображение атрибута класса\n",
    "class_obj.some_attr"
   ]
  },
  {
   "cell_type": "code",
   "execution_count": null,
   "metadata": {
    "colab": {
     "base_uri": "https://localhost:8080/"
    },
    "executionInfo": {
     "elapsed": 377,
     "status": "ok",
     "timestamp": 1646385421289,
     "user": {
      "displayName": "Илья Витальевич Тихонов",
      "photoUrl": "https://lh3.googleusercontent.com/a/default-user=s64",
      "userId": "10513119548773881016"
     },
     "user_tz": -180
    },
    "id": "vNlo1p9NBIHi",
    "outputId": "ba06bd4e-5eaf-41e2-9aa5-4c658f6cac32"
   },
   "outputs": [
    {
     "name": "stdout",
     "output_type": "stream",
     "text": [
      "мир\n"
     ]
    }
   ],
   "source": [
    "# вызов встроенного метода\n",
    "class_obj.display_data('мир')"
   ]
  },
  {
   "cell_type": "code",
   "execution_count": null,
   "metadata": {
    "colab": {
     "base_uri": "https://localhost:8080/"
    },
    "executionInfo": {
     "elapsed": 406,
     "status": "ok",
     "timestamp": 1646385481681,
     "user": {
      "displayName": "Илья Витальевич Тихонов",
      "photoUrl": "https://lh3.googleusercontent.com/a/default-user=s64",
      "userId": "10513119548773881016"
     },
     "user_tz": -180
    },
    "id": "pTFAaJufAyWT",
    "outputId": "83bbb359-975a-4097-9193-46bdbe3aefab"
   },
   "outputs": [
    {
     "name": "stdout",
     "output_type": "stream",
     "text": [
      "привет\n"
     ]
    }
   ],
   "source": [
    "class test():\n",
    "    # конструктор класса\n",
    "    # после того, как класс инициализирован - в него можно принимать агрументы\n",
    "    # конструкция __init__ автоматически запустится, в hello запишется 'привет'\n",
    "    def __init__(self, hey):\n",
    "        self.hello = hey\n",
    "\n",
    "    # определим функцию класса - распечатаем внутренний параметр hello\n",
    "    def print_hello(self):\n",
    "        print(self.hello) \n",
    "\n",
    "# Определим объект класса и передадим в него аргументы\n",
    "class_obj = test('привет')\n",
    "# вызовем функцию класса\n",
    "class_obj.print_hello()"
   ]
  },
  {
   "cell_type": "code",
   "execution_count": null,
   "metadata": {
    "colab": {
     "base_uri": "https://localhost:8080/"
    },
    "executionInfo": {
     "elapsed": 359,
     "status": "ok",
     "timestamp": 1646385524429,
     "user": {
      "displayName": "Илья Витальевич Тихонов",
      "photoUrl": "https://lh3.googleusercontent.com/a/default-user=s64",
      "userId": "10513119548773881016"
     },
     "user_tz": -180
    },
    "id": "WfjPWevLCFdY",
    "outputId": "e614202f-e559-440d-c599-abfd1b58f503"
   },
   "outputs": [
    {
     "data": {
      "text/plain": [
       "7"
      ]
     },
     "execution_count": 8,
     "metadata": {},
     "output_type": "execute_result"
    }
   ],
   "source": [
    "# класс объекта\n",
    "class coord():\n",
    "    # инициализируем в нем двумерную координату\n",
    "    def __init__(self, x, y):\n",
    "        self.coord = (x, y)\n",
    "    # находим скалярное произведение между двумя точками\n",
    "    # передаем в функцию объект этого же класса, берем из него координату\n",
    "    def dot_product(self, coord_object):\n",
    "        return sum([a*b for a, b in zip(coord_object.coord, self.coord)])\n",
    "        \n",
    "# инициалзируем (два объекта класса) две точки в двумерном пространстве\n",
    "a = coord(1,2)\n",
    "b = coord(3,2)\n",
    "# находим скалярное произведение\n",
    "a.dot_product(b)"
   ]
  },
  {
   "cell_type": "markdown",
   "metadata": {
    "id": "cXcODHbWMHXM"
   },
   "source": [
    "### Постулаты ООП"
   ]
  },
  {
   "cell_type": "markdown",
   "metadata": {
    "id": "VxZpUreDMIli"
   },
   "source": [
    "#### Инкапсуляция\n",
    "\n",
    "Инкапсуляция – скрытие реализации каких либо частей модуля или объекта от внешнего мира (от клиента). Это означает, что манипулируя модификаторами доступа, можно скрыть или открыть только определенные свойства, методы или классы для того, чтобы ненужные для класса-клиента данные не были доступны.\n",
    "\n",
    "Инкапсуляция в Python работает лишь на уровне соглашения между программистами о том, какие атрибуты являются общедоступными, а какие — внутренними.\n",
    "\n",
    "Одиночное подчеркивание в начале имени атрибута говорит о том, что переменная или метод не предназначен для использования вне методов класса, однако атрибут доступен по этому имени."
   ]
  },
  {
   "cell_type": "code",
   "execution_count": null,
   "metadata": {
    "colab": {
     "base_uri": "https://localhost:8080/"
    },
    "executionInfo": {
     "elapsed": 371,
     "status": "ok",
     "timestamp": 1646385700303,
     "user": {
      "displayName": "Илья Витальевич Тихонов",
      "photoUrl": "https://lh3.googleusercontent.com/a/default-user=s64",
      "userId": "10513119548773881016"
     },
     "user_tz": -180
    },
    "id": "Xp4KHYtt4Kjn",
    "outputId": "b6756a17-f3d2-4c95-e40c-660af9d32174"
   },
   "outputs": [
    {
     "name": "stdout",
     "output_type": "stream",
     "text": [
      "yeah\n"
     ]
    }
   ],
   "source": [
    "class Test:\n",
    "    def _secret(self):\n",
    "        print('yeah')\n",
    "\n",
    "obj = Test()\n",
    "obj._secret()"
   ]
  },
  {
   "cell_type": "markdown",
   "metadata": {
    "id": "76jhyi3QMMFM"
   },
   "source": [
    "Двойное подчеркивание в начале имени атрибута даёт большую защиту: атрибут становится недоступным по этому имени."
   ]
  },
  {
   "cell_type": "code",
   "execution_count": null,
   "metadata": {
    "colab": {
     "base_uri": "https://localhost:8080/",
     "height": 201
    },
    "executionInfo": {
     "elapsed": 359,
     "status": "error",
     "timestamp": 1646385732488,
     "user": {
      "displayName": "Илья Витальевич Тихонов",
      "photoUrl": "https://lh3.googleusercontent.com/a/default-user=s64",
      "userId": "10513119548773881016"
     },
     "user_tz": -180
    },
    "id": "qZvw_GIZMNAw",
    "outputId": "9c8bfe9f-813f-40f0-8e84-6c7f4a87aec7"
   },
   "outputs": [
    {
     "ename": "AttributeError",
     "evalue": "ignored",
     "output_type": "error",
     "traceback": [
      "\u001b[0;31m---------------------------------------------------------------------------\u001b[0m",
      "\u001b[0;31mAttributeError\u001b[0m                            Traceback (most recent call last)",
      "\u001b[0;32m<ipython-input-14-1294488e2eb0>\u001b[0m in \u001b[0;36m<module>\u001b[0;34m()\u001b[0m\n\u001b[1;32m      4\u001b[0m \u001b[0;34m\u001b[0m\u001b[0m\n\u001b[1;32m      5\u001b[0m \u001b[0mobj\u001b[0m \u001b[0;34m=\u001b[0m \u001b[0mTest\u001b[0m\u001b[0;34m(\u001b[0m\u001b[0;34m)\u001b[0m\u001b[0;34m\u001b[0m\u001b[0;34m\u001b[0m\u001b[0m\n\u001b[0;32m----> 6\u001b[0;31m \u001b[0mobj\u001b[0m\u001b[0;34m.\u001b[0m\u001b[0m__secret\u001b[0m\u001b[0;34m(\u001b[0m\u001b[0;34m)\u001b[0m\u001b[0;34m\u001b[0m\u001b[0;34m\u001b[0m\u001b[0m\n\u001b[0m",
      "\u001b[0;31mAttributeError\u001b[0m: 'Test' object has no attribute '__secret'"
     ]
    }
   ],
   "source": [
    "class Test:\n",
    "    def __secret(self):\n",
    "        print('top secret')\n",
    "\n",
    "obj = Test()\n",
    "obj.__secret()"
   ]
  },
  {
   "cell_type": "code",
   "execution_count": null,
   "metadata": {
    "colab": {
     "base_uri": "https://localhost:8080/"
    },
    "executionInfo": {
     "elapsed": 1,
     "status": "ok",
     "timestamp": 1646385733641,
     "user": {
      "displayName": "Илья Витальевич Тихонов",
      "photoUrl": "https://lh3.googleusercontent.com/a/default-user=s64",
      "userId": "10513119548773881016"
     },
     "user_tz": -180
    },
    "id": "iagr3_msMN_3",
    "outputId": "c0a0cf57-d51a-418d-86fd-cf66242b236f"
   },
   "outputs": [
    {
     "name": "stdout",
     "output_type": "stream",
     "text": [
      "top secret\n"
     ]
    }
   ],
   "source": [
    "obj._Test__secret()"
   ]
  },
  {
   "cell_type": "markdown",
   "metadata": {
    "id": "7Vxl8j-EMPPC"
   },
   "source": [
    "#### Наследование\n",
    "\n",
    "Наследование подразумевает то, что дочерний класс содержит все атрибуты родительского класса, при этом некоторые из них могут быть переопределены или добавлены в дочернем."
   ]
  },
  {
   "cell_type": "code",
   "execution_count": null,
   "metadata": {
    "id": "snCKoYRAMQD5"
   },
   "outputs": [],
   "source": [
    "class Human():  \n",
    "    # Конструктор\n",
    "    def __init__(self, name, age, sex):\n",
    "        self.name = name \n",
    "        self.age = age \n",
    "        self.sex = sex \n",
    "        \n",
    "    # Метод (method):\n",
    "    def showInfo(self):\n",
    "        print(f'Человек: {self.name}, возраст {self.age}, пол {self.sex}')\n",
    "\n",
    "class SuperMan(Human):\n",
    "    def __init__(self, name, age, sex, height, weight):\n",
    "        # Вызывается конструктор родительского класса (Human)\n",
    "        # чтобы прикрепить значение к атрибутам 'name', 'age', 'sex' родительского класса\n",
    "        super().__init__(name, age, sex)\n",
    "\n",
    "        # Доопределяем передаваемые в конструктор SuperMan переменные\n",
    "        self.height = height\n",
    "        self.weight = weight\n",
    "\n",
    "    # def showInfo(self):\n",
    "    #     print(f'Cупермен| имя: {self.name}, возраст {self.age}, пол {self.sex}, вес {self.weight}, рост {self.height}')"
   ]
  },
  {
   "cell_type": "code",
   "execution_count": null,
   "metadata": {
    "colab": {
     "base_uri": "https://localhost:8080/"
    },
    "executionInfo": {
     "elapsed": 4,
     "status": "ok",
     "timestamp": 1646385824234,
     "user": {
      "displayName": "Илья Витальевич Тихонов",
      "photoUrl": "https://lh3.googleusercontent.com/a/default-user=s64",
      "userId": "10513119548773881016"
     },
     "user_tz": -180
    },
    "id": "o5e1Qf-OMRME",
    "outputId": "2988c8a0-4653-4ef3-d328-769726187c0c"
   },
   "outputs": [
    {
     "name": "stdout",
     "output_type": "stream",
     "text": [
      "Человек: Петя, возраст 25, пол муж.\n"
     ]
    }
   ],
   "source": [
    "human_obj = Human('Петя', 25, 'муж.')\n",
    "human_obj.showInfo()"
   ]
  },
  {
   "cell_type": "code",
   "execution_count": null,
   "metadata": {
    "colab": {
     "base_uri": "https://localhost:8080/"
    },
    "executionInfo": {
     "elapsed": 2,
     "status": "ok",
     "timestamp": 1646385872408,
     "user": {
      "displayName": "Илья Витальевич Тихонов",
      "photoUrl": "https://lh3.googleusercontent.com/a/default-user=s64",
      "userId": "10513119548773881016"
     },
     "user_tz": -180
    },
    "id": "FozNHANbMUEH",
    "outputId": "be340383-d472-4043-b5e3-9f939436c36c"
   },
   "outputs": [
    {
     "name": "stdout",
     "output_type": "stream",
     "text": [
      "Человек: Кларк , возраст 34, пол муж.\n"
     ]
    }
   ],
   "source": [
    "superman_obj = SuperMan('Кларк ', 34, 'муж.', 191, 107)\n",
    "superman_obj.showInfo()"
   ]
  },
  {
   "cell_type": "markdown",
   "metadata": {
    "id": "zg8OSxg8K4PW"
   },
   "source": [
    "[Практический пример](https://pytorch.org/tutorials/beginner/data_loading_tutorial.html)"
   ]
  },
  {
   "cell_type": "markdown",
   "metadata": {
    "id": "fB4mKUSNMh59"
   },
   "source": [
    "#### Полиморфизм\n",
    "\n",
    "Полиморфизм – это возможность обработки разных типов данных, т.е. принадлежащих к разным классам, с помощью \"одно и той же\" функции, или метода. На самом деле одинаковым является только имя метода, его исходный код зависит от класса. Кроме того, результаты работы одноименных методов могут существенно различаться. Поэтому в данном контексте под полиморфизмом понимается множество форм одного и того же слова – имени метода."
   ]
  },
  {
   "cell_type": "code",
   "execution_count": null,
   "metadata": {
    "colab": {
     "base_uri": "https://localhost:8080/"
    },
    "executionInfo": {
     "elapsed": 430,
     "status": "ok",
     "timestamp": 1646385969706,
     "user": {
      "displayName": "Илья Витальевич Тихонов",
      "photoUrl": "https://lh3.googleusercontent.com/a/default-user=s64",
      "userId": "10513119548773881016"
     },
     "user_tz": -180
    },
    "id": "A-XuX3NqMVAz",
    "outputId": "7eaa1662-244e-4a46-e42a-d25be78abfe5"
   },
   "outputs": [
    {
     "name": "stdout",
     "output_type": "stream",
     "text": [
      "Человек: Кларк , возраст 34, пол муж.\n",
      "Человек: Петя, возраст 25, пол муж.\n"
     ]
    }
   ],
   "source": [
    "superman_obj.showInfo()\n",
    "human_obj.showInfo()"
   ]
  },
  {
   "cell_type": "markdown",
   "metadata": {
    "id": "muh5dniIJKU3"
   },
   "source": [
    "## `__call__`"
   ]
  },
  {
   "cell_type": "markdown",
   "metadata": {
    "id": "I-Jh4C3kJuoi"
   },
   "source": [
    "При желании объект класса можно вызвать как обычную функцию с помощью встроенного метода call:"
   ]
  },
  {
   "cell_type": "code",
   "execution_count": null,
   "metadata": {
    "colab": {
     "base_uri": "https://localhost:8080/"
    },
    "executionInfo": {
     "elapsed": 575,
     "status": "ok",
     "timestamp": 1646386054462,
     "user": {
      "displayName": "Илья Витальевич Тихонов",
      "photoUrl": "https://lh3.googleusercontent.com/a/default-user=s64",
      "userId": "10513119548773881016"
     },
     "user_tz": -180
    },
    "id": "-ohAkfkNMkoT",
    "outputId": "dc020568-f893-43f2-fc18-17a700da29ca"
   },
   "outputs": [
    {
     "data": {
      "text/plain": [
       "6"
      ]
     },
     "execution_count": 21,
     "metadata": {},
     "output_type": "execute_result"
    }
   ],
   "source": [
    "class a_na_b():\n",
    "    # переопределяем вызов, т.е. ()\n",
    "    # кроме этого класс можно снабдить полезными атрибутами\n",
    "    def __call__(self, a, b):\n",
    "        return a*b\n",
    "\n",
    "mult = a_na_b()\n",
    "mult(2, 3)"
   ]
  },
  {
   "cell_type": "markdown",
   "metadata": {
    "id": "7JQhB6oXJ7iH"
   },
   "source": [
    "## `__len__`\n",
    "\n",
    "Различные методы, доступные разным типам данных пройденным ранее можно переопределять для класса:"
   ]
  },
  {
   "cell_type": "code",
   "execution_count": null,
   "metadata": {
    "colab": {
     "base_uri": "https://localhost:8080/"
    },
    "executionInfo": {
     "elapsed": 375,
     "status": "ok",
     "timestamp": 1646386114030,
     "user": {
      "displayName": "Илья Витальевич Тихонов",
      "photoUrl": "https://lh3.googleusercontent.com/a/default-user=s64",
      "userId": "10513119548773881016"
     },
     "user_tz": -180
    },
    "id": "KgvLPy4NJsHr",
    "outputId": "fd9b4960-d0e5-478e-95f5-1a061535f9dc"
   },
   "outputs": [
    {
     "data": {
      "text/plain": [
       "3"
      ]
     },
     "execution_count": 22,
     "metadata": {},
     "output_type": "execute_result"
    }
   ],
   "source": [
    "class len_test:\n",
    "    # конструктктор класса\n",
    "    def __init__(self, some_iterable):\n",
    "        # некоторая переменная\n",
    "        self.some_iterable = some_iterable\n",
    "\n",
    "    # переопределенная функция, возвращающая размер объекта класса\n",
    "    def __len__(self):    \n",
    "        return len(self.some_iterable)\n",
    "\n",
    "collection = len_test([1, 2, 3])\n",
    "len(collection)"
   ]
  },
  {
   "cell_type": "markdown",
   "metadata": {
    "id": "9iX5j6q5nDMi"
   },
   "source": [
    "## `__getitem__`"
   ]
  },
  {
   "cell_type": "code",
   "execution_count": null,
   "metadata": {
    "colab": {
     "base_uri": "https://localhost:8080/"
    },
    "executionInfo": {
     "elapsed": 378,
     "status": "ok",
     "timestamp": 1646386134444,
     "user": {
      "displayName": "Илья Витальевич Тихонов",
      "photoUrl": "https://lh3.googleusercontent.com/a/default-user=s64",
      "userId": "10513119548773881016"
     },
     "user_tz": -180
    },
    "id": "5hXnW5IgMyua",
    "outputId": "495dee54-586e-47f1-e77f-4fb933d55134"
   },
   "outputs": [
    {
     "data": {
      "text/plain": [
       "1"
      ]
     },
     "execution_count": 23,
     "metadata": {},
     "output_type": "execute_result"
    }
   ],
   "source": [
    "class len_test:\n",
    "    # конструктктор класса\n",
    "    def __init__(self, some_iterable):\n",
    "        # некоторая переменная\n",
    "        self.some_iterable = some_iterable\n",
    "\n",
    "    # переопределенная функция, возвращающая размер объекта класса\n",
    "    def __getitem__(self, i):    \n",
    "        return self.some_iterable[i]\n",
    "\n",
    "collection = len_test([1, 2, 3])\n",
    "collection[0]"
   ]
  },
  {
   "cell_type": "markdown",
   "metadata": {
    "id": "yKyNj9aKnTVj"
   },
   "source": [
    "## `__setitem__`"
   ]
  },
  {
   "cell_type": "code",
   "execution_count": null,
   "metadata": {
    "colab": {
     "base_uri": "https://localhost:8080/"
    },
    "executionInfo": {
     "elapsed": 359,
     "status": "ok",
     "timestamp": 1646386149633,
     "user": {
      "displayName": "Илья Витальевич Тихонов",
      "photoUrl": "https://lh3.googleusercontent.com/a/default-user=s64",
      "userId": "10513119548773881016"
     },
     "user_tz": -180
    },
    "id": "TF6FCtQnNH8a",
    "outputId": "9f6ee3a0-3a04-4af2-c5ab-ce560a361d0c"
   },
   "outputs": [
    {
     "data": {
      "text/plain": [
       "[123, 2, 3]"
      ]
     },
     "execution_count": 24,
     "metadata": {},
     "output_type": "execute_result"
    }
   ],
   "source": [
    "class len_test:\n",
    "    # конструктктор класса\n",
    "    def __init__(self, some_iterable):\n",
    "        # некоторая переменная\n",
    "        self.some_iterable = some_iterable\n",
    "\n",
    "    # переопределенная функция, возвращающая размер объекта класса\n",
    "    def __setitem__(self, key, value):    \n",
    "        self.some_iterable[key] = value\n",
    "\n",
    "collection = len_test([1, 2, 3])\n",
    "collection[0] = 123\n",
    "collection.some_iterable"
   ]
  },
  {
   "cell_type": "markdown",
   "metadata": {
    "id": "18A9daQcnuKo"
   },
   "source": [
    "## `__delitem__`"
   ]
  },
  {
   "cell_type": "code",
   "execution_count": null,
   "metadata": {
    "colab": {
     "base_uri": "https://localhost:8080/"
    },
    "executionInfo": {
     "elapsed": 357,
     "status": "ok",
     "timestamp": 1646386163974,
     "user": {
      "displayName": "Илья Витальевич Тихонов",
      "photoUrl": "https://lh3.googleusercontent.com/a/default-user=s64",
      "userId": "10513119548773881016"
     },
     "user_tz": -180
    },
    "id": "krbJX8ncOA0L",
    "outputId": "0d01f935-bb54-4c6a-b8bc-6c5eda87a722"
   },
   "outputs": [
    {
     "data": {
      "text/plain": [
       "{'two': 2}"
      ]
     },
     "execution_count": 25,
     "metadata": {},
     "output_type": "execute_result"
    }
   ],
   "source": [
    "class del_test():\n",
    "    def __init__(self):\n",
    "        self.some_iterable = {'one': 1, 'two': 2}\n",
    "\n",
    "    def __delitem__(self, key):\n",
    "        del self.some_iterable[key]\n",
    "\n",
    "\n",
    "container = del_test()\n",
    "\n",
    "container.some_iterable\n",
    "del container['one']\n",
    "container.some_iterable"
   ]
  },
  {
   "cell_type": "markdown",
   "metadata": {
    "id": "AF9PzrhPnz1T"
   },
   "source": [
    "## `__contains__`"
   ]
  },
  {
   "cell_type": "code",
   "execution_count": null,
   "metadata": {
    "colab": {
     "base_uri": "https://localhost:8080/"
    },
    "executionInfo": {
     "elapsed": 386,
     "status": "ok",
     "timestamp": 1646386176522,
     "user": {
      "displayName": "Илья Витальевич Тихонов",
      "photoUrl": "https://lh3.googleusercontent.com/a/default-user=s64",
      "userId": "10513119548773881016"
     },
     "user_tz": -180
    },
    "id": "kDf4KO44OVuX",
    "outputId": "a1151e07-df59-4933-ca57-b3e228658f4e"
   },
   "outputs": [
    {
     "name": "stdout",
     "output_type": "stream",
     "text": [
      "True\n",
      "True\n",
      "False\n"
     ]
    }
   ],
   "source": [
    "class SomeClass:\n",
    "    def __init__(self):\n",
    "        self.some_iterable = [1, 2]\n",
    "\n",
    "    def __contains__(self, item):\n",
    "        return item in self.some_iterable\n",
    "\n",
    "\n",
    "my_container = SomeClass()\n",
    "\n",
    "print(1 in my_container)\n",
    "print(2 in my_container)\n",
    "print(3 in my_container)"
   ]
  },
  {
   "cell_type": "markdown",
   "metadata": {
    "id": "QlItsVGon68D"
   },
   "source": [
    "## `__mul__`"
   ]
  },
  {
   "cell_type": "code",
   "execution_count": null,
   "metadata": {
    "colab": {
     "base_uri": "https://localhost:8080/"
    },
    "executionInfo": {
     "elapsed": 512,
     "status": "ok",
     "timestamp": 1646386184001,
     "user": {
      "displayName": "Илья Витальевич Тихонов",
      "photoUrl": "https://lh3.googleusercontent.com/a/default-user=s64",
      "userId": "10513119548773881016"
     },
     "user_tz": -180
    },
    "id": "olV-e1feMtO_",
    "outputId": "e32dbb68-e8d0-457c-85e2-89a1a7de705c"
   },
   "outputs": [
    {
     "name": "stdout",
     "output_type": "stream",
     "text": [
      "4200\n"
     ]
    }
   ],
   "source": [
    "class SomeClass:\n",
    "    def __init__(self, value):\n",
    "        self.value = value\n",
    "\n",
    "    def __mul__(self, number):\n",
    "        return self.value*number\n",
    "\n",
    "obj = SomeClass(42)\n",
    "print(obj * 100) # 4200"
   ]
  },
  {
   "cell_type": "markdown",
   "metadata": {
    "id": "cHS_TTqZn-Ho"
   },
   "source": [
    "# Сравнения и математические операции"
   ]
  },
  {
   "cell_type": "markdown",
   "metadata": {
    "id": "HJdlwRUPRP5K"
   },
   "source": [
    "По аналогии с `__mul__` и операцией умножения:\n",
    "\n",
    "`__add__`(self, other)\n",
    "Сложение.\n",
    "\n",
    "`__sub__`(self, other)\n",
    "Вычитание.\n",
    "\n",
    "`__mul__`(self, other)\n",
    "Умножение.\n",
    "\n",
    "`__floordiv__`(self, other)\n",
    "Целочисленное деление, оператор //.\n",
    "\n",
    "`__div__`(self, other)\n",
    "Деление, оператор /.\n",
    "\n",
    "`__truediv__`(self, other)\n",
    "Правильное деление. Заметьте, что это работает только когда используется from `__future__` import division.\n",
    "\n",
    "`__mod__`(self, other)\n",
    "Остаток от деления, оператор %.\n",
    "\n",
    "`__divmod__`(self, other)\n",
    "Определяет поведение для встроенной функции divmod().\n",
    "\n",
    "`__pow__`\n",
    "Возведение в степень, оператор **.\n",
    "\n",
    "`__lshift__`(self, other)\n",
    "Двоичный сдвиг влево, оператор <<.\n",
    "\n",
    "`__rshift__`(self, other)\n",
    "Двоичный сдвиг вправо, оператор >>.\n",
    "\n",
    "`__and__`(self, other)\n",
    "Двоичное И, оператор &.\n",
    "\n",
    "`__or__`(self, other)\n",
    "Двоичное ИЛИ, оператор |.\n",
    "\n",
    "`__xor__`(self, other)\n",
    "Двоичный xor, оператор ^.\n",
    "\n",
    "`__eq__`(self, other)\n",
    "Определяет поведение оператора равенства, ==.\n",
    "\n",
    "`__ne__`(self, other)\n",
    "Определяет поведение оператора неравенства, !=.\n",
    "\n",
    "`__lt__`(self, other)\n",
    "Определяет поведение оператора меньше, <.\n",
    "\n",
    "`__gt__`(self, other)\n",
    "Определяет поведение оператора больше, >.\n",
    "\n",
    "`__le__`(self, other)\n",
    "Определяет поведение оператора меньше или равно, <=.\n",
    "\n",
    "`__ge__`(self, other)\n",
    "Определяет поведение оператора больше или равно, >=.\n"
   ]
  },
  {
   "cell_type": "markdown",
   "metadata": {
    "id": "gJTPlQN_odEY"
   },
   "source": [
    "### Составные операции"
   ]
  },
  {
   "cell_type": "markdown",
   "metadata": {
    "id": "ukN8goozogyY"
   },
   "source": [
    "`__iadd__`(self, other)\n",
    "Сложение с присваиванием.\n",
    "\n",
    "`__isub__`(self, other)\n",
    "Вычитание с присваиванием.\n",
    "\n",
    "`__imul__`(self, other)\n",
    "Умножение с присваиванием.\n",
    "\n",
    "`__ifloordiv__`(self, other)\n",
    "Целочисленное деление с присваиванием, оператор //=.\n",
    "\n",
    "`__idiv__`(self, other)\n",
    "Деление с присваиванием, оператор /=.\n",
    "\n",
    "`__itruediv__`(self, other)\n",
    "Правильное деление с присваиванием. Заметьте, что работает только если используется from `__future__` import division.\n",
    "\n",
    "`__imod_`(self, other)\n",
    "Остаток от деления с присваиванием, оператор %=.\n",
    "\n",
    "`__ipow__`\n",
    "Возведение в степерь с присваиванием, оператор **=.\n",
    "\n",
    "`__ilshift__`(self, other)\n",
    "Двоичный сдвиг влево с присваиванием, оператор <<=.\n",
    "\n",
    "`__irshift__`(self, other)\n",
    "Двоичный сдвиг вправо с присваиванием, оператор >>=.\n",
    "\n",
    "`__iand__`(self, other)\n",
    "Двоичное И с присваиванием, оператор &=.\n",
    "\n",
    "`__ior__`(self, other)\n",
    "Двоичное ИЛИ с присваиванием, оператор |=.\n",
    "\n",
    "`__ixor__`(self, other)\n",
    "Двоичный xor с присваиванием, оператор ^=."
   ]
  },
  {
   "cell_type": "markdown",
   "metadata": {
    "id": "3L6EzT-lm8h5"
   },
   "source": [
    "### Преобразование типов"
   ]
  },
  {
   "cell_type": "markdown",
   "metadata": {
    "id": "nITLXFPuo7AZ"
   },
   "source": [
    "`__int__`(self)\n",
    "Преобразование типа в int.\n",
    "\n",
    "`__long__`(self)\n",
    "Преобразование типа в long.\n",
    "\n",
    "`__float__`(self)\n",
    "Преобразование типа в float.\n",
    "\n",
    "`__complex__`(self)\n",
    "Преобразование типа в комплексное число.\n",
    "\n",
    "`__oct__`(self)\n",
    "Преобразование типа в восьмеричное число.\n",
    "\n",
    "`__hex__`(self)\n",
    "Преобразование типа в шестнадцатиричное число.\n",
    "\n",
    "`__index__`(self)\n",
    "Преобразование типа к int, когда объект используется в срезах (выражения вида [start:stop:step]). Если вы определяете свой числовый тип, который может использоваться как индекс списка, вы должны определить `__index__`.\n",
    "\n",
    "`__trunc__`(self)\n",
    "Вызывается при math.trunc(self). Должен вернуть своё значение, обрезанное до целочисленного типа (обычно long).\n",
    "\n",
    "`__coerce__`(self, other)\n",
    "Метод для реализации арифметики с операндами разных типов. `__coerce__` должен вернуть None если преобразование типов невозможно. Если преобразование возможно, он должен вернуть пару (кортеж из 2-х элементов) из self и other, преобразованные к одному типу.\n"
   ]
  },
  {
   "cell_type": "code",
   "execution_count": null,
   "metadata": {
    "id": "elbZb_U4RIDk"
   },
   "outputs": [],
   "source": []
  }
 ],
 "metadata": {
  "colab": {
   "authorship_tag": "ABX9TyOsL7KxmD8IHYUDzBwgyqaJ",
   "collapsed_sections": [],
   "name": "Урок 4.2.ipynb",
   "provenance": [],
   "toc_visible": true
  },
  "kernelspec": {
   "display_name": "Python 3 (ipykernel)",
   "language": "python",
   "name": "python3"
  },
  "language_info": {
   "codemirror_mode": {
    "name": "ipython",
    "version": 3
   },
   "file_extension": ".py",
   "mimetype": "text/x-python",
   "name": "python",
   "nbconvert_exporter": "python",
   "pygments_lexer": "ipython3",
   "version": "3.9.12"
  }
 },
 "nbformat": 4,
 "nbformat_minor": 1
}
