{
 "cells": [
  {
   "cell_type": "code",
   "execution_count": 1,
   "id": "fcdb53d9",
   "metadata": {
    "ExecuteTime": {
     "end_time": "2022-10-26T12:08:09.828704Z",
     "start_time": "2022-10-26T12:08:09.820507Z"
    }
   },
   "outputs": [],
   "source": [
    "d = {\n",
    "    'зарплаты':{\n",
    "        'Петя':100000, \n",
    "        'Аня':100000,\n",
    "    },\n",
    "    'проекты':['']\n",
    "}\n"
   ]
  },
  {
   "cell_type": "code",
   "execution_count": 3,
   "id": "5b8adb7f",
   "metadata": {
    "ExecuteTime": {
     "end_time": "2022-10-26T12:09:10.161439Z",
     "start_time": "2022-10-26T12:09:10.157370Z"
    }
   },
   "outputs": [
    {
     "data": {
      "text/plain": [
       "['зарплаты', 'проекты']"
      ]
     },
     "execution_count": 3,
     "metadata": {},
     "output_type": "execute_result"
    }
   ],
   "source": [
    "list(d.keys())"
   ]
  },
  {
   "cell_type": "code",
   "execution_count": 7,
   "id": "ef027797",
   "metadata": {
    "ExecuteTime": {
     "end_time": "2022-10-26T12:10:31.513792Z",
     "start_time": "2022-10-26T12:10:31.504634Z"
    }
   },
   "outputs": [
    {
     "data": {
      "text/plain": [
       "['зарплаты', 'проекты']"
      ]
     },
     "execution_count": 7,
     "metadata": {},
     "output_type": "execute_result"
    }
   ],
   "source": [
    "[e[0] for e in list(d.items())] #keys"
   ]
  },
  {
   "cell_type": "code",
   "execution_count": 9,
   "id": "122a7f1a",
   "metadata": {
    "ExecuteTime": {
     "end_time": "2022-10-26T12:10:40.473619Z",
     "start_time": "2022-10-26T12:10:40.470513Z"
    }
   },
   "outputs": [
    {
     "data": {
      "text/plain": [
       "[{'Петя': 100000, 'Аня': 100000}, ['']]"
      ]
     },
     "execution_count": 9,
     "metadata": {},
     "output_type": "execute_result"
    }
   ],
   "source": [
    "[e[1] for e in list(d.items())] #values"
   ]
  }
 ],
 "metadata": {
  "kernelspec": {
   "display_name": "Python 3 (ipykernel)",
   "language": "python",
   "name": "python3"
  },
  "language_info": {
   "codemirror_mode": {
    "name": "ipython",
    "version": 3
   },
   "file_extension": ".py",
   "mimetype": "text/x-python",
   "name": "python",
   "nbconvert_exporter": "python",
   "pygments_lexer": "ipython3",
   "version": "3.9.12"
  }
 },
 "nbformat": 4,
 "nbformat_minor": 5
}
