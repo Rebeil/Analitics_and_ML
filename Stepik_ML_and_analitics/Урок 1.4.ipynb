{
 "cells": [
  {
   "cell_type": "markdown",
   "metadata": {
    "id": "paXSCcyR1BvW"
   },
   "source": [
    "# Урок 1.4"
   ]
  },
  {
   "cell_type": "markdown",
   "metadata": {
    "id": "AxvzVb-g091N"
   },
   "source": [
    "Давайте запустим первую программу на python! Для этого нужно нажать комбинацию клавиш shift + enter или на треугольничек в левой части строки."
   ]
  },
  {
   "cell_type": "markdown",
   "metadata": {
    "ExecuteTime": {
     "end_time": "2022-10-12T16:09:33.239630Z",
     "start_time": "2022-10-12T16:09:33.236568Z"
    },
    "colab": {
     "base_uri": "https://localhost:8080/"
    },
    "executionInfo": {
     "elapsed": 244,
     "status": "ok",
     "timestamp": 1645790378160,
     "user": {
      "displayName": "Илья Витальевич Тихонов",
      "photoUrl": "https://lh3.googleusercontent.com/a/default-user=s64",
      "userId": "10513119548773881016"
     },
     "user_tz": -180
    },
    "id": "ng6ccz0S0-6P",
    "outputId": "2145a509-f375-44ec-ad78-86778c091be6"
   },
   "source": [
    "print('Hello world!')"
   ]
  },
  {
   "cell_type": "markdown",
   "metadata": {
    "id": "EBaMOs5q1Aer"
   },
   "source": [
    "То, что мы только что запустили называется ячейкой с кодом. Добавить такую ячейку можно в левой верхней части экрана + Сode\n",
    "\n",
    "В ней записан программный код на языке python, который будет выполняться подряд, строчка за строчкой, пока не дойдет до конца (при учете, что в нем нет ошибок).\n",
    "\n",
    "Помимо ячеек с кодом проект jupyter позволяет добавлять ячейки с текстом, в которых вы можете прокомментировать происходящее ниже. Эти ячейки поддерживают язык разметки markdown, который поможет вам в навигации по ноутбуку и сделает текст более читаемым, детальнее [тут](https://ru.wikipedia.org/wiki/Markdown)\n",
    "\n",
    "В результате запуска ячейки мы получили блок вывода с текстом - Hello world!. Команда print() выводит на экран объект, который мы передаем в нее (в скобочках).\n",
    "\n",
    "Перед тем, как мы начнем исследовать встроенные в питон функции вроде функции отображения на экран print() необходимо понять с чем мы будем работать - данные. Далее ознакомимся с типами данных, представленнх в языке."
   ]
  },
  {
   "cell_type": "markdown",
   "metadata": {
    "id": "Yyr1GkYT49-c"
   },
   "source": [
    "Отобразить справочную информацию о функции:"
   ]
  },
  {
   "cell_type": "code",
   "execution_count": 2,
   "metadata": {
    "ExecuteTime": {
     "end_time": "2022-10-12T16:09:38.993641Z",
     "start_time": "2022-10-12T16:09:38.989883Z"
    },
    "executionInfo": {
     "elapsed": 239,
     "status": "ok",
     "timestamp": 1645790432422,
     "user": {
      "displayName": "Илья Витальевич Тихонов",
      "photoUrl": "https://lh3.googleusercontent.com/a/default-user=s64",
      "userId": "10513119548773881016"
     },
     "user_tz": -180
    },
    "id": "7MtjyTPA4375"
   },
   "outputs": [],
   "source": [
    "?print"
   ]
  },
  {
   "cell_type": "markdown",
   "metadata": {
    "id": "GvLCJXbn5HHy"
   },
   "source": [
    "На самом деле документация по языку уже есть [переведенная на русский язык](https://docs-python.ru/tutorial/)"
   ]
  },
  {
   "cell_type": "markdown",
   "metadata": {
    "id": "jbJUpHKNG5Co"
   },
   "source": [
    "## int\n",
    "**Целочисленный тип переменной в питоне**\n",
    "\n",
    "Чтобы задать переменную, не нужно указывать ее тип -- достаточно присвоить ей значение. При этом тип определится автоматически.\n",
    "\n",
    "Давайте попробуем завести переменную, присвоить ей значение -- целое число, и вывести на экран ее значение и тип (type):"
   ]
  },
  {
   "cell_type": "code",
   "execution_count": 4,
   "metadata": {
    "colab": {
     "base_uri": "https://localhost:8080/"
    },
    "executionInfo": {
     "elapsed": 262,
     "status": "ok",
     "timestamp": 1645790534104,
     "user": {
      "displayName": "Илья Витальевич Тихонов",
      "photoUrl": "https://lh3.googleusercontent.com/a/default-user=s64",
      "userId": "10513119548773881016"
     },
     "user_tz": -180
    },
    "id": "ND-Q40AE3_CF",
    "outputId": "696594e4-0491-46df-ef7b-0d6eaf4db7ff"
   },
   "outputs": [
    {
     "name": "stdout",
     "output_type": "stream",
     "text": [
      "5\n"
     ]
    }
   ],
   "source": [
    "x = 5\n",
    "\n",
    "print(x)"
   ]
  },
  {
   "cell_type": "code",
   "execution_count": 5,
   "metadata": {
    "colab": {
     "base_uri": "https://localhost:8080/"
    },
    "executionInfo": {
     "elapsed": 255,
     "status": "ok",
     "timestamp": 1645790562511,
     "user": {
      "displayName": "Илья Витальевич Тихонов",
      "photoUrl": "https://lh3.googleusercontent.com/a/default-user=s64",
      "userId": "10513119548773881016"
     },
     "user_tz": -180
    },
    "id": "UjJ_d0j13_Rv",
    "outputId": "b94d0060-2e3a-4411-e4dd-54a637ba5f80"
   },
   "outputs": [
    {
     "name": "stdout",
     "output_type": "stream",
     "text": [
      "<class 'int'>\n"
     ]
    }
   ],
   "source": [
    "# Команда type выводит на экран тип переменной.\n",
    "# Все, что находится после # является комментарием и не воспринимается языком как код\n",
    "print(type(x)) # комментарий может стоять и тут"
   ]
  },
  {
   "cell_type": "code",
   "execution_count": 6,
   "metadata": {
    "colab": {
     "base_uri": "https://localhost:8080/"
    },
    "executionInfo": {
     "elapsed": 435,
     "status": "ok",
     "timestamp": 1645790640609,
     "user": {
      "displayName": "Илья Витальевич Тихонов",
      "photoUrl": "https://lh3.googleusercontent.com/a/default-user=s64",
      "userId": "10513119548773881016"
     },
     "user_tz": -180
    },
    "id": "U6KqhL534CgG",
    "outputId": "0a103c2a-8dd8-430f-88f9-9fc4fa0b92f3"
   },
   "outputs": [
    {
     "data": {
      "text/plain": [
       "5"
      ]
     },
     "execution_count": 6,
     "metadata": {},
     "output_type": "execute_result"
    }
   ],
   "source": [
    "'''\n",
    "Все что менжду тройными ковычками будет воспринято как длинный комментарий.\n",
    "Последнее значение переменной в ячейке или результат, возращаемый некой функцией\n",
    "по умолчанию отображается в jupyter средах.\n",
    "'''\n",
    "x"
   ]
  },
  {
   "cell_type": "code",
   "execution_count": 8,
   "metadata": {
    "colab": {
     "base_uri": "https://localhost:8080/"
    },
    "executionInfo": {
     "elapsed": 259,
     "status": "ok",
     "timestamp": 1645790682426,
     "user": {
      "displayName": "Илья Витальевич Тихонов",
      "photoUrl": "https://lh3.googleusercontent.com/a/default-user=s64",
      "userId": "10513119548773881016"
     },
     "user_tz": -180
    },
    "id": "ZJ8NpBWJ4Dg-",
    "outputId": "2d94629e-fc30-4749-c9ef-99ba14de3ed9"
   },
   "outputs": [
    {
     "name": "stdout",
     "output_type": "stream",
     "text": [
      "5 <class 'int'>\n"
     ]
    }
   ],
   "source": [
    "print(x, type(x))"
   ]
  },
  {
   "cell_type": "markdown",
   "metadata": {
    "id": "MWiL-OwbG-eI"
   },
   "source": [
    "Как видно, тип получившейся переменной -- int.\n",
    "\n",
    "C int'овыми переменными можно производить стандартные матеатические операции -- сложение, вычитание, умножение, деление, возведение в степень, взятие остатка при делении на число.\n",
    "\n",
    "Деление переменных типа int бывает двух типов -- целочисленное (с помощью символа //) и нецелочисленное (символ /). Результатом первого типа деления будет целое число, второго -- дробное. "
   ]
  },
  {
   "cell_type": "code",
   "execution_count": 7,
   "metadata": {
    "colab": {
     "base_uri": "https://localhost:8080/"
    },
    "executionInfo": {
     "elapsed": 231,
     "status": "ok",
     "timestamp": 1645790652899,
     "user": {
      "displayName": "Илья Витальевич Тихонов",
      "photoUrl": "https://lh3.googleusercontent.com/a/default-user=s64",
      "userId": "10513119548773881016"
     },
     "user_tz": -180
    },
    "id": "ze0dbWNyDYUN",
    "outputId": "b4979eae-e0b6-413f-9637-f35a8c706b95"
   },
   "outputs": [
    {
     "name": "stdout",
     "output_type": "stream",
     "text": [
      "9 20 1 1.25 625 1\n"
     ]
    }
   ],
   "source": [
    "a = 4 + 5\n",
    "b = 4 * 5\n",
    "c = 5 // 4 # целочисленное деление\n",
    "d = 5 / 4 # деление с остатком\n",
    "e = 5**4 # 5 в степени 4\n",
    "f = 5%4 # остаток при делении 5 на 4\n",
    "\n",
    "print(a, b, c, d, e, f)"
   ]
  },
  {
   "cell_type": "markdown",
   "metadata": {
    "id": "epE4NRtIgiHI"
   },
   "source": [
    "Замечание:\n",
    "\n",
    "Запись a = a + 1 эквивалентна a += 1. Аналогичная сокращенная запсь оператора присвоения работает и с любыми другими операциями, например х *= 2 эквивалентно х = х*2"
   ]
  },
  {
   "cell_type": "markdown",
   "metadata": {
    "id": "uPfBViGnH4ez"
   },
   "source": [
    "Кроме этого бинарные битовые операции: сдвиг вправо (>>), сдвиг влево (<<), битовое «И» (&), битовое «исключающее или» (∧), битовое «или» (|) и унарная битовая инверсия (`)\n"
   ]
  },
  {
   "cell_type": "markdown",
   "metadata": {
    "id": "JEU4zLpMI2E6"
   },
   "source": [
    "Также язык питон удобен в работе с большими числами:\n",
    "\n",
    "Давайте попробуем положить в переменную число 5000000000000000000000000001:"
   ]
  },
  {
   "cell_type": "code",
   "execution_count": 9,
   "metadata": {
    "colab": {
     "base_uri": "https://localhost:8080/"
    },
    "executionInfo": {
     "elapsed": 257,
     "status": "ok",
     "timestamp": 1645790756583,
     "user": {
      "displayName": "Илья Витальевич Тихонов",
      "photoUrl": "https://lh3.googleusercontent.com/a/default-user=s64",
      "userId": "10513119548773881016"
     },
     "user_tz": -180
    },
    "id": "8YWKEaguG_3G",
    "outputId": "6c3f7138-f68d-45c7-90ed-c6025bb84749"
   },
   "outputs": [
    {
     "name": "stdout",
     "output_type": "stream",
     "text": [
      "5000000000000000000000001 | <class 'int'>\n"
     ]
    }
   ],
   "source": [
    "x = 5 * 1000000 * 1000000000 * 10**9 + 1\n",
    "print(x, '|', type(x))"
   ]
  },
  {
   "cell_type": "markdown",
   "metadata": {
    "id": "s0pabUC7JnHq"
   },
   "source": [
    "Как видите, все получилось: полученная переменная типа int и с ней можно работать как с обычными числами. Во многих других языках (например, С++) положить такое большое число в переменную бы не вышло -- возникло бы переполнение памяти."
   ]
  },
  {
   "cell_type": "markdown",
   "metadata": {
    "id": "POGzfQN9Jq9t"
   },
   "source": [
    "## float\n",
    "\n",
    "**Тип переменной для хранения дробных чисел в питоне**:\n",
    "\n",
    "Вещественные числа реализованы на основе чисел с плавающей точкой двойной точности - double (64 бита). 1 бит на знак, 11 бит на показатель экспоненты и 52 бита на значащую часть (мантиссу). Примеры: 3.0, -123.345, 23.490e23, 4.6692016091029906718532038204662016172581855774757686327456513430."
   ]
  },
  {
   "cell_type": "code",
   "execution_count": 10,
   "metadata": {
    "colab": {
     "base_uri": "https://localhost:8080/"
    },
    "executionInfo": {
     "elapsed": 250,
     "status": "ok",
     "timestamp": 1645790774769,
     "user": {
      "displayName": "Илья Витальевич Тихонов",
      "photoUrl": "https://lh3.googleusercontent.com/a/default-user=s64",
      "userId": "10513119548773881016"
     },
     "user_tz": -180
    },
    "id": "_ffccgzvI3WN",
    "outputId": "1d9c608c-0ff6-4d59-f196-3f3f9e78b505"
   },
   "outputs": [
    {
     "name": "stdout",
     "output_type": "stream",
     "text": [
      "12.345 | <class 'float'>\n"
     ]
    }
   ],
   "source": [
    "y = 12.345\n",
    "\n",
    "print(y, '|', type(y))"
   ]
  },
  {
   "cell_type": "code",
   "execution_count": 11,
   "metadata": {
    "colab": {
     "base_uri": "https://localhost:8080/"
    },
    "executionInfo": {
     "elapsed": 277,
     "status": "ok",
     "timestamp": 1645790785855,
     "user": {
      "displayName": "Илья Витальевич Тихонов",
      "photoUrl": "https://lh3.googleusercontent.com/a/default-user=s64",
      "userId": "10513119548773881016"
     },
     "user_tz": -180
    },
    "id": "l_3rG8DRJtJJ",
    "outputId": "53625ba2-f636-44d5-836a-9d920babe897"
   },
   "outputs": [
    {
     "name": "stdout",
     "output_type": "stream",
     "text": [
      "9.3 21.419999999999998 1.25 1.0 759.69140625\n"
     ]
    }
   ],
   "source": [
    "a = 4.2 + 5.1\n",
    "b = 4.2 * 5.1\n",
    "c = 5.0 / 4.0\n",
    "d = 5.25 // 4.25\n",
    "e = 5.25 ** 4.0\n",
    "\n",
    "print(a, b, c, d, e)"
   ]
  },
  {
   "cell_type": "markdown",
   "metadata": {
    "id": "SiAoqozsMcNO"
   },
   "source": [
    "## Приведение типов"
   ]
  },
  {
   "cell_type": "markdown",
   "metadata": {
    "id": "LTl5lX1SLn7H"
   },
   "source": [
    "Как Python определяет тип числового выражения, если в таком выражении могут встретиться значения и переменные разных типов? Это может быть сделано двумя разными способами -- или автоматически (такой способ\n",
    "называется неявным приведением типа), или путем явного указания типа, который должен иметь результат\n",
    "вычисления выражения."
   ]
  },
  {
   "cell_type": "markdown",
   "metadata": {
    "id": "scfzuDUuLy04"
   },
   "source": [
    "### Неявное приведение типов\n",
    "\n",
    "Тип числового выражения определяется типом наиболее \"сложного\" из входящих значений и переменных. Числовые типы упорядочены по сложности так: целый < вещественный."
   ]
  },
  {
   "cell_type": "code",
   "execution_count": 12,
   "metadata": {
    "colab": {
     "base_uri": "https://localhost:8080/"
    },
    "executionInfo": {
     "elapsed": 251,
     "status": "ok",
     "timestamp": 1645790877549,
     "user": {
      "displayName": "Илья Витальевич Тихонов",
      "photoUrl": "https://lh3.googleusercontent.com/a/default-user=s64",
      "userId": "10513119548773881016"
     },
     "user_tz": -180
    },
    "id": "A7dBIY_6Jt-A",
    "outputId": "9382165f-7097-41e9-ad26-db5c84fcdb90"
   },
   "outputs": [
    {
     "data": {
      "text/plain": [
       "1.25"
      ]
     },
     "execution_count": 12,
     "metadata": {},
     "output_type": "execute_result"
    }
   ],
   "source": [
    "5 / 4"
   ]
  },
  {
   "cell_type": "markdown",
   "metadata": {
    "id": "wzvKV582P9Wa"
   },
   "source": [
    "Замечание: можно проводить сразу много операций с числовыми выражениями, круглые скобки определяют принятый в алгебре порядок операций."
   ]
  },
  {
   "cell_type": "code",
   "execution_count": 13,
   "metadata": {
    "colab": {
     "base_uri": "https://localhost:8080/"
    },
    "executionInfo": {
     "elapsed": 259,
     "status": "ok",
     "timestamp": 1645790886811,
     "user": {
      "displayName": "Илья Витальевич Тихонов",
      "photoUrl": "https://lh3.googleusercontent.com/a/default-user=s64",
      "userId": "10513119548773881016"
     },
     "user_tz": -180
    },
    "id": "1MgJC8iQKWOW",
    "outputId": "ce08d06d-09d0-450e-ecf5-78758934b2ba"
   },
   "outputs": [
    {
     "data": {
      "text/plain": [
       "2"
      ]
     },
     "execution_count": 13,
     "metadata": {},
     "output_type": "execute_result"
    }
   ],
   "source": [
    "5 // (5 % 3)"
   ]
  },
  {
   "cell_type": "markdown",
   "metadata": {
    "id": "0U7f9V8mMjk3"
   },
   "source": [
    "### Явное приведение типов\n",
    "\n",
    "Для явного приведения выражения к нужному типу необходимо использовать встроенные функции int(), float(). Каждая зависит от одного аргумента и переводит его в целый и вещественный тип соответственно."
   ]
  },
  {
   "cell_type": "code",
   "execution_count": null,
   "metadata": {
    "colab": {
     "base_uri": "https://localhost:8080/"
    },
    "executionInfo": {
     "elapsed": 2,
     "status": "ok",
     "timestamp": 1644791276633,
     "user": {
      "displayName": "Илья Витальевич Тихонов",
      "photoUrl": "https://lh3.googleusercontent.com/a/default-user=s64",
      "userId": "10513119548773881016"
     },
     "user_tz": -180
    },
    "id": "EZOjiD9lL-Bf",
    "outputId": "2a302dcd-504a-4de2-dc1c-034f40b1c7ac"
   },
   "outputs": [
    {
     "data": {
      "text/plain": [
       "-1048576.0"
      ]
     },
     "execution_count": 38,
     "metadata": {},
     "output_type": "execute_result"
    }
   ],
   "source": [
    "float(-2 ** 20)"
   ]
  },
  {
   "cell_type": "code",
   "execution_count": 14,
   "metadata": {
    "colab": {
     "base_uri": "https://localhost:8080/"
    },
    "executionInfo": {
     "elapsed": 274,
     "status": "ok",
     "timestamp": 1645790926899,
     "user": {
      "displayName": "Илья Витальевич Тихонов",
      "photoUrl": "https://lh3.googleusercontent.com/a/default-user=s64",
      "userId": "10513119548773881016"
     },
     "user_tz": -180
    },
    "id": "P0z_vR4BMvus",
    "outputId": "bfd8d15d-05a7-4b4d-8fe0-c337eebea79c"
   },
   "outputs": [
    {
     "data": {
      "text/plain": [
       "1.0"
      ]
     },
     "execution_count": 14,
     "metadata": {},
     "output_type": "execute_result"
    }
   ],
   "source": [
    "# целочисленное деление вернуло бы 1 (int), но было явно приведено к float\n",
    "float(5 // 4)"
   ]
  },
  {
   "cell_type": "code",
   "execution_count": 4,
   "metadata": {
    "ExecuteTime": {
     "end_time": "2022-10-12T16:15:43.322695Z",
     "start_time": "2022-10-12T16:15:43.319862Z"
    }
   },
   "outputs": [
    {
     "data": {
      "text/plain": [
       "3.1415929203539825"
      ]
     },
     "execution_count": 4,
     "metadata": {},
     "output_type": "execute_result"
    }
   ],
   "source": [
    "355/113"
   ]
  },
  {
   "cell_type": "code",
   "execution_count": 6,
   "metadata": {
    "ExecuteTime": {
     "end_time": "2022-10-12T16:16:40.825946Z",
     "start_time": "2022-10-12T16:16:40.822418Z"
    }
   },
   "outputs": [
    {
     "data": {
      "text/plain": [
       "3.141593"
      ]
     },
     "execution_count": 6,
     "metadata": {},
     "output_type": "execute_result"
    }
   ],
   "source": [
    "round((355/113),6)"
   ]
  },
  {
   "cell_type": "code",
   "execution_count": 12,
   "metadata": {
    "ExecuteTime": {
     "end_time": "2022-10-12T16:21:26.852785Z",
     "start_time": "2022-10-12T16:21:26.843999Z"
    }
   },
   "outputs": [
    {
     "data": {
      "text/plain": [
       "2"
      ]
     },
     "execution_count": 12,
     "metadata": {},
     "output_type": "execute_result"
    }
   ],
   "source": [
    "(2**10101)%3"
   ]
  }
 ],
 "metadata": {
  "colab": {
   "authorship_tag": "ABX9TyPqAc0yEedwoeA6R1xoYXui",
   "collapsed_sections": [],
   "name": "Урок 1.4.ipynb",
   "provenance": [],
   "toc_visible": true
  },
  "kernelspec": {
   "display_name": "Python 3 (ipykernel)",
   "language": "python",
   "name": "python3"
  },
  "language_info": {
   "codemirror_mode": {
    "name": "ipython",
    "version": 3
   },
   "file_extension": ".py",
   "mimetype": "text/x-python",
   "name": "python",
   "nbconvert_exporter": "python",
   "pygments_lexer": "ipython3",
   "version": "3.9.12"
  }
 },
 "nbformat": 4,
 "nbformat_minor": 1
}
