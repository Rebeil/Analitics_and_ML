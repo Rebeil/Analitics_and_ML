{
 "cells": [
  {
   "cell_type": "code",
   "execution_count": 7,
   "id": "1de88c87",
   "metadata": {
    "ExecuteTime": {
     "end_time": "2022-09-13T10:19:30.778662Z",
     "start_time": "2022-09-13T10:19:30.771540Z"
    }
   },
   "outputs": [],
   "source": [
    "import matplotlib.pyplot as plt\n",
    "import numpy as np\n",
    "import pandas as pd"
   ]
  },
  {
   "cell_type": "code",
   "execution_count": 8,
   "id": "7aba0d06",
   "metadata": {
    "ExecuteTime": {
     "end_time": "2022-09-13T10:19:31.464413Z",
     "start_time": "2022-09-13T10:19:31.457841Z"
    }
   },
   "outputs": [],
   "source": [
    "np.random.seed(444)"
   ]
  },
  {
   "cell_type": "code",
   "execution_count": 9,
   "id": "f77fcbed",
   "metadata": {
    "ExecuteTime": {
     "end_time": "2022-09-13T10:19:32.011987Z",
     "start_time": "2022-09-13T10:19:31.919922Z"
    }
   },
   "outputs": [
    {
     "name": "stdout",
     "output_type": "stream",
     "text": [
      "<class 'matplotlib.figure.Figure'>\n"
     ]
    },
    {
     "data": {
      "image/png": "[encoded data removed]",
      "text/plain": [
       "<Figure size 432x288 with 1 Axes>"
      ]
     },
     "metadata": {
      "needs_background": "light"
     },
     "output_type": "display_data"
    }
   ],
   "source": [
    "fig, _ = plt.subplots()\n",
    "print(type(fig))  # <class 'matplotlib.figure.Figure'>"
   ]
  },
  {
   "cell_type": "code",
   "execution_count": 10,
   "id": "1072f887",
   "metadata": {
    "ExecuteTime": {
     "end_time": "2022-09-13T10:19:33.377323Z",
     "start_time": "2022-09-13T10:19:33.373843Z"
    }
   },
   "outputs": [
    {
     "name": "stdout",
     "output_type": "stream",
     "text": [
      "<class 'matplotlib.axis.YTick'>\n"
     ]
    }
   ],
   "source": [
    "one_tick = fig.axes[0].yaxis.get_major_ticks()[0]\n",
    "print(type(one_tick))  # <class 'matplotlib.axis.YTick'>"
   ]
  },
  {
   "cell_type": "code",
   "execution_count": 11,
   "id": "ff56db41",
   "metadata": {
    "ExecuteTime": {
     "end_time": "2022-09-13T10:19:33.973677Z",
     "start_time": "2022-09-13T10:19:33.936813Z"
    },
    "scrolled": true
   },
   "outputs": [
    {
     "name": "stdout",
     "output_type": "stream",
     "text": [
      "<class 'pandas.core.frame.DataFrame'>\n",
      "RangeIndex: 37 entries, 0 to 36\n",
      "Data columns (total 16 columns):\n",
      " #   Column                                   Non-Null Count  Dtype \n",
      "---  ------                                   --------------  ----- \n",
      " 0   Дл.волны,                                37 non-null     object\n",
      " 1   Кр. видности                             37 non-null     object\n",
      " 2          Стандартные излучения             37 non-null     object\n",
      " 3   Unnamed: 3                               37 non-null     object\n",
      " 4   Unnamed: 4                               37 non-null     object\n",
      " 5   Unnamed: 5                               37 non-null     object\n",
      " 6   Светофильтры (коэфф. пропуск.)           37 non-null     object\n",
      " 7   Unnamed: 7                               37 non-null     object\n",
      " 8   Unnamed: 8                               37 non-null     object\n",
      " 9           Триадные краски (коэфф. отраж.)  37 non-null     object\n",
      " 10  Unnamed: 10                              37 non-null     object\n",
      " 11  Unnamed: 11                              37 non-null     object\n",
      " 12  Unnamed: 12                              37 non-null     object\n",
      " 13       Весовые коэфф. XYZ                  37 non-null     object\n",
      " 14  Unnamed: 14                              37 non-null     object\n",
      " 15  Unnamed: 15                              37 non-null     object\n",
      "dtypes: object(16)\n",
      "memory usage: 4.8+ KB\n",
      "None\n"
     ]
    }
   ],
   "source": [
    "data = pd.read_excel('123.xls')\n",
    "print(data.info())"
   ]
  },
  {
   "cell_type": "code",
   "execution_count": 12,
   "id": "4f0e63fb",
   "metadata": {
    "ExecuteTime": {
     "end_time": "2022-09-13T10:19:52.175314Z",
     "start_time": "2022-09-13T10:19:52.134977Z"
    }
   },
   "outputs": [
    {
     "data": {
      "text/html": [
       "<div>\n",
       "<style scoped>\n",
       "    .dataframe tbody tr th:only-of-type {\n",
       "        vertical-align: middle;\n",
       "    }\n",
       "\n",
       "    .dataframe tbody tr th {\n",
       "        vertical-align: top;\n",
       "    }\n",
       "\n",
       "    .dataframe thead th {\n",
       "        text-align: right;\n",
       "    }\n",
       "</style>\n",
       "<table border=\"1\" class=\"dataframe\">\n",
       "  <thead>\n",
       "    <tr style=\"text-align: right;\">\n",
       "      <th></th>\n",
       "      <th>Дл.волны,</th>\n",
       "      <th>Кр. видности</th>\n",
       "      <th>Стандартные излучения</th>\n",
       "      <th>Unnamed: 3</th>\n",
       "      <th>Unnamed: 4</th>\n",
       "      <th>Unnamed: 5</th>\n",
       "      <th>Светофильтры (коэфф. пропуск.)</th>\n",
       "      <th>Unnamed: 7</th>\n",
       "      <th>Unnamed: 8</th>\n",
       "      <th>Триадные краски (коэфф. отраж.)</th>\n",
       "      <th>Unnamed: 10</th>\n",
       "      <th>Unnamed: 11</th>\n",
       "      <th>Unnamed: 12</th>\n",
       "      <th>Весовые коэфф. XYZ</th>\n",
       "      <th>Unnamed: 14</th>\n",
       "      <th>Unnamed: 15</th>\n",
       "    </tr>\n",
       "  </thead>\n",
       "  <tbody>\n",
       "    <tr>\n",
       "      <th>0</th>\n",
       "      <td>λ, нм</td>\n",
       "      <td>ϑ(λ)</td>\n",
       "      <td>A</td>\n",
       "      <td>D50</td>\n",
       "      <td>D65</td>\n",
       "      <td>D75</td>\n",
       "      <td>R</td>\n",
       "      <td>G</td>\n",
       "      <td>B</td>\n",
       "      <td>C</td>\n",
       "      <td>M</td>\n",
       "      <td>Y</td>\n",
       "      <td>K</td>\n",
       "      <td>Wx</td>\n",
       "      <td>Wy</td>\n",
       "      <td>Wz</td>\n",
       "    </tr>\n",
       "    <tr>\n",
       "      <th>1</th>\n",
       "      <td>380</td>\n",
       "      <td>0.00004</td>\n",
       "      <td>10</td>\n",
       "      <td>24.49</td>\n",
       "      <td>50</td>\n",
       "      <td>66.7</td>\n",
       "      <td>0</td>\n",
       "      <td>0</td>\n",
       "      <td>0.006</td>\n",
       "      <td>0.2911</td>\n",
       "      <td>0.2188</td>\n",
       "      <td>0.3057</td>\n",
       "      <td>0.0595</td>\n",
       "      <td>0.003</td>\n",
       "      <td>0</td>\n",
       "      <td>0.013</td>\n",
       "    </tr>\n",
       "    <tr>\n",
       "      <th>2</th>\n",
       "      <td>390</td>\n",
       "      <td>0.00012</td>\n",
       "      <td>12</td>\n",
       "      <td>29.87</td>\n",
       "      <td>54.6</td>\n",
       "      <td>70</td>\n",
       "      <td>0</td>\n",
       "      <td>0</td>\n",
       "      <td>0.068718</td>\n",
       "      <td>0.2655</td>\n",
       "      <td>0.1681</td>\n",
       "      <td>0.1846</td>\n",
       "      <td>0.0316</td>\n",
       "      <td>0.012</td>\n",
       "      <td>0</td>\n",
       "      <td>0.057</td>\n",
       "    </tr>\n",
       "    <tr>\n",
       "      <th>3</th>\n",
       "      <td>400</td>\n",
       "      <td>0.0004</td>\n",
       "      <td>15</td>\n",
       "      <td>49.31</td>\n",
       "      <td>82.8</td>\n",
       "      <td>101.9</td>\n",
       "      <td>0</td>\n",
       "      <td>0</td>\n",
       "      <td>0.24841</td>\n",
       "      <td>0.3033</td>\n",
       "      <td>0.1466</td>\n",
       "      <td>0.1075</td>\n",
       "      <td>0.022</td>\n",
       "      <td>0.06</td>\n",
       "      <td>0.002</td>\n",
       "      <td>0.285</td>\n",
       "    </tr>\n",
       "    <tr>\n",
       "      <th>4</th>\n",
       "      <td>410</td>\n",
       "      <td>0.0012</td>\n",
       "      <td>18</td>\n",
       "      <td>56.51</td>\n",
       "      <td>91.5</td>\n",
       "      <td>111.9</td>\n",
       "      <td>0</td>\n",
       "      <td>0</td>\n",
       "      <td>0.498889</td>\n",
       "      <td>0.3919</td>\n",
       "      <td>0.1618</td>\n",
       "      <td>0.0774</td>\n",
       "      <td>0.0184</td>\n",
       "      <td>0.234</td>\n",
       "      <td>0.006</td>\n",
       "      <td>1.113</td>\n",
       "    </tr>\n",
       "  </tbody>\n",
       "</table>\n",
       "</div>"
      ],
      "text/plain": [
       "  Дл.волны, Кр. видности        Стандартные излучения Unnamed: 3 Unnamed: 4  \\\n",
       "0     λ, нм         ϑ(λ)                            A        D50        D65   \n",
       "1       380      0.00004                           10      24.49         50   \n",
       "2       390      0.00012                           12      29.87       54.6   \n",
       "3       400       0.0004                           15      49.31       82.8   \n",
       "4       410       0.0012                           18      56.51       91.5   \n",
       "\n",
       "  Unnamed: 5 Светофильтры (коэфф. пропуск.) Unnamed: 7 Unnamed: 8  \\\n",
       "0        D75                              R          G          B   \n",
       "1       66.7                              0          0      0.006   \n",
       "2         70                              0          0   0.068718   \n",
       "3      101.9                              0          0    0.24841   \n",
       "4      111.9                              0          0   0.498889   \n",
       "\n",
       "          Триадные краски (коэфф. отраж.) Unnamed: 10 Unnamed: 11 Unnamed: 12  \\\n",
       "0                                       C           M           Y           K   \n",
       "1                                  0.2911      0.2188      0.3057      0.0595   \n",
       "2                                  0.2655      0.1681      0.1846      0.0316   \n",
       "3                                  0.3033      0.1466      0.1075       0.022   \n",
       "4                                  0.3919      0.1618      0.0774      0.0184   \n",
       "\n",
       "       Весовые коэфф. XYZ Unnamed: 14 Unnamed: 15  \n",
       "0                      Wx          Wy          Wz  \n",
       "1                   0.003           0       0.013  \n",
       "2                   0.012           0       0.057  \n",
       "3                    0.06       0.002       0.285  \n",
       "4                   0.234       0.006       1.113  "
      ]
     },
     "execution_count": 12,
     "metadata": {},
     "output_type": "execute_result"
    }
   ],
   "source": [
    "data.head()"
   ]
  },
  {
   "cell_type": "code",
   "execution_count": 13,
   "id": "7502c64f",
   "metadata": {
    "ExecuteTime": {
     "end_time": "2022-09-13T10:31:29.355852Z",
     "start_time": "2022-09-13T10:31:29.316166Z"
    }
   },
   "outputs": [
    {
     "data": {
      "text/html": [
       "<div>\n",
       "<style scoped>\n",
       "    .dataframe tbody tr th:only-of-type {\n",
       "        vertical-align: middle;\n",
       "    }\n",
       "\n",
       "    .dataframe tbody tr th {\n",
       "        vertical-align: top;\n",
       "    }\n",
       "\n",
       "    .dataframe thead th {\n",
       "        text-align: right;\n",
       "    }\n",
       "</style>\n",
       "<table border=\"1\" class=\"dataframe\">\n",
       "  <thead>\n",
       "    <tr style=\"text-align: right;\">\n",
       "      <th></th>\n",
       "      <th>Дл.волны,</th>\n",
       "      <th>Кр. видности</th>\n",
       "      <th>Стандартные излучения</th>\n",
       "      <th>Unnamed: 3</th>\n",
       "      <th>Unnamed: 4</th>\n",
       "      <th>Unnamed: 5</th>\n",
       "      <th>Светофильтры (коэфф. пропуск.)</th>\n",
       "      <th>Unnamed: 7</th>\n",
       "      <th>Unnamed: 8</th>\n",
       "      <th>Триадные краски (коэфф. отраж.)</th>\n",
       "      <th>Unnamed: 10</th>\n",
       "      <th>Unnamed: 11</th>\n",
       "      <th>Unnamed: 12</th>\n",
       "      <th>Весовые коэфф. XYZ</th>\n",
       "      <th>Unnamed: 14</th>\n",
       "      <th>Unnamed: 15</th>\n",
       "    </tr>\n",
       "  </thead>\n",
       "  <tbody>\n",
       "    <tr>\n",
       "      <th>32</th>\n",
       "      <td>690</td>\n",
       "      <td>0.0082</td>\n",
       "      <td>192</td>\n",
       "      <td>87.38</td>\n",
       "      <td>69.7</td>\n",
       "      <td>63.9</td>\n",
       "      <td>0.001</td>\n",
       "      <td>0</td>\n",
       "      <td>0</td>\n",
       "      <td>0.0619</td>\n",
       "      <td>0.8052</td>\n",
       "      <td>0.8006</td>\n",
       "      <td>0.0269</td>\n",
       "      <td>0.194</td>\n",
       "      <td>0.07</td>\n",
       "      <td>0</td>\n",
       "    </tr>\n",
       "    <tr>\n",
       "      <th>33</th>\n",
       "      <td>700</td>\n",
       "      <td>0.0041</td>\n",
       "      <td>198</td>\n",
       "      <td>91.6</td>\n",
       "      <td>71.6</td>\n",
       "      <td>65.1</td>\n",
       "      <td>0.000323</td>\n",
       "      <td>0</td>\n",
       "      <td>0</td>\n",
       "      <td>0.0528</td>\n",
       "      <td>0.8074</td>\n",
       "      <td>0.8039</td>\n",
       "      <td>0.0269</td>\n",
       "      <td>0.097</td>\n",
       "      <td>0.035</td>\n",
       "      <td>0</td>\n",
       "    </tr>\n",
       "    <tr>\n",
       "      <th>34</th>\n",
       "      <td>710</td>\n",
       "      <td>0.0021</td>\n",
       "      <td>204</td>\n",
       "      <td>92.89</td>\n",
       "      <td>74.3</td>\n",
       "      <td>68.1</td>\n",
       "      <td>0.000059</td>\n",
       "      <td>0</td>\n",
       "      <td>0</td>\n",
       "      <td>0.0462</td>\n",
       "      <td>0.8095</td>\n",
       "      <td>0.8077</td>\n",
       "      <td>0.0271</td>\n",
       "      <td>0.05</td>\n",
       "      <td>0.018</td>\n",
       "      <td>0</td>\n",
       "    </tr>\n",
       "    <tr>\n",
       "      <th>35</th>\n",
       "      <td>720</td>\n",
       "      <td>0.00105</td>\n",
       "      <td>210</td>\n",
       "      <td>76.85</td>\n",
       "      <td>61.6</td>\n",
       "      <td>56.4</td>\n",
       "      <td>0.000019</td>\n",
       "      <td>0</td>\n",
       "      <td>0</td>\n",
       "      <td>0.0497</td>\n",
       "      <td>0.813</td>\n",
       "      <td>0.8114</td>\n",
       "      <td>0.028</td>\n",
       "      <td>0.022</td>\n",
       "      <td>0.008</td>\n",
       "      <td>0</td>\n",
       "    </tr>\n",
       "    <tr>\n",
       "      <th>36</th>\n",
       "      <td>730</td>\n",
       "      <td>0.00052</td>\n",
       "      <td>216</td>\n",
       "      <td>86.51</td>\n",
       "      <td>69.9</td>\n",
       "      <td>64.2</td>\n",
       "      <td>0</td>\n",
       "      <td>0</td>\n",
       "      <td>0</td>\n",
       "      <td>0.0668</td>\n",
       "      <td>0.8196</td>\n",
       "      <td>0.8169</td>\n",
       "      <td>0.0302</td>\n",
       "      <td>0.012</td>\n",
       "      <td>0.004</td>\n",
       "      <td>0</td>\n",
       "    </tr>\n",
       "  </tbody>\n",
       "</table>\n",
       "</div>"
      ],
      "text/plain": [
       "   Дл.волны, Кр. видности        Стандартные излучения Unnamed: 3 Unnamed: 4  \\\n",
       "32       690       0.0082                          192      87.38       69.7   \n",
       "33       700       0.0041                          198       91.6       71.6   \n",
       "34       710       0.0021                          204      92.89       74.3   \n",
       "35       720      0.00105                          210      76.85       61.6   \n",
       "36       730      0.00052                          216      86.51       69.9   \n",
       "\n",
       "   Unnamed: 5 Светофильтры (коэфф. пропуск.) Unnamed: 7 Unnamed: 8  \\\n",
       "32       63.9                          0.001          0          0   \n",
       "33       65.1                       0.000323          0          0   \n",
       "34       68.1                       0.000059          0          0   \n",
       "35       56.4                       0.000019          0          0   \n",
       "36       64.2                              0          0          0   \n",
       "\n",
       "           Триадные краски (коэфф. отраж.) Unnamed: 10 Unnamed: 11  \\\n",
       "32                                  0.0619      0.8052      0.8006   \n",
       "33                                  0.0528      0.8074      0.8039   \n",
       "34                                  0.0462      0.8095      0.8077   \n",
       "35                                  0.0497       0.813      0.8114   \n",
       "36                                  0.0668      0.8196      0.8169   \n",
       "\n",
       "   Unnamed: 12      Весовые коэфф. XYZ Unnamed: 14 Unnamed: 15  \n",
       "32      0.0269                   0.194        0.07           0  \n",
       "33      0.0269                   0.097       0.035           0  \n",
       "34      0.0271                    0.05       0.018           0  \n",
       "35       0.028                   0.022       0.008           0  \n",
       "36      0.0302                   0.012       0.004           0  "
      ]
     },
     "execution_count": 13,
     "metadata": {},
     "output_type": "execute_result"
    }
   ],
   "source": [
    "data.tail()"
   ]
  },
  {
   "cell_type": "code",
   "execution_count": null,
   "id": "7d137e9d",
   "metadata": {},
   "outputs": [],
   "source": []
  }
 ],
 "metadata": {
  "kernelspec": {
   "display_name": "Python 3 (ipykernel)",
   "language": "python",
   "name": "python3"
  },
  "language_info": {
   "codemirror_mode": {
    "name": "ipython",
    "version": 3
   },
   "file_extension": ".py",
   "mimetype": "text/x-python",
   "name": "python",
   "nbconvert_exporter": "python",
   "pygments_lexer": "ipython3",
   "version": "3.9.12"
  }
 },
 "nbformat": 4,
 "nbformat_minor": 5
}
