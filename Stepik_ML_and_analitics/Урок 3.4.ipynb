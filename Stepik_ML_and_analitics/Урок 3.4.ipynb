{
 "cells": [
  {
   "cell_type": "markdown",
   "metadata": {
    "id": "V3Ju4U7_BRct"
   },
   "source": [
    "# Словарь (dict)"
   ]
  },
  {
   "cell_type": "markdown",
   "metadata": {
    "id": "Yr_fYtDeBd1F"
   },
   "source": [
    "**словарь, ассоциативный массив**\n",
    "\n",
    "Словарь -- это структура данных, которая представляет отображение из одного типа данных в другой. Представляет собой набор пар ключ-значение, в качестве ключа могут выступать неизменяемые (immutable) типы данных (int, str, tuple, ...)\n",
    "\n",
    "Массивы, которые мы до этого рассматривали, были отображением непрерывного отрезка [0, n] в другой тип данных. `dict` может быть гораздо удобнее, когда нужно использовать в качестве ключа другой тип данных (например, сопоставить именам людей (str) их даты рождения) или когда в качестве ключа хочется использовать int, но не все значения из промежутка [0, n] нужны. Например, если хочется сопоставить года рождения великих писателей их именам. \n",
    "\n",
    "В отличие от списков, которые являются упорядоченными последовательностями элементов произвольного типа, элементы словаря это неупорядоченные последовательности пар (ключ: значение). Иногда словари называют ассоциативными массивами, иногда отображениями (имеется в виду отображение множества ключей словаря на множество его значений). Как и списки, словари имеют переменную длину, произвольную вложенность и могут хранить значения произвольных типов. \n",
    "\n",
    "Из определения словаря следует, что все операции так или иначе использующие определенный порядок следования элементов (индексирование получение элемента по его номеру, получение среза, конкатенация) для словарей не определены.\n",
    "\n",
    "Как и для всех последовательностей, для словаря определена функция len, возвращающая количество пар ключ:значений."
   ]
  },
  {
   "cell_type": "markdown",
   "metadata": {
    "id": "WGFCdKLsCmBd"
   },
   "source": [
    "Пустой словарь можно создать либо с помощью `{}`, либо с `dict()`:"
   ]
  },
  {
   "cell_type": "code",
   "execution_count": 1,
   "metadata": {
    "colab": {
     "base_uri": "https://localhost:8080/"
    },
    "executionInfo": {
     "elapsed": 239,
     "status": "ok",
     "timestamp": 1645792587131,
     "user": {
      "displayName": "Илья Витальевич Тихонов",
      "photoUrl": "https://lh3.googleusercontent.com/a/default-user=s64",
      "userId": "10513119548773881016"
     },
     "user_tz": -180
    },
    "id": "eXMMeaPSBN3g",
    "outputId": "4b60313e-a0fa-46be-a646-04265c24ed18"
   },
   "outputs": [
    {
     "name": "stdout",
     "output_type": "stream",
     "text": [
      "True | <class 'dict'>\n"
     ]
    }
   ],
   "source": [
    "d = {}\n",
    "dd = dict()\n",
    "\n",
    "print(d == dd, '|', type(d))"
   ]
  },
  {
   "cell_type": "markdown",
   "metadata": {
    "id": "hgeH8w9bCo3c"
   },
   "source": [
    "Добавим значение value по ключу key в словарь:"
   ]
  },
  {
   "cell_type": "code",
   "execution_count": 3,
   "metadata": {
    "colab": {
     "base_uri": "https://localhost:8080/"
    },
    "executionInfo": {
     "elapsed": 217,
     "status": "ok",
     "timestamp": 1645792622453,
     "user": {
      "displayName": "Илья Витальевич Тихонов",
      "photoUrl": "https://lh3.googleusercontent.com/a/default-user=s64",
      "userId": "10513119548773881016"
     },
     "user_tz": -180
    },
    "id": "LDlbbEAOCng6",
    "outputId": "d95e05ea-639b-44e4-9cd9-1ab0d781bf37"
   },
   "outputs": [
    {
     "data": {
      "text/plain": [
       "{'b': 100}"
      ]
     },
     "execution_count": 3,
     "metadata": {},
     "output_type": "execute_result"
    }
   ],
   "source": [
    "key = 'b'\n",
    "value = 100\n",
    "\n",
    "d[key] = value\n",
    "d"
   ]
  },
  {
   "cell_type": "markdown",
   "metadata": {
    "id": "hmfQWnZfCtYx"
   },
   "source": [
    "## Инициализация словаря\n",
    "\n",
    "Непустой словарь можно создать несколькими способами:"
   ]
  },
  {
   "cell_type": "code",
   "execution_count": 4,
   "metadata": {
    "colab": {
     "base_uri": "https://localhost:8080/"
    },
    "executionInfo": {
     "elapsed": 235,
     "status": "ok",
     "timestamp": 1645792640205,
     "user": {
      "displayName": "Илья Витальевич Тихонов",
      "photoUrl": "https://lh3.googleusercontent.com/a/default-user=s64",
      "userId": "10513119548773881016"
     },
     "user_tz": -180
    },
    "id": "j8B0P6ocCp6a",
    "outputId": "a6be44ac-840d-4b79-bfb7-f09cc2923038"
   },
   "outputs": [
    {
     "data": {
      "text/plain": [
       "{'зарплаты': {'Аня': 100000, 'Петя': 100000},\n",
       " 'проекты': ['разработка нормальной БД']}"
      ]
     },
     "execution_count": 4,
     "metadata": {},
     "output_type": "execute_result"
    }
   ],
   "source": [
    "# ключи - обязательно незменяемые объекты\n",
    "# значения - произвольные объекты (втч. типы данных не из питона)\n",
    "d = {\n",
    "    'зарплаты':{\n",
    "        'Петя':100000,\n",
    "        'Аня':100000,\n",
    "    },\n",
    "    'проекты':['разработка нормальной БД']\n",
    "}\n",
    "\n",
    "d"
   ]
  },
  {
   "cell_type": "code",
   "execution_count": null,
   "metadata": {
    "id": "mZZ7fywkxO3z"
   },
   "outputs": [],
   "source": [
    "# мы можем хранит произвольные данные с разной степенью вложенности полей\n",
    "{\n",
    "   \"firstName\": \"Иван\",\n",
    "   \"lastName\": \"Иванов\",\n",
    "   \"address\": {\n",
    "       \"streetAddress\": \"Московское ш., 101, кв.101\",\n",
    "       \"city\": \"Ленинград\",\n",
    "       \"postalCode\": 101101\n",
    "   },\n",
    "   \"phoneNumbers\": [\n",
    "       \"812 123-1234\",\n",
    "       \"916 123-4567\"\n",
    "   ]\n",
    "}"
   ]
  },
  {
   "cell_type": "code",
   "execution_count": null,
   "metadata": {
    "colab": {
     "base_uri": "https://localhost:8080/"
    },
    "executionInfo": {
     "elapsed": 2,
     "status": "ok",
     "timestamp": 1644919365010,
     "user": {
      "displayName": "Илья Витальевич Тихонов",
      "photoUrl": "https://lh3.googleusercontent.com/a/default-user=s64",
      "userId": "10513119548773881016"
     },
     "user_tz": -180
    },
    "id": "zqixEF5gCw-x",
    "outputId": "0ce9dfa3-c35d-49a7-9b67-361e64b32011"
   },
   "outputs": [
    {
     "data": {
      "text/plain": [
       "{'long': 'dictionary', 'short': ['dict']}"
      ]
     },
     "execution_count": 4,
     "metadata": {},
     "output_type": "execute_result"
    }
   ],
   "source": [
    "d = {\n",
    "    'short': ['dict'],\n",
    "    'long': 'dictionary'\n",
    "}\n",
    "d"
   ]
  },
  {
   "cell_type": "code",
   "execution_count": null,
   "metadata": {
    "colab": {
     "base_uri": "https://localhost:8080/"
    },
    "executionInfo": {
     "elapsed": 245,
     "status": "ok",
     "timestamp": 1644855779149,
     "user": {
      "displayName": "Илья Витальевич Тихонов",
      "photoUrl": "https://lh3.googleusercontent.com/a/default-user=s64",
      "userId": "10513119548773881016"
     },
     "user_tz": -180
    },
    "id": "rHdEauYiC0Jw",
    "outputId": "cfe1d0ab-4e2a-46da-e7e4-c48d1e69fc15"
   },
   "outputs": [
    {
     "data": {
      "text/plain": [
       "{'long': 'dictionary', 'short': 'dict'}"
      ]
     },
     "execution_count": 5,
     "metadata": {},
     "output_type": "execute_result"
    }
   ],
   "source": [
    "d = dict(short='dict', long='dictionary')\n",
    "d"
   ]
  },
  {
   "cell_type": "code",
   "execution_count": 5,
   "metadata": {
    "colab": {
     "base_uri": "https://localhost:8080/"
    },
    "executionInfo": {
     "elapsed": 246,
     "status": "ok",
     "timestamp": 1645792690699,
     "user": {
      "displayName": "Илья Витальевич Тихонов",
      "photoUrl": "https://lh3.googleusercontent.com/a/default-user=s64",
      "userId": "10513119548773881016"
     },
     "user_tz": -180
    },
    "id": "3EQi5Z3cC1xI",
    "outputId": "e0e8bbb9-f2e5-442c-e662-4472b586af6b"
   },
   "outputs": [
    {
     "data": {
      "text/plain": [
       "{1: 1, 2: 4}"
      ]
     },
     "execution_count": 5,
     "metadata": {},
     "output_type": "execute_result"
    }
   ],
   "source": [
    "d = dict([(1, 1), (2, 4)])\n",
    "d"
   ]
  },
  {
   "cell_type": "markdown",
   "metadata": {
    "id": "zj556kTsDAsw"
   },
   "source": [
    "## Получение значений"
   ]
  },
  {
   "cell_type": "code",
   "execution_count": 6,
   "metadata": {
    "colab": {
     "base_uri": "https://localhost:8080/"
    },
    "executionInfo": {
     "elapsed": 235,
     "status": "ok",
     "timestamp": 1645792704466,
     "user": {
      "displayName": "Илья Витальевич Тихонов",
      "photoUrl": "https://lh3.googleusercontent.com/a/default-user=s64",
      "userId": "10513119548773881016"
     },
     "user_tz": -180
    },
    "id": "W34SJEpRC2l4",
    "outputId": "b0ca295a-0b99-481d-85b1-bb13abf6d431"
   },
   "outputs": [
    {
     "data": {
      "text/plain": [
       "{'Аня': 100000, 'Петя': 100000}"
      ]
     },
     "execution_count": 6,
     "metadata": {},
     "output_type": "execute_result"
    }
   ],
   "source": [
    "d = {\n",
    "    'зарплаты':{\n",
    "        'Петя':100000, \n",
    "        'Аня':100000,\n",
    "    },\n",
    "    'проекты':['']\n",
    "}\n",
    "\n",
    "d['зарплаты']"
   ]
  },
  {
   "cell_type": "code",
   "execution_count": 7,
   "metadata": {
    "colab": {
     "base_uri": "https://localhost:8080/"
    },
    "executionInfo": {
     "elapsed": 272,
     "status": "ok",
     "timestamp": 1645792731880,
     "user": {
      "displayName": "Илья Витальевич Тихонов",
      "photoUrl": "https://lh3.googleusercontent.com/a/default-user=s64",
      "userId": "10513119548773881016"
     },
     "user_tz": -180
    },
    "id": "dmRMXtn8DHeH",
    "outputId": "a4114db0-538f-4886-ab5f-c1a9e495a7f2"
   },
   "outputs": [
    {
     "data": {
      "text/plain": [
       "100000"
      ]
     },
     "execution_count": 7,
     "metadata": {},
     "output_type": "execute_result"
    }
   ],
   "source": [
    "# уровней вложенности может быть много\n",
    "d['зарплаты']['Аня']"
   ]
  },
  {
   "cell_type": "code",
   "execution_count": 8,
   "metadata": {
    "colab": {
     "base_uri": "https://localhost:8080/",
     "height": 183
    },
    "executionInfo": {
     "elapsed": 221,
     "status": "error",
     "timestamp": 1645792749528,
     "user": {
      "displayName": "Илья Витальевич Тихонов",
      "photoUrl": "https://lh3.googleusercontent.com/a/default-user=s64",
      "userId": "10513119548773881016"
     },
     "user_tz": -180
    },
    "id": "Rajfh9TCDJvH",
    "outputId": "1aa8fa33-2832-4ab3-ac36-a5169293486d"
   },
   "outputs": [
    {
     "ename": "KeyError",
     "evalue": "ignored",
     "output_type": "error",
     "traceback": [
      "\u001b[0;31m---------------------------------------------------------------------------\u001b[0m",
      "\u001b[0;31mKeyError\u001b[0m                                  Traceback (most recent call last)",
      "\u001b[0;32m<ipython-input-8-dfb87493e80f>\u001b[0m in \u001b[0;36m<module>\u001b[0;34m()\u001b[0m\n\u001b[1;32m      1\u001b[0m \u001b[0;31m# чтоб не получать ошибки при обращении к ключам, которых нет\u001b[0m\u001b[0;34m\u001b[0m\u001b[0;34m\u001b[0m\u001b[0;34m\u001b[0m\u001b[0m\n\u001b[0;32m----> 2\u001b[0;31m \u001b[0md\u001b[0m\u001b[0;34m[\u001b[0m\u001b[0;34m'роли'\u001b[0m\u001b[0;34m]\u001b[0m\u001b[0;34m\u001b[0m\u001b[0;34m\u001b[0m\u001b[0m\n\u001b[0m",
      "\u001b[0;31mKeyError\u001b[0m: 'роли'"
     ]
    }
   ],
   "source": [
    "# чтоб не получать ошибки при обращении к ключам, которых нет\n",
    "d['роли']"
   ]
  },
  {
   "cell_type": "code",
   "execution_count": 9,
   "metadata": {
    "colab": {
     "base_uri": "https://localhost:8080/"
    },
    "executionInfo": {
     "elapsed": 240,
     "status": "ok",
     "timestamp": 1645792759670,
     "user": {
      "displayName": "Илья Витальевич Тихонов",
      "photoUrl": "https://lh3.googleusercontent.com/a/default-user=s64",
      "userId": "10513119548773881016"
     },
     "user_tz": -180
    },
    "id": "h6UwrBWWDcZO",
    "outputId": "f9afab48-94f9-40a1-a600-42d2eb6fa801"
   },
   "outputs": [
    {
     "data": {
      "text/plain": [
       "True"
      ]
     },
     "execution_count": 9,
     "metadata": {},
     "output_type": "execute_result"
    }
   ],
   "source": [
    "# можно воспользоваться функцией, которая вернет None, если такого ключа нет\n",
    "d.get('роли') == None # это удобно когда ключей много и постоянно надо обращаться по новым значениям к обновляемому словарю"
   ]
  },
  {
   "cell_type": "code",
   "execution_count": 10,
   "metadata": {
    "executionInfo": {
     "elapsed": 219,
     "status": "ok",
     "timestamp": 1645792767549,
     "user": {
      "displayName": "Илья Витальевич Тихонов",
      "photoUrl": "https://lh3.googleusercontent.com/a/default-user=s64",
      "userId": "10513119548773881016"
     },
     "user_tz": -180
    },
    "id": "_LYn5aDLDpcm"
   },
   "outputs": [],
   "source": [
    "# удаление элемента словаря\n",
    "del d['проекты']"
   ]
  },
  {
   "cell_type": "code",
   "execution_count": null,
   "metadata": {
    "colab": {
     "base_uri": "https://localhost:8080/"
    },
    "executionInfo": {
     "elapsed": 238,
     "status": "ok",
     "timestamp": 1644919438379,
     "user": {
      "displayName": "Илья Витальевич Тихонов",
      "photoUrl": "https://lh3.googleusercontent.com/a/default-user=s64",
      "userId": "10513119548773881016"
     },
     "user_tz": -180
    },
    "id": "lYoXLoyOEE6a",
    "outputId": "b840e18e-864d-44a8-8219-bc806ce7a552"
   },
   "outputs": [
    {
     "data": {
      "text/plain": [
       "{'зарплаты': {'Аня': 100000, 'Петя': 100000}}"
      ]
     },
     "execution_count": 11,
     "metadata": {},
     "output_type": "execute_result"
    }
   ],
   "source": [
    "d"
   ]
  },
  {
   "cell_type": "code",
   "execution_count": 11,
   "metadata": {
    "colab": {
     "base_uri": "https://localhost:8080/"
    },
    "executionInfo": {
     "elapsed": 224,
     "status": "ok",
     "timestamp": 1645792795905,
     "user": {
      "displayName": "Илья Витальевич Тихонов",
      "photoUrl": "https://lh3.googleusercontent.com/a/default-user=s64",
      "userId": "10513119548773881016"
     },
     "user_tz": -180
    },
    "id": "Z7OxvXLpEFIr",
    "outputId": "6b540892-a7e0-4ef8-d256-a0efec60b3a0"
   },
   "outputs": [
    {
     "data": {
      "text/plain": [
       "{'зарплаты': {'Аня': 100000, 'Петя': 100000}}"
      ]
     },
     "execution_count": 11,
     "metadata": {},
     "output_type": "execute_result"
    }
   ],
   "source": [
    "# безопасное удаление элемента словаря\n",
    "d.pop('проекты', None) # ошибка не вызовется, если удаляемого ключа не будет\n",
    "d"
   ]
  },
  {
   "cell_type": "markdown",
   "metadata": {
    "id": "w8eye8kBEU5Z"
   },
   "source": [
    "## Слияние словарей"
   ]
  },
  {
   "cell_type": "markdown",
   "metadata": {
    "id": "GlthLOT3Er_p"
   },
   "source": [
    "\n",
    "Работает оно так: все ключи словаря внутри update, которых нет в словаре d добавляются туда вместе со своими значениями. Значения общих для обоих словарей ключей заменяются на значения из словаря, подаваемого в аргументы update."
   ]
  },
  {
   "cell_type": "code",
   "execution_count": 12,
   "metadata": {
    "colab": {
     "base_uri": "https://localhost:8080/"
    },
    "executionInfo": {
     "elapsed": 220,
     "status": "ok",
     "timestamp": 1645792810202,
     "user": {
      "displayName": "Илья Витальевич Тихонов",
      "photoUrl": "https://lh3.googleusercontent.com/a/default-user=s64",
      "userId": "10513119548773881016"
     },
     "user_tz": -180
    },
    "id": "7OXii6KpEMDq",
    "outputId": "478d67a9-760f-43b5-c010-59de93a26ddb"
   },
   "outputs": [
    {
     "data": {
      "text/plain": [
       "{'зарплаты': {'Аня': 100000, 'Петя': 100000},\n",
       " 'проекты': ['создать нормальную бд']}"
      ]
     },
     "execution_count": 12,
     "metadata": {},
     "output_type": "execute_result"
    }
   ],
   "source": [
    "d.update( {'проекты':['создать нормальную бд']} )\n",
    "d # можно слить ключи и значения обоих словарей"
   ]
  },
  {
   "cell_type": "markdown",
   "metadata": {
    "id": "mqoFGMJIFKDO"
   },
   "source": [
    "## Конвертация в итерируемые объекты"
   ]
  },
  {
   "cell_type": "markdown",
   "metadata": {
    "id": "pQNxMw5hFUnw"
   },
   "source": [
    "Из словаря можно получить ключи:\n"
   ]
  },
  {
   "cell_type": "code",
   "execution_count": 13,
   "metadata": {
    "colab": {
     "base_uri": "https://localhost:8080/"
    },
    "executionInfo": {
     "elapsed": 219,
     "status": "ok",
     "timestamp": 1645792822356,
     "user": {
      "displayName": "Илья Витальевич Тихонов",
      "photoUrl": "https://lh3.googleusercontent.com/a/default-user=s64",
      "userId": "10513119548773881016"
     },
     "user_tz": -180
    },
    "id": "w8ipVjGiEhdK",
    "outputId": "fae08dae-1689-4a07-c651-01264fe4795d"
   },
   "outputs": [
    {
     "data": {
      "text/plain": [
       "dict_keys(['зарплаты', 'проекты'])"
      ]
     },
     "execution_count": 13,
     "metadata": {},
     "output_type": "execute_result"
    }
   ],
   "source": [
    "d.keys()"
   ]
  },
  {
   "cell_type": "code",
   "execution_count": 14,
   "metadata": {
    "colab": {
     "base_uri": "https://localhost:8080/"
    },
    "executionInfo": {
     "elapsed": 234,
     "status": "ok",
     "timestamp": 1645792843559,
     "user": {
      "displayName": "Илья Витальевич Тихонов",
      "photoUrl": "https://lh3.googleusercontent.com/a/default-user=s64",
      "userId": "10513119548773881016"
     },
     "user_tz": -180
    },
    "id": "FW-C2HOdFYtl",
    "outputId": "2163b510-06f0-49d3-dc0f-4119e665ba5a"
   },
   "outputs": [
    {
     "data": {
      "text/plain": [
       "['зарплаты', 'проекты']"
      ]
     },
     "execution_count": 14,
     "metadata": {},
     "output_type": "execute_result"
    }
   ],
   "source": [
    "list(d.keys())"
   ]
  },
  {
   "cell_type": "markdown",
   "metadata": {
    "id": "-DuUZEXlFcVh"
   },
   "source": [
    "Значения:"
   ]
  },
  {
   "cell_type": "code",
   "execution_count": 15,
   "metadata": {
    "colab": {
     "base_uri": "https://localhost:8080/"
    },
    "executionInfo": {
     "elapsed": 2,
     "status": "ok",
     "timestamp": 1645792853210,
     "user": {
      "displayName": "Илья Витальевич Тихонов",
      "photoUrl": "https://lh3.googleusercontent.com/a/default-user=s64",
      "userId": "10513119548773881016"
     },
     "user_tz": -180
    },
    "id": "X67Qk6ItFaid",
    "outputId": "7446abe8-9ce8-4601-ae98-4f3158f9c1ff"
   },
   "outputs": [
    {
     "data": {
      "text/plain": [
       "dict_values([{'Петя': 100000, 'Аня': 100000}, ['создать нормальную бд']])"
      ]
     },
     "execution_count": 15,
     "metadata": {},
     "output_type": "execute_result"
    }
   ],
   "source": [
    "d.values()"
   ]
  },
  {
   "cell_type": "code",
   "execution_count": 16,
   "metadata": {
    "colab": {
     "base_uri": "https://localhost:8080/"
    },
    "executionInfo": {
     "elapsed": 250,
     "status": "ok",
     "timestamp": 1645792857175,
     "user": {
      "displayName": "Илья Витальевич Тихонов",
      "photoUrl": "https://lh3.googleusercontent.com/a/default-user=s64",
      "userId": "10513119548773881016"
     },
     "user_tz": -180
    },
    "id": "yD9wLg_5FfQ8",
    "outputId": "5722ba57-5079-4404-9b04-16cde382902c"
   },
   "outputs": [
    {
     "data": {
      "text/plain": [
       "[{'Аня': 100000, 'Петя': 100000}, ['создать нормальную бд']]"
      ]
     },
     "execution_count": 16,
     "metadata": {},
     "output_type": "execute_result"
    }
   ],
   "source": [
    "list(d.values())"
   ]
  },
  {
   "cell_type": "markdown",
   "metadata": {
    "id": "qDP4F3mfFhK1"
   },
   "source": [
    "Пары (кортежи) ключ-значение:\n"
   ]
  },
  {
   "cell_type": "code",
   "execution_count": 17,
   "metadata": {
    "colab": {
     "base_uri": "https://localhost:8080/"
    },
    "executionInfo": {
     "elapsed": 234,
     "status": "ok",
     "timestamp": 1645792859839,
     "user": {
      "displayName": "Илья Витальевич Тихонов",
      "photoUrl": "https://lh3.googleusercontent.com/a/default-user=s64",
      "userId": "10513119548773881016"
     },
     "user_tz": -180
    },
    "id": "1OA5lfKAFgdc",
    "outputId": "d2cd2a6f-787e-42d9-e5c3-db8ea17661ed"
   },
   "outputs": [
    {
     "data": {
      "text/plain": [
       "dict_items([('зарплаты', {'Петя': 100000, 'Аня': 100000}), ('проекты', ['создать нормальную бд'])])"
      ]
     },
     "execution_count": 17,
     "metadata": {},
     "output_type": "execute_result"
    }
   ],
   "source": [
    "d.items()"
   ]
  },
  {
   "cell_type": "code",
   "execution_count": null,
   "metadata": {
    "colab": {
     "base_uri": "https://localhost:8080/"
    },
    "executionInfo": {
     "elapsed": 253,
     "status": "ok",
     "timestamp": 1644919539996,
     "user": {
      "displayName": "Илья Витальевич Тихонов",
      "photoUrl": "https://lh3.googleusercontent.com/a/default-user=s64",
      "userId": "10513119548773881016"
     },
     "user_tz": -180
    },
    "id": "KBqzw2XqFkbE",
    "outputId": "22c6bef3-ba4b-451b-c52d-e916c42ab67d"
   },
   "outputs": [
    {
     "data": {
      "text/plain": [
       "[('зарплаты', {'Аня': 100000, 'Петя': 100000}),\n",
       " ('проекты', ['создать нормальную бд'])]"
      ]
     },
     "execution_count": 19,
     "metadata": {},
     "output_type": "execute_result"
    }
   ],
   "source": [
    "list(d.items())"
   ]
  },
  {
   "cell_type": "markdown",
   "metadata": {
    "id": "0LiDafDdFn1v"
   },
   "source": [
    "## **dict comprehensions**\n",
    "\n",
    "Еще один способ объявления словаря: создадим словарь, где каждому целому числу от 0 до 6 поставим в соответствие квадрат этого числа:"
   ]
  },
  {
   "cell_type": "code",
   "execution_count": 18,
   "metadata": {
    "colab": {
     "base_uri": "https://localhost:8080/"
    },
    "executionInfo": {
     "elapsed": 216,
     "status": "ok",
     "timestamp": 1645792890708,
     "user": {
      "displayName": "Илья Витальевич Тихонов",
      "photoUrl": "https://lh3.googleusercontent.com/a/default-user=s64",
      "userId": "10513119548773881016"
     },
     "user_tz": -180
    },
    "id": "AxjB4FtbFlo8",
    "outputId": "ee82250e-2206-4d78-dc7a-8b11be9806a6"
   },
   "outputs": [
    {
     "data": {
      "text/plain": [
       "{0: 0, 1: 1, 2: 4, 3: 9, 4: 16, 5: 25, 6: 36}"
      ]
     },
     "execution_count": 18,
     "metadata": {},
     "output_type": "execute_result"
    }
   ],
   "source": [
    "d = {a: a ** 2 for a in range(7)}\n",
    "d"
   ]
  },
  {
   "cell_type": "markdown",
   "metadata": {
    "id": "v0jycY1H5eFo"
   },
   "source": [
    "## Методы"
   ]
  },
  {
   "cell_type": "markdown",
   "metadata": {
    "id": "xgXoqVxP5hfF"
   },
   "source": [
    "### Копия словаря"
   ]
  },
  {
   "cell_type": "code",
   "execution_count": 19,
   "metadata": {
    "colab": {
     "base_uri": "https://localhost:8080/"
    },
    "executionInfo": {
     "elapsed": 246,
     "status": "ok",
     "timestamp": 1645792901170,
     "user": {
      "displayName": "Илья Витальевич Тихонов",
      "photoUrl": "https://lh3.googleusercontent.com/a/default-user=s64",
      "userId": "10513119548773881016"
     },
     "user_tz": -180
    },
    "id": "Uj5ZmvqMFuZM",
    "outputId": "f03f0434-71ad-4922-c792-20c32e74480d"
   },
   "outputs": [
    {
     "data": {
      "text/plain": [
       "{0: 0, 1: 1, 2: 4, 3: 9, 4: 16, 5: 25, 6: 36}"
      ]
     },
     "execution_count": 19,
     "metadata": {},
     "output_type": "execute_result"
    }
   ],
   "source": [
    "d_copy = d.copy()\n",
    "\n",
    "d_copy"
   ]
  },
  {
   "cell_type": "markdown",
   "metadata": {
    "id": "8fQT2fz65kxH"
   },
   "source": [
    "### Очистка элементы"
   ]
  },
  {
   "cell_type": "code",
   "execution_count": 20,
   "metadata": {
    "colab": {
     "base_uri": "https://localhost:8080/"
    },
    "executionInfo": {
     "elapsed": 221,
     "status": "ok",
     "timestamp": 1645792903222,
     "user": {
      "displayName": "Илья Витальевич Тихонов",
      "photoUrl": "https://lh3.googleusercontent.com/a/default-user=s64",
      "userId": "10513119548773881016"
     },
     "user_tz": -180
    },
    "id": "ORgukPCm5ZS3",
    "outputId": "d8c415de-b26d-4066-8f01-64e78426f8d6"
   },
   "outputs": [
    {
     "data": {
      "text/plain": [
       "{}"
      ]
     },
     "execution_count": 20,
     "metadata": {},
     "output_type": "execute_result"
    }
   ],
   "source": [
    "d_copy.clear()\n",
    "d_copy"
   ]
  },
  {
   "cell_type": "markdown",
   "metadata": {
    "id": "vyNBr-T05rJl"
   },
   "source": [
    "### Удаление"
   ]
  },
  {
   "cell_type": "markdown",
   "metadata": {
    "id": "8BwFCBii6Kb3"
   },
   "source": [
    "Удаление ключа, возвращает значение:"
   ]
  },
  {
   "cell_type": "code",
   "execution_count": 21,
   "metadata": {
    "colab": {
     "base_uri": "https://localhost:8080/"
    },
    "executionInfo": {
     "elapsed": 239,
     "status": "ok",
     "timestamp": 1645792917521,
     "user": {
      "displayName": "Илья Витальевич Тихонов",
      "photoUrl": "https://lh3.googleusercontent.com/a/default-user=s64",
      "userId": "10513119548773881016"
     },
     "user_tz": -180
    },
    "id": "lu5n1hp-5wyu",
    "outputId": "06186a92-1630-47d6-bc42-338ad2335bb7"
   },
   "outputs": [
    {
     "data": {
      "text/plain": [
       "0"
      ]
     },
     "execution_count": 21,
     "metadata": {},
     "output_type": "execute_result"
    }
   ],
   "source": [
    "d.pop(0)"
   ]
  },
  {
   "cell_type": "markdown",
   "metadata": {
    "id": "kCiVX02G6BWQ"
   },
   "source": [
    "Удаляем элемент, возвращая пару ключ-значения:"
   ]
  },
  {
   "cell_type": "code",
   "execution_count": 22,
   "metadata": {
    "colab": {
     "base_uri": "https://localhost:8080/"
    },
    "executionInfo": {
     "elapsed": 258,
     "status": "ok",
     "timestamp": 1645792920268,
     "user": {
      "displayName": "Илья Витальевич Тихонов",
      "photoUrl": "https://lh3.googleusercontent.com/a/default-user=s64",
      "userId": "10513119548773881016"
     },
     "user_tz": -180
    },
    "id": "ywfgcFvK52Jh",
    "outputId": "b839b488-5a14-4453-f21c-ba21aa7e0d2b"
   },
   "outputs": [
    {
     "data": {
      "text/plain": [
       "(6, 36)"
      ]
     },
     "execution_count": 22,
     "metadata": {},
     "output_type": "execute_result"
    }
   ],
   "source": [
    "d.popitem()"
   ]
  },
  {
   "cell_type": "code",
   "execution_count": null,
   "metadata": {
    "id": "_4phhJTw5_tQ"
   },
   "outputs": [],
   "source": []
  }
 ],
 "metadata": {
  "colab": {
   "authorship_tag": "ABX9TyNBKro528BOZrICDCcFRQHm",
   "collapsed_sections": [],
   "name": "Урок 3.4.ipynb",
   "provenance": [],
   "toc_visible": true
  },
  "kernelspec": {
   "display_name": "Python 3 (ipykernel)",
   "language": "python",
   "name": "python3"
  },
  "language_info": {
   "codemirror_mode": {
    "name": "ipython",
    "version": 3
   },
   "file_extension": ".py",
   "mimetype": "text/x-python",
   "name": "python",
   "nbconvert_exporter": "python",
   "pygments_lexer": "ipython3",
   "version": "3.9.12"
  }
 },
 "nbformat": 4,
 "nbformat_minor": 1
}
