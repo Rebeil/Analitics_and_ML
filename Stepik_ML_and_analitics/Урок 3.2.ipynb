{
 "cells": [
  {
   "cell_type": "markdown",
   "metadata": {
    "id": "AkAv47FL2ccd"
   },
   "source": [
    "## Функция range\n",
    "\n",
    "\n",
    "Кроме создания списка перечислением его элементов еще один способ предоставляет функция range. Ее синтаксис: range([start,] stop[,step])\n",
    "\n",
    "Параметры start, stop, step целые числа ($step \\neq 0$).\n",
    "\n",
    "Результат выполнения функции range при положительном (отрицательном) значении параметра step последовательность целых чисел, элементов арифметической прогрессии ${a_n}$ с начальным элементом, равным числу start, с разностью $step$ и таких, что $start \\leq a_i < stop (stop \\leq a_i < start)$.\n",
    "\n",
    "Если указаны только два параметра, то считается, что первый это start, а второй stop, параметр step равен\n",
    "\n",
    "Если указан один параметр, считается, что это параметр stop, а параметры start и step по 1умолчанию принимаются равными 0 и 1 соответственно.\n",
    "\n",
    "Таким образом синтаксис range очень напоминает слайсинг: с какого элемента включительно, по какой не включая, с каким шагов - все целые числа. Если они не указаны, то по умолчанию считается, что с 0 по последний, с шагом 1."
   ]
  },
  {
   "cell_type": "code",
   "execution_count": null,
   "metadata": {
    "id": "2hShdqct2Vw-"
   },
   "outputs": [],
   "source": [
    "# явное приведение типов указыается т.к. ragne - генератор, который может быть вызван в цикле\n",
    "# если указан 1 аргумент - значит до какого (не включая)\n",
    "list(range(10))"
   ]
  },
  {
   "cell_type": "code",
   "execution_count": null,
   "metadata": {
    "id": "vCfaQXAJ2esM"
   },
   "outputs": [],
   "source": [
    "# если указано 2, то с какого (включая) по какой (не включая)\n",
    "list(range(2, 6))"
   ]
  },
  {
   "cell_type": "code",
   "execution_count": null,
   "metadata": {
    "id": "9OTYgU_f2fjj"
   },
   "outputs": [],
   "source": [
    "# если указано 3, то с какого (включая) по какой (не включая) с каким шагом\n",
    "list(range(3, 11, 2))"
   ]
  },
  {
   "cell_type": "markdown",
   "metadata": {
    "id": "V7iilA1J2gcx"
   },
   "source": [
    "Допустим, вы хотите написать цикл, который бы отработал 100 раз. Можно сделать это следующим образом:\n",
    "\n",
    "```\n",
    "i = 0\n",
    "while i < 100:\n",
    "    i += 1\n",
    "    <code>\n",
    "```\n",
    "\n",
    "но это неудобно: нужно завести вспомогательную переменную i, написать лишние 2 строчки кода (i=0 и i+=1). Так код терядет в понятности и читабельности. Гораздо проще записать этот цикл с помощью range:"
   ]
  },
  {
   "cell_type": "code",
   "execution_count": null,
   "metadata": {
    "id": "nDj1cItJ2gmb"
   },
   "outputs": [],
   "source": [
    "for i in range(10):\n",
    "    print(i)"
   ]
  },
  {
   "cell_type": "markdown",
   "metadata": {
    "id": "ckicLGNl2ihT"
   },
   "source": [
    "Можно заметить, что если вы знаете длину, например, списка, то генерируемые в переменную i целые числа - индексы элементов этого списка."
   ]
  },
  {
   "cell_type": "code",
   "execution_count": null,
   "metadata": {
    "id": "KBfbCjZZ2iqT"
   },
   "outputs": [],
   "source": [
    "# создадим list элементов\n",
    "models = ['decision tree', 'linear model', 'svm', 'ensemble']\n",
    "\n",
    "# итерируемся по индексам массива models\n",
    "for i in range(len(models)):\n",
    "    # тут если вы поменяете models[i], то значение в models тоже изменится\n",
    "    print(models[i])\n",
    "    \n",
    "# этот код уже будет выполняться ПОСЛЕ цикла, потому что он записан без отступа в 4 пробела после for:\n",
    "print(\"Done\")"
   ]
  },
  {
   "cell_type": "code",
   "execution_count": null,
   "metadata": {
    "id": "thh2_3Ha2knO"
   },
   "outputs": [],
   "source": [
    "# создадим list элементов\n",
    "models = ['decision tree', 'linear model', 'svm', 'ensemble']\n",
    "\n",
    "# итерируемся по индексам массива models\n",
    "for i in range(len(models)):\n",
    "    # для примера поменяем немного models\n",
    "    models[i] += ' - алгоритм машинного обучнения'\n",
    "    \n",
    "# этот код уже будет выполняться ПОСЛЕ цикла, потому что он записан без отступа в 4 пробела после for:\n",
    "print(\"Done\")"
   ]
  },
  {
   "cell_type": "code",
   "execution_count": null,
   "metadata": {
    "id": "9WEn8VKT2maH"
   },
   "outputs": [],
   "source": [
    "# мы в цикле обратились к нашим переменным и дописали к их значениям\n",
    "# фразу \" - алгоритм машинного обучнения\"\n",
    "models"
   ]
  },
  {
   "cell_type": "markdown",
   "metadata": {
    "id": "lbCING8b2nbA"
   },
   "source": [
    "## enumerate, zip\n"
   ]
  },
  {
   "cell_type": "markdown",
   "metadata": {
    "id": "Ok3X6PAZ2onA"
   },
   "source": [
    "Крайне полезные встроенные функции!\n",
    "\n",
    "`zip()` принимает два и больше iterable аргумента и возвращает iterable из пар соответствующих элементов этих двух iterable:"
   ]
  },
  {
   "cell_type": "code",
   "execution_count": null,
   "metadata": {
    "id": "Iinzp6Ai2oy6"
   },
   "outputs": [],
   "source": [
    "first = 'a b c d e f g'.split(' ')\n",
    "second = '1 2 3 4 5 6 7'.split(' ')\n",
    "\n",
    "list(zip(first, second, first))"
   ]
  },
  {
   "cell_type": "markdown",
   "metadata": {
    "id": "dTngq63w2qdu"
   },
   "source": [
    "Что будет, если один из iterable короче, чем другой:"
   ]
  },
  {
   "cell_type": "code",
   "execution_count": null,
   "metadata": {
    "id": "zAHGnyMF2reo"
   },
   "outputs": [],
   "source": [
    "# обрежется под наименьший:\n",
    "first = 'a b c d e f g'.split(' ')\n",
    "second = '1 2 3 4 5'.split(' ')\n",
    "\n",
    "list(zip(first, second))"
   ]
  },
  {
   "cell_type": "markdown",
   "metadata": {
    "id": "WCszsTxH2sb2"
   },
   "source": [
    "Это опять же полезно для использования в циклах:"
   ]
  },
  {
   "cell_type": "code",
   "execution_count": null,
   "metadata": {
    "id": "1dhm66G42sl6"
   },
   "outputs": [],
   "source": [
    "models = ['decision tree', 'linear model', 'svm', 'ensemble']\n",
    "\n",
    "# zip dвозвращает пару элементов, которые можно записать в 2 разные переменные в цикле for. \n",
    "# например, здесб мы записываем первый элемент пары в num, второй -- в model.\n",
    "for num, model in zip(range(len(models)), models):\n",
    "    print(num + 1, 'model is:', model)"
   ]
  },
  {
   "cell_type": "markdown",
   "metadata": {
    "id": "OlD6yv892uEG"
   },
   "source": [
    "Однако в этом коде мы хотели просто пронумеровать элементы списка models, но нам для этого пришлось писать zip(range(...))\n",
    "\n",
    "Именно для такого случая, когда надо пронумервать элементы какого-то iterable, существует функция `enumerate`:\n",
    "\n",
    "`enumerate(iterable)` возвращает пары номер-элемент iterable:"
   ]
  },
  {
   "cell_type": "code",
   "execution_count": null,
   "metadata": {
    "id": "xaPrjVia2uOS"
   },
   "outputs": [],
   "source": [
    "models = ['decision tree', 'linear model', 'svm', 'ensemble']\n",
    "\n",
    "# zip dвозвращает пару элементов, которые можно записать в 2 разные переменные в цикле for. \n",
    "# например, здесб мы записываем первый элемент пары в num, второй -- в model.\n",
    "for num, model in enumerate(models):\n",
    "    # такой синтаксис форматирования удобнее практики через .format()\n",
    "    # назвается f строка\n",
    "    # значения всех переменных, что в фигурных скобках, будут отображены как цельная строра\n",
    "    print(f'number: {num} model: {model}')"
   ]
  },
  {
   "cell_type": "markdown",
   "metadata": {
    "id": "2frJAqLw2xw6"
   },
   "source": [
    "## Генератор списокв"
   ]
  },
  {
   "cell_type": "markdown",
   "metadata": {
    "id": "4kaUL8rH2yuq"
   },
   "source": [
    "Рассмотрим код, корый находит квадраты целых чисел от 1 до 100 и добавляет их в массив:"
   ]
  },
  {
   "cell_type": "code",
   "execution_count": null,
   "metadata": {
    "id": "_IK-nmjw2y1S"
   },
   "outputs": [],
   "source": [
    "result = []\n",
    "\n",
    "for i in range(1, 101):\n",
    "    result.append(i**3)\n",
    "\n",
    "# отобразим последние 5 значений с помощью слайсинга\n",
    "result[-5:]"
   ]
  },
  {
   "cell_type": "markdown",
   "metadata": {
    "id": "2Ks2EP-H2z5i"
   },
   "source": [
    "Есть ли способ реализовать этот код лаконичнее и чуть быстрее? \n",
    "\n",
    "Да, в этом нам помогут генарторы списков. Конструкция содержит ту же конструкцию цикла for, но результат операций с i будет записан слева от выражения. Такая синтаксическая конструкция позволяет заполнять списки по заданным правилам и называется генератором списков или list comprehension:"
   ]
  },
  {
   "cell_type": "code",
   "execution_count": null,
   "metadata": {
    "id": "onB04y9O20CC"
   },
   "outputs": [],
   "source": [
    "# всего одна строка\n",
    "result = [i**3 for i in range(1, 100)]\n",
    "# тот же результат\n",
    "result[-5:]"
   ]
  },
  {
   "cell_type": "markdown",
   "metadata": {
    "id": "0zo7mscm21hS"
   },
   "source": [
    "Более сложный пример генератора:"
   ]
  },
  {
   "cell_type": "code",
   "execution_count": null,
   "metadata": {
    "id": "4IyIR2fO218C"
   },
   "outputs": [],
   "source": [
    "# генератор может выглядеть сложнее\n",
    "result = [(value, value-i) for i, value in enumerate([100]*100)]\n",
    "result"
   ]
  }
 ],
 "metadata": {
  "colab": {
   "authorship_tag": "ABX9TyMFo942P43b8szWdN2JYswE",
   "collapsed_sections": [],
   "name": "Урок 3.2.ipynb",
   "provenance": []
  },
  "kernelspec": {
   "display_name": "Python 3 (ipykernel)",
   "language": "python",
   "name": "python3"
  },
  "language_info": {
   "codemirror_mode": {
    "name": "ipython",
    "version": 3
   },
   "file_extension": ".py",
   "mimetype": "text/x-python",
   "name": "python",
   "nbconvert_exporter": "python",
   "pygments_lexer": "ipython3",
   "version": "3.9.12"
  }
 },
 "nbformat": 4,
 "nbformat_minor": 1
}
